{
 "cells": [
  {
   "cell_type": "code",
   "execution_count": 66,
   "metadata": {},
   "outputs": [],
   "source": [
    "import numpy as np\n",
    "import pandas as pd\n",
    "import matplotlib.pyplot as plt\n",
    "import seaborn as sns\n",
    "import warnings\n",
    "warnings.filterwarnings(\"ignore\")"
   ]
  },
  {
   "cell_type": "markdown",
   "metadata": {},
   "source": [
    "## Data Importing"
   ]
  },
  {
   "cell_type": "code",
   "execution_count": 71,
   "metadata": {},
   "outputs": [
    {
     "data": {
      "text/html": [
       "<div>\n",
       "<style scoped>\n",
       "    .dataframe tbody tr th:only-of-type {\n",
       "        vertical-align: middle;\n",
       "    }\n",
       "\n",
       "    .dataframe tbody tr th {\n",
       "        vertical-align: top;\n",
       "    }\n",
       "\n",
       "    .dataframe thead th {\n",
       "        text-align: right;\n",
       "    }\n",
       "</style>\n",
       "<table border=\"1\" class=\"dataframe\">\n",
       "  <thead>\n",
       "    <tr style=\"text-align: right;\">\n",
       "      <th></th>\n",
       "      <th>Indicator</th>\n",
       "      <th>Country</th>\n",
       "      <th>Date</th>\n",
       "      <th>value</th>\n",
       "    </tr>\n",
       "  </thead>\n",
       "  <tbody>\n",
       "    <tr>\n",
       "      <th>0</th>\n",
       "      <td>Cumulative number of confirmed, probable and s...</td>\n",
       "      <td>Guinea</td>\n",
       "      <td>2015-03-10</td>\n",
       "      <td>3285.0</td>\n",
       "    </tr>\n",
       "    <tr>\n",
       "      <th>1</th>\n",
       "      <td>Cumulative number of confirmed Ebola cases</td>\n",
       "      <td>Guinea</td>\n",
       "      <td>2015-03-10</td>\n",
       "      <td>2871.0</td>\n",
       "    </tr>\n",
       "    <tr>\n",
       "      <th>2</th>\n",
       "      <td>Cumulative number of probable Ebola cases</td>\n",
       "      <td>Guinea</td>\n",
       "      <td>2015-03-10</td>\n",
       "      <td>392.0</td>\n",
       "    </tr>\n",
       "    <tr>\n",
       "      <th>3</th>\n",
       "      <td>Cumulative number of suspected Ebola cases</td>\n",
       "      <td>Guinea</td>\n",
       "      <td>2015-03-10</td>\n",
       "      <td>22.0</td>\n",
       "    </tr>\n",
       "    <tr>\n",
       "      <th>4</th>\n",
       "      <td>Cumulative number of confirmed, probable and s...</td>\n",
       "      <td>Guinea</td>\n",
       "      <td>2015-03-10</td>\n",
       "      <td>2170.0</td>\n",
       "    </tr>\n",
       "    <tr>\n",
       "      <th>5</th>\n",
       "      <td>Cumulative number of confirmed Ebola deaths</td>\n",
       "      <td>Guinea</td>\n",
       "      <td>2015-03-10</td>\n",
       "      <td>1778.0</td>\n",
       "    </tr>\n",
       "    <tr>\n",
       "      <th>6</th>\n",
       "      <td>Cumulative number of probable Ebola deaths</td>\n",
       "      <td>Guinea</td>\n",
       "      <td>2015-03-10</td>\n",
       "      <td>392.0</td>\n",
       "    </tr>\n",
       "    <tr>\n",
       "      <th>7</th>\n",
       "      <td>Cumulative number of confirmed, probable and s...</td>\n",
       "      <td>Liberia</td>\n",
       "      <td>2015-03-10</td>\n",
       "      <td>9343.0</td>\n",
       "    </tr>\n",
       "    <tr>\n",
       "      <th>8</th>\n",
       "      <td>Cumulative number of confirmed Ebola cases</td>\n",
       "      <td>Liberia</td>\n",
       "      <td>2015-03-10</td>\n",
       "      <td>3150.0</td>\n",
       "    </tr>\n",
       "    <tr>\n",
       "      <th>9</th>\n",
       "      <td>Cumulative number of probable Ebola cases</td>\n",
       "      <td>Liberia</td>\n",
       "      <td>2015-03-10</td>\n",
       "      <td>1879.0</td>\n",
       "    </tr>\n",
       "  </tbody>\n",
       "</table>\n",
       "</div>"
      ],
      "text/plain": [
       "                                           Indicator  Country        Date  \\\n",
       "0  Cumulative number of confirmed, probable and s...   Guinea  2015-03-10   \n",
       "1         Cumulative number of confirmed Ebola cases   Guinea  2015-03-10   \n",
       "2          Cumulative number of probable Ebola cases   Guinea  2015-03-10   \n",
       "3         Cumulative number of suspected Ebola cases   Guinea  2015-03-10   \n",
       "4  Cumulative number of confirmed, probable and s...   Guinea  2015-03-10   \n",
       "5        Cumulative number of confirmed Ebola deaths   Guinea  2015-03-10   \n",
       "6         Cumulative number of probable Ebola deaths   Guinea  2015-03-10   \n",
       "7  Cumulative number of confirmed, probable and s...  Liberia  2015-03-10   \n",
       "8         Cumulative number of confirmed Ebola cases  Liberia  2015-03-10   \n",
       "9          Cumulative number of probable Ebola cases  Liberia  2015-03-10   \n",
       "\n",
       "    value  \n",
       "0  3285.0  \n",
       "1  2871.0  \n",
       "2   392.0  \n",
       "3    22.0  \n",
       "4  2170.0  \n",
       "5  1778.0  \n",
       "6   392.0  \n",
       "7  9343.0  \n",
       "8  3150.0  \n",
       "9  1879.0  "
      ]
     },
     "execution_count": 71,
     "metadata": {},
     "output_type": "execute_result"
    }
   ],
   "source": [
    "df = pd.read_csv('./datas/ebola.csv')\n",
    "df.head(10)"
   ]
  },
  {
   "cell_type": "code",
   "execution_count": 72,
   "metadata": {},
   "outputs": [
    {
     "data": {
      "text/html": [
       "<div>\n",
       "<style scoped>\n",
       "    .dataframe tbody tr th:only-of-type {\n",
       "        vertical-align: middle;\n",
       "    }\n",
       "\n",
       "    .dataframe tbody tr th {\n",
       "        vertical-align: top;\n",
       "    }\n",
       "\n",
       "    .dataframe thead th {\n",
       "        text-align: right;\n",
       "    }\n",
       "</style>\n",
       "<table border=\"1\" class=\"dataframe\">\n",
       "  <thead>\n",
       "    <tr style=\"text-align: right;\">\n",
       "      <th></th>\n",
       "      <th>Indicator</th>\n",
       "      <th>Country</th>\n",
       "      <th>Date</th>\n",
       "      <th>value</th>\n",
       "    </tr>\n",
       "  </thead>\n",
       "  <tbody>\n",
       "    <tr>\n",
       "      <th>17575</th>\n",
       "      <td>Cumulative number of suspected Ebola deaths</td>\n",
       "      <td>Senegal</td>\n",
       "      <td>2016-03-23</td>\n",
       "      <td>0.0</td>\n",
       "    </tr>\n",
       "    <tr>\n",
       "      <th>17576</th>\n",
       "      <td>Cumulative number of confirmed, probable and s...</td>\n",
       "      <td>Senegal</td>\n",
       "      <td>2016-03-23</td>\n",
       "      <td>0.0</td>\n",
       "    </tr>\n",
       "    <tr>\n",
       "      <th>17577</th>\n",
       "      <td>Cumulative number of confirmed Ebola deaths</td>\n",
       "      <td>Spain</td>\n",
       "      <td>2016-03-23</td>\n",
       "      <td>0.0</td>\n",
       "    </tr>\n",
       "    <tr>\n",
       "      <th>17578</th>\n",
       "      <td>Cumulative number of probable Ebola deaths</td>\n",
       "      <td>Spain</td>\n",
       "      <td>2016-03-23</td>\n",
       "      <td>0.0</td>\n",
       "    </tr>\n",
       "    <tr>\n",
       "      <th>17579</th>\n",
       "      <td>Cumulative number of suspected Ebola deaths</td>\n",
       "      <td>Spain</td>\n",
       "      <td>2016-03-23</td>\n",
       "      <td>0.0</td>\n",
       "    </tr>\n",
       "    <tr>\n",
       "      <th>17580</th>\n",
       "      <td>Cumulative number of confirmed, probable and s...</td>\n",
       "      <td>Spain</td>\n",
       "      <td>2016-03-23</td>\n",
       "      <td>0.0</td>\n",
       "    </tr>\n",
       "    <tr>\n",
       "      <th>17581</th>\n",
       "      <td>Cumulative number of confirmed Ebola deaths</td>\n",
       "      <td>United States of America</td>\n",
       "      <td>2016-03-23</td>\n",
       "      <td>1.0</td>\n",
       "    </tr>\n",
       "    <tr>\n",
       "      <th>17582</th>\n",
       "      <td>Cumulative number of probable Ebola deaths</td>\n",
       "      <td>United States of America</td>\n",
       "      <td>2016-03-23</td>\n",
       "      <td>0.0</td>\n",
       "    </tr>\n",
       "    <tr>\n",
       "      <th>17583</th>\n",
       "      <td>Cumulative number of suspected Ebola deaths</td>\n",
       "      <td>United States of America</td>\n",
       "      <td>2016-03-23</td>\n",
       "      <td>0.0</td>\n",
       "    </tr>\n",
       "    <tr>\n",
       "      <th>17584</th>\n",
       "      <td>Cumulative number of confirmed, probable and s...</td>\n",
       "      <td>United States of America</td>\n",
       "      <td>2016-03-23</td>\n",
       "      <td>1.0</td>\n",
       "    </tr>\n",
       "  </tbody>\n",
       "</table>\n",
       "</div>"
      ],
      "text/plain": [
       "                                               Indicator  \\\n",
       "17575        Cumulative number of suspected Ebola deaths   \n",
       "17576  Cumulative number of confirmed, probable and s...   \n",
       "17577        Cumulative number of confirmed Ebola deaths   \n",
       "17578         Cumulative number of probable Ebola deaths   \n",
       "17579        Cumulative number of suspected Ebola deaths   \n",
       "17580  Cumulative number of confirmed, probable and s...   \n",
       "17581        Cumulative number of confirmed Ebola deaths   \n",
       "17582         Cumulative number of probable Ebola deaths   \n",
       "17583        Cumulative number of suspected Ebola deaths   \n",
       "17584  Cumulative number of confirmed, probable and s...   \n",
       "\n",
       "                        Country        Date  value  \n",
       "17575                   Senegal  2016-03-23    0.0  \n",
       "17576                   Senegal  2016-03-23    0.0  \n",
       "17577                     Spain  2016-03-23    0.0  \n",
       "17578                     Spain  2016-03-23    0.0  \n",
       "17579                     Spain  2016-03-23    0.0  \n",
       "17580                     Spain  2016-03-23    0.0  \n",
       "17581  United States of America  2016-03-23    1.0  \n",
       "17582  United States of America  2016-03-23    0.0  \n",
       "17583  United States of America  2016-03-23    0.0  \n",
       "17584  United States of America  2016-03-23    1.0  "
      ]
     },
     "execution_count": 72,
     "metadata": {},
     "output_type": "execute_result"
    }
   ],
   "source": [
    "df.tail(10)"
   ]
  },
  {
   "cell_type": "code",
   "execution_count": 70,
   "metadata": {},
   "outputs": [
    {
     "ename": "TypeError",
     "evalue": "'int' object is not callable",
     "output_type": "error",
     "traceback": [
      "\u001b[0;31m---------------------------------------------------------------------------\u001b[0m",
      "\u001b[0;31mTypeError\u001b[0m                                 Traceback (most recent call last)",
      "Cell \u001b[0;32mIn[70], line 1\u001b[0m\n\u001b[0;32m----> 1\u001b[0m \u001b[38;5;28mlen\u001b[39m(df)\n",
      "\u001b[0;31mTypeError\u001b[0m: 'int' object is not callable"
     ]
    }
   ],
   "source": [
    "len(df)"
   ]
  },
  {
   "cell_type": "markdown",
   "metadata": {},
   "source": [
    "## Data Preprocessing"
   ]
  },
  {
   "cell_type": "markdown",
   "metadata": {},
   "source": [
    "### 1. Mengecek apakah ada nilai NA didalam tabel tersebut"
   ]
  },
  {
   "cell_type": "code",
   "execution_count": null,
   "metadata": {},
   "outputs": [
    {
     "data": {
      "text/plain": [
       "Indicator    0\n",
       "Country      0\n",
       "Date         0\n",
       "value        0\n",
       "dtype: int64"
      ]
     },
     "execution_count": 1200,
     "metadata": {},
     "output_type": "execute_result"
    }
   ],
   "source": [
    "df.isna().sum()"
   ]
  },
  {
   "cell_type": "markdown",
   "metadata": {},
   "source": [
    "##### Tidak terdapat Nilai NA pada tabel tersebut"
   ]
  },
  {
   "cell_type": "markdown",
   "metadata": {},
   "source": [
    "### 2. Mengecek apakah type data dalam tabel tersebut sudah sesuai"
   ]
  },
  {
   "cell_type": "code",
   "execution_count": null,
   "metadata": {},
   "outputs": [
    {
     "name": "stdout",
     "output_type": "stream",
     "text": [
      "<class 'pandas.core.frame.DataFrame'>\n",
      "RangeIndex: 17585 entries, 0 to 17584\n",
      "Data columns (total 4 columns):\n",
      " #   Column     Non-Null Count  Dtype         \n",
      "---  ------     --------------  -----         \n",
      " 0   Indicator  17585 non-null  object        \n",
      " 1   Country    17585 non-null  object        \n",
      " 2   Date       17585 non-null  datetime64[ns]\n",
      " 3   value      17585 non-null  float64       \n",
      "dtypes: datetime64[ns](1), float64(1), object(2)\n",
      "memory usage: 549.7+ KB\n"
     ]
    }
   ],
   "source": [
    "df[\"Date\"] = pd.to_datetime(df[\"Date\"], format = \"%Y-%m-%d\")\n",
    "df.info()"
   ]
  },
  {
   "cell_type": "markdown",
   "metadata": {},
   "source": [
    "#### Type data setiap column sudah sesuai"
   ]
  },
  {
   "cell_type": "markdown",
   "metadata": {},
   "source": [
    "### 3. Karena Indicator berbeda-beda kita lihat berapa banyak nilai unik dalam kolom tersebut"
   ]
  },
  {
   "cell_type": "code",
   "execution_count": null,
   "metadata": {},
   "outputs": [
    {
     "data": {
      "text/plain": [
       "36"
      ]
     },
     "execution_count": 1202,
     "metadata": {},
     "output_type": "execute_result"
    }
   ],
   "source": [
    "df[\"Indicator\"].nunique()"
   ]
  },
  {
   "cell_type": "markdown",
   "metadata": {},
   "source": [
    "##### Terdapat 36 nilai unik pada kolom \"Indicator\""
   ]
  },
  {
   "cell_type": "markdown",
   "metadata": {},
   "source": [
    "### 4. Mengetahui indicator mana yang paling banyak digunakan"
   ]
  },
  {
   "cell_type": "code",
   "execution_count": null,
   "metadata": {},
   "outputs": [
    {
     "data": {
      "text/plain": [
       "Indicator\n",
       "Cumulative number of confirmed, probable and suspected Ebola deaths                            2485\n",
       "Cumulative number of confirmed Ebola cases                                                     2484\n",
       "Cumulative number of confirmed, probable and suspected Ebola cases                             2477\n",
       "Cumulative number of probable Ebola cases                                                      2436\n",
       "Cumulative number of suspected Ebola cases                                                     2366\n",
       "Cumulative number of confirmed Ebola deaths                                                    1648\n",
       "Cumulative number of probable Ebola deaths                                                     1526\n",
       "Cumulative number of suspected Ebola deaths                                                    1308\n",
       "Number of confirmed Ebola cases in the last 21 days                                             190\n",
       "Number of confirmed, probable and suspected Ebola cases in the last 21 days                     190\n",
       "Number of probable Ebola cases in the last 21 days                                               52\n",
       "Proportion of confirmed, probable and suspected Ebola cases that are from the last 21 days       41\n",
       "Proportion of probable Ebola cases that are from the last 21 days                                40\n",
       "Proportion of confirmed Ebola cases that are from the last 21 days                               40\n",
       "Proportion of suspected Ebola cases that are from the last 21 days                               39\n",
       "Number of suspected Ebola cases in the last 21 days                                              39\n",
       "Case fatality rate (CFR) of confirmed Ebola cases                                                19\n",
       "Case fatality rate (CFR) of confirmed, probable and suspected Ebola cases                        19\n",
       "Case fatality rate (CFR) of suspected Ebola cases                                                18\n",
       "Case fatality rate (CFR) of probable Ebola cases                                                 18\n",
       "Number of confirmed Ebola deaths in the last 21 days                                             14\n",
       "Number of confirmed, probable and suspected Ebola deaths in the last 21 days                     14\n",
       "Number of probable Ebola deaths in the last 21 days                                              13\n",
       "Number of suspected Ebola deaths in the last 21 days                                             13\n",
       "Proportion of confirmed Ebola deaths that are from the last 21 days                              13\n",
       "Proportion of confirmed, probable and suspected Ebola deaths that are from the last 21 days      13\n",
       "Proportion of probable Ebola deaths that are from the last 21 days                               12\n",
       "Proportion of suspected Ebola deaths that are from the last 21 days                              10\n",
       "Proportion of suspected Ebola cases that are from the last 7 days                                 6\n",
       "Proportion of probable Ebola cases that are from the last 7 days                                  6\n",
       "Proportion of confirmed Ebola cases that are from the last 7 days                                 6\n",
       "Number of confirmed, probable and suspected Ebola cases in the last 7 days                        6\n",
       "Number of suspected Ebola cases in the last 7 days                                                6\n",
       "Number of probable Ebola cases in the last 7 days                                                 6\n",
       "Number of confirmed Ebola cases in the last 7 days                                                6\n",
       "Proportion of confirmed, probable and suspected Ebola cases that are from the last 7 days         6\n",
       "Name: count, dtype: int64"
      ]
     },
     "execution_count": 1203,
     "metadata": {},
     "output_type": "execute_result"
    }
   ],
   "source": [
    "df[\"Indicator\"].value_counts()"
   ]
  },
  {
   "cell_type": "markdown",
   "metadata": {},
   "source": [
    "##### Terdapat urutan-urutan Indikator yang paling sering digunakan sesuai tabel diatas"
   ]
  },
  {
   "cell_type": "markdown",
   "metadata": {},
   "source": [
    "### 5. Membagi data frame berdasarkan kolom Indicator agar mudah dianalisis"
   ]
  },
  {
   "cell_type": "code",
   "execution_count": null,
   "metadata": {},
   "outputs": [],
   "source": [
    "indikator_unik = df[\"Indicator\"].unique()"
   ]
  },
  {
   "cell_type": "code",
   "execution_count": null,
   "metadata": {},
   "outputs": [],
   "source": [
    "df2 = df[df[\"Indicator\"] == indikator_unik[1]]\n",
    "df6 = df[df[\"Indicator\"] == indikator_unik[5]]"
   ]
  },
  {
   "cell_type": "markdown",
   "metadata": {},
   "source": [
    "##### Dikarenakan nilai unik pada kolom \"Indicator\" sangat banyak, disini kami memutuskan untuk menggunakan indikator yang pasti-pasti saja seperti \"Cumulative number of confirmed Ebola cases\" dan \"Cumulative number of confirmed Ebola deaths\""
   ]
  },
  {
   "cell_type": "markdown",
   "metadata": {},
   "source": [
    "## Preprocessing dan EDA untuk \"Cumulative number of confirmed Ebola cases\""
   ]
  },
  {
   "cell_type": "markdown",
   "metadata": {},
   "source": [
    "### 1. Melihat nilai unik dari kolom \"Date\" dan mengecek negara mana yang mmemiliki timestamps paling pengkap"
   ]
  },
  {
   "cell_type": "code",
   "execution_count": null,
   "metadata": {},
   "outputs": [
    {
     "data": {
      "text/plain": [
       "259"
      ]
     },
     "execution_count": 1206,
     "metadata": {},
     "output_type": "execute_result"
    }
   ],
   "source": [
    "df2[\"Date\"].nunique()"
   ]
  },
  {
   "cell_type": "code",
   "execution_count": null,
   "metadata": {},
   "outputs": [
    {
     "data": {
      "text/plain": [
       "Country\n",
       "Guinea                      259\n",
       "Sierra Leone                259\n",
       "Liberia                     258\n",
       "Nigeria                     255\n",
       "Senegal                     254\n",
       "United States of America    245\n",
       "Mali                        243\n",
       "Spain                       243\n",
       "United Kingdom              221\n",
       "Italy                       141\n",
       "Liberia 2                   105\n",
       "Guinea 2                      1\n",
       "Name: count, dtype: int64"
      ]
     },
     "execution_count": 1208,
     "metadata": {},
     "output_type": "execute_result"
    }
   ],
   "source": [
    "df2[\"Country\"].value_counts()"
   ]
  },
  {
   "cell_type": "markdown",
   "metadata": {},
   "source": [
    "##### karena ada 2 yang memiliki timestamp paling lengkap, saya memilih negara Sierra Leone untuk saya eksplorasi"
   ]
  },
  {
   "cell_type": "markdown",
   "metadata": {},
   "source": [
    "### 2. Filtering negara Sierra Leone dan mengurutkan berdasarkan waktu paling awal"
   ]
  },
  {
   "cell_type": "code",
   "execution_count": null,
   "metadata": {},
   "outputs": [
    {
     "data": {
      "text/html": [
       "<div>\n",
       "<style scoped>\n",
       "    .dataframe tbody tr th:only-of-type {\n",
       "        vertical-align: middle;\n",
       "    }\n",
       "\n",
       "    .dataframe tbody tr th {\n",
       "        vertical-align: top;\n",
       "    }\n",
       "\n",
       "    .dataframe thead th {\n",
       "        text-align: right;\n",
       "    }\n",
       "</style>\n",
       "<table border=\"1\" class=\"dataframe\">\n",
       "  <thead>\n",
       "    <tr style=\"text-align: right;\">\n",
       "      <th></th>\n",
       "      <th>Date</th>\n",
       "      <th>value</th>\n",
       "    </tr>\n",
       "  </thead>\n",
       "  <tbody>\n",
       "    <tr>\n",
       "      <th>5086</th>\n",
       "      <td>2014-08-29</td>\n",
       "      <td>482.0</td>\n",
       "    </tr>\n",
       "    <tr>\n",
       "      <th>4960</th>\n",
       "      <td>2014-09-05</td>\n",
       "      <td>604.0</td>\n",
       "    </tr>\n",
       "    <tr>\n",
       "      <th>4846</th>\n",
       "      <td>2014-09-08</td>\n",
       "      <td>664.0</td>\n",
       "    </tr>\n",
       "    <tr>\n",
       "      <th>4746</th>\n",
       "      <td>2014-09-12</td>\n",
       "      <td>678.0</td>\n",
       "    </tr>\n",
       "    <tr>\n",
       "      <th>4648</th>\n",
       "      <td>2014-09-16</td>\n",
       "      <td>743.0</td>\n",
       "    </tr>\n",
       "    <tr>\n",
       "      <th>...</th>\n",
       "      <td>...</td>\n",
       "      <td>...</td>\n",
       "    </tr>\n",
       "    <tr>\n",
       "      <th>17223</th>\n",
       "      <td>2015-12-17</td>\n",
       "      <td>3351.0</td>\n",
       "    </tr>\n",
       "    <tr>\n",
       "      <th>17292</th>\n",
       "      <td>2015-12-22</td>\n",
       "      <td>3351.0</td>\n",
       "    </tr>\n",
       "    <tr>\n",
       "      <th>17365</th>\n",
       "      <td>2015-12-23</td>\n",
       "      <td>3351.0</td>\n",
       "    </tr>\n",
       "    <tr>\n",
       "      <th>17449</th>\n",
       "      <td>2015-12-29</td>\n",
       "      <td>3351.0</td>\n",
       "    </tr>\n",
       "    <tr>\n",
       "      <th>17502</th>\n",
       "      <td>2016-03-23</td>\n",
       "      <td>3351.0</td>\n",
       "    </tr>\n",
       "  </tbody>\n",
       "</table>\n",
       "<p>259 rows × 2 columns</p>\n",
       "</div>"
      ],
      "text/plain": [
       "            Date   value\n",
       "5086  2014-08-29   482.0\n",
       "4960  2014-09-05   604.0\n",
       "4846  2014-09-08   664.0\n",
       "4746  2014-09-12   678.0\n",
       "4648  2014-09-16   743.0\n",
       "...          ...     ...\n",
       "17223 2015-12-17  3351.0\n",
       "17292 2015-12-22  3351.0\n",
       "17365 2015-12-23  3351.0\n",
       "17449 2015-12-29  3351.0\n",
       "17502 2016-03-23  3351.0\n",
       "\n",
       "[259 rows x 2 columns]"
      ]
     },
     "execution_count": 1209,
     "metadata": {},
     "output_type": "execute_result"
    }
   ],
   "source": [
    "df2_SierraLeone = df2[df2[\"Country\"] == \"Sierra Leone\"]\n",
    "df2_SierraLeone.drop(columns=[\"Indicator\", \"Country\"], inplace=True)\n",
    "df2_SierraLeone = df2_SierraLeone.sort_values(\"Date\")\n",
    "df2_SierraLeone"
   ]
  },
  {
   "cell_type": "markdown",
   "metadata": {},
   "source": [
    "### 3. Mencari kejanggalan data dengan menggunakan bantuan fungsi shift"
   ]
  },
  {
   "cell_type": "code",
   "execution_count": null,
   "metadata": {},
   "outputs": [
    {
     "data": {
      "text/html": [
       "<div>\n",
       "<style scoped>\n",
       "    .dataframe tbody tr th:only-of-type {\n",
       "        vertical-align: middle;\n",
       "    }\n",
       "\n",
       "    .dataframe tbody tr th {\n",
       "        vertical-align: top;\n",
       "    }\n",
       "\n",
       "    .dataframe thead th {\n",
       "        text-align: right;\n",
       "    }\n",
       "</style>\n",
       "<table border=\"1\" class=\"dataframe\">\n",
       "  <thead>\n",
       "    <tr style=\"text-align: right;\">\n",
       "      <th></th>\n",
       "      <th>Date</th>\n",
       "      <th>value</th>\n",
       "      <th>shift</th>\n",
       "      <th>real</th>\n",
       "    </tr>\n",
       "  </thead>\n",
       "  <tbody>\n",
       "    <tr>\n",
       "      <th>5086</th>\n",
       "      <td>2014-08-29</td>\n",
       "      <td>482.0</td>\n",
       "      <td>NaN</td>\n",
       "      <td>NaN</td>\n",
       "    </tr>\n",
       "    <tr>\n",
       "      <th>4960</th>\n",
       "      <td>2014-09-05</td>\n",
       "      <td>604.0</td>\n",
       "      <td>482.0</td>\n",
       "      <td>122.0</td>\n",
       "    </tr>\n",
       "    <tr>\n",
       "      <th>4846</th>\n",
       "      <td>2014-09-08</td>\n",
       "      <td>664.0</td>\n",
       "      <td>604.0</td>\n",
       "      <td>60.0</td>\n",
       "    </tr>\n",
       "    <tr>\n",
       "      <th>4746</th>\n",
       "      <td>2014-09-12</td>\n",
       "      <td>678.0</td>\n",
       "      <td>664.0</td>\n",
       "      <td>14.0</td>\n",
       "    </tr>\n",
       "    <tr>\n",
       "      <th>4648</th>\n",
       "      <td>2014-09-16</td>\n",
       "      <td>743.0</td>\n",
       "      <td>678.0</td>\n",
       "      <td>65.0</td>\n",
       "    </tr>\n",
       "    <tr>\n",
       "      <th>...</th>\n",
       "      <td>...</td>\n",
       "      <td>...</td>\n",
       "      <td>...</td>\n",
       "      <td>...</td>\n",
       "    </tr>\n",
       "    <tr>\n",
       "      <th>17223</th>\n",
       "      <td>2015-12-17</td>\n",
       "      <td>3351.0</td>\n",
       "      <td>3351.0</td>\n",
       "      <td>0.0</td>\n",
       "    </tr>\n",
       "    <tr>\n",
       "      <th>17292</th>\n",
       "      <td>2015-12-22</td>\n",
       "      <td>3351.0</td>\n",
       "      <td>3351.0</td>\n",
       "      <td>0.0</td>\n",
       "    </tr>\n",
       "    <tr>\n",
       "      <th>17365</th>\n",
       "      <td>2015-12-23</td>\n",
       "      <td>3351.0</td>\n",
       "      <td>3351.0</td>\n",
       "      <td>0.0</td>\n",
       "    </tr>\n",
       "    <tr>\n",
       "      <th>17449</th>\n",
       "      <td>2015-12-29</td>\n",
       "      <td>3351.0</td>\n",
       "      <td>3351.0</td>\n",
       "      <td>0.0</td>\n",
       "    </tr>\n",
       "    <tr>\n",
       "      <th>17502</th>\n",
       "      <td>2016-03-23</td>\n",
       "      <td>3351.0</td>\n",
       "      <td>3351.0</td>\n",
       "      <td>0.0</td>\n",
       "    </tr>\n",
       "  </tbody>\n",
       "</table>\n",
       "<p>259 rows × 4 columns</p>\n",
       "</div>"
      ],
      "text/plain": [
       "            Date   value   shift   real\n",
       "5086  2014-08-29   482.0     NaN    NaN\n",
       "4960  2014-09-05   604.0   482.0  122.0\n",
       "4846  2014-09-08   664.0   604.0   60.0\n",
       "4746  2014-09-12   678.0   664.0   14.0\n",
       "4648  2014-09-16   743.0   678.0   65.0\n",
       "...          ...     ...     ...    ...\n",
       "17223 2015-12-17  3351.0  3351.0    0.0\n",
       "17292 2015-12-22  3351.0  3351.0    0.0\n",
       "17365 2015-12-23  3351.0  3351.0    0.0\n",
       "17449 2015-12-29  3351.0  3351.0    0.0\n",
       "17502 2016-03-23  3351.0  3351.0    0.0\n",
       "\n",
       "[259 rows x 4 columns]"
      ]
     },
     "execution_count": 1210,
     "metadata": {},
     "output_type": "execute_result"
    }
   ],
   "source": [
    "df2_SierraLeone[\"shift\"] = df2_SierraLeone[\"value\"].shift()\n",
    "df2_SierraLeone[\"real\"] = df2_SierraLeone[\"value\"] - df2_SierraLeone[\"shift\"]\n",
    "df2_SierraLeone"
   ]
  },
  {
   "cell_type": "code",
   "execution_count": null,
   "metadata": {},
   "outputs": [
    {
     "data": {
      "text/html": [
       "<div>\n",
       "<style scoped>\n",
       "    .dataframe tbody tr th:only-of-type {\n",
       "        vertical-align: middle;\n",
       "    }\n",
       "\n",
       "    .dataframe tbody tr th {\n",
       "        vertical-align: top;\n",
       "    }\n",
       "\n",
       "    .dataframe thead th {\n",
       "        text-align: right;\n",
       "    }\n",
       "</style>\n",
       "<table border=\"1\" class=\"dataframe\">\n",
       "  <thead>\n",
       "    <tr style=\"text-align: right;\">\n",
       "      <th></th>\n",
       "      <th>Date</th>\n",
       "      <th>value</th>\n",
       "      <th>shift</th>\n",
       "      <th>real</th>\n",
       "    </tr>\n",
       "  </thead>\n",
       "  <tbody>\n",
       "    <tr>\n",
       "      <th>7416</th>\n",
       "      <td>2015-05-13</td>\n",
       "      <td>3173.0</td>\n",
       "      <td>3174.0</td>\n",
       "      <td>-1.0</td>\n",
       "    </tr>\n",
       "    <tr>\n",
       "      <th>9110</th>\n",
       "      <td>2015-06-17</td>\n",
       "      <td>3245.0</td>\n",
       "      <td>3249.0</td>\n",
       "      <td>-4.0</td>\n",
       "    </tr>\n",
       "  </tbody>\n",
       "</table>\n",
       "</div>"
      ],
      "text/plain": [
       "           Date   value   shift  real\n",
       "7416 2015-05-13  3173.0  3174.0  -1.0\n",
       "9110 2015-06-17  3245.0  3249.0  -4.0"
      ]
     },
     "execution_count": 1211,
     "metadata": {},
     "output_type": "execute_result"
    }
   ],
   "source": [
    "df2_SierraLeone[df2_SierraLeone[\"real\"] < 0]"
   ]
  },
  {
   "cell_type": "markdown",
   "metadata": {},
   "source": [
    "##### Terdapat 2 data janggal yang terdapat nilai negatif untuk nilai kumulatif"
   ]
  },
  {
   "cell_type": "markdown",
   "metadata": {},
   "source": [
    "### 4. Fix data janggal dengan menggunakan data sebelumnya"
   ]
  },
  {
   "cell_type": "code",
   "execution_count": null,
   "metadata": {},
   "outputs": [],
   "source": [
    "temp = np.array(df2_SierraLeone[\"value\"])\n",
    "\n",
    "for i in range(len(temp) - 1):\n",
    "    if temp[i] >= temp[i+1]:\n",
    "        temp[i+1] = temp[i]\n",
    "    else:\n",
    "        pass\n",
    "\n",
    "df2_SierraLeone[\"value\"] = temp"
   ]
  },
  {
   "cell_type": "code",
   "execution_count": null,
   "metadata": {},
   "outputs": [
    {
     "data": {
      "text/html": [
       "<div>\n",
       "<style scoped>\n",
       "    .dataframe tbody tr th:only-of-type {\n",
       "        vertical-align: middle;\n",
       "    }\n",
       "\n",
       "    .dataframe tbody tr th {\n",
       "        vertical-align: top;\n",
       "    }\n",
       "\n",
       "    .dataframe thead th {\n",
       "        text-align: right;\n",
       "    }\n",
       "</style>\n",
       "<table border=\"1\" class=\"dataframe\">\n",
       "  <thead>\n",
       "    <tr style=\"text-align: right;\">\n",
       "      <th></th>\n",
       "      <th>Date</th>\n",
       "      <th>value</th>\n",
       "      <th>shift</th>\n",
       "      <th>real</th>\n",
       "    </tr>\n",
       "  </thead>\n",
       "  <tbody>\n",
       "    <tr>\n",
       "      <th>5086</th>\n",
       "      <td>2014-08-29</td>\n",
       "      <td>482.0</td>\n",
       "      <td>NaN</td>\n",
       "      <td>NaN</td>\n",
       "    </tr>\n",
       "    <tr>\n",
       "      <th>4960</th>\n",
       "      <td>2014-09-05</td>\n",
       "      <td>604.0</td>\n",
       "      <td>482.0</td>\n",
       "      <td>122.0</td>\n",
       "    </tr>\n",
       "    <tr>\n",
       "      <th>4846</th>\n",
       "      <td>2014-09-08</td>\n",
       "      <td>664.0</td>\n",
       "      <td>604.0</td>\n",
       "      <td>60.0</td>\n",
       "    </tr>\n",
       "    <tr>\n",
       "      <th>4746</th>\n",
       "      <td>2014-09-12</td>\n",
       "      <td>678.0</td>\n",
       "      <td>664.0</td>\n",
       "      <td>14.0</td>\n",
       "    </tr>\n",
       "    <tr>\n",
       "      <th>4648</th>\n",
       "      <td>2014-09-16</td>\n",
       "      <td>743.0</td>\n",
       "      <td>678.0</td>\n",
       "      <td>65.0</td>\n",
       "    </tr>\n",
       "    <tr>\n",
       "      <th>...</th>\n",
       "      <td>...</td>\n",
       "      <td>...</td>\n",
       "      <td>...</td>\n",
       "      <td>...</td>\n",
       "    </tr>\n",
       "    <tr>\n",
       "      <th>17223</th>\n",
       "      <td>2015-12-17</td>\n",
       "      <td>3351.0</td>\n",
       "      <td>3351.0</td>\n",
       "      <td>0.0</td>\n",
       "    </tr>\n",
       "    <tr>\n",
       "      <th>17292</th>\n",
       "      <td>2015-12-22</td>\n",
       "      <td>3351.0</td>\n",
       "      <td>3351.0</td>\n",
       "      <td>0.0</td>\n",
       "    </tr>\n",
       "    <tr>\n",
       "      <th>17365</th>\n",
       "      <td>2015-12-23</td>\n",
       "      <td>3351.0</td>\n",
       "      <td>3351.0</td>\n",
       "      <td>0.0</td>\n",
       "    </tr>\n",
       "    <tr>\n",
       "      <th>17449</th>\n",
       "      <td>2015-12-29</td>\n",
       "      <td>3351.0</td>\n",
       "      <td>3351.0</td>\n",
       "      <td>0.0</td>\n",
       "    </tr>\n",
       "    <tr>\n",
       "      <th>17502</th>\n",
       "      <td>2016-03-23</td>\n",
       "      <td>3351.0</td>\n",
       "      <td>3351.0</td>\n",
       "      <td>0.0</td>\n",
       "    </tr>\n",
       "  </tbody>\n",
       "</table>\n",
       "<p>259 rows × 4 columns</p>\n",
       "</div>"
      ],
      "text/plain": [
       "            Date   value   shift   real\n",
       "5086  2014-08-29   482.0     NaN    NaN\n",
       "4960  2014-09-05   604.0   482.0  122.0\n",
       "4846  2014-09-08   664.0   604.0   60.0\n",
       "4746  2014-09-12   678.0   664.0   14.0\n",
       "4648  2014-09-16   743.0   678.0   65.0\n",
       "...          ...     ...     ...    ...\n",
       "17223 2015-12-17  3351.0  3351.0    0.0\n",
       "17292 2015-12-22  3351.0  3351.0    0.0\n",
       "17365 2015-12-23  3351.0  3351.0    0.0\n",
       "17449 2015-12-29  3351.0  3351.0    0.0\n",
       "17502 2016-03-23  3351.0  3351.0    0.0\n",
       "\n",
       "[259 rows x 4 columns]"
      ]
     },
     "execution_count": 1213,
     "metadata": {},
     "output_type": "execute_result"
    }
   ],
   "source": [
    "df2_SierraLeone[\"shift\"] = df2_SierraLeone[\"value\"].shift()\n",
    "df2_SierraLeone[\"real\"] = df2_SierraLeone[\"value\"] - df2_SierraLeone[\"shift\"]\n",
    "df2_SierraLeone"
   ]
  },
  {
   "cell_type": "code",
   "execution_count": null,
   "metadata": {},
   "outputs": [
    {
     "data": {
      "text/html": [
       "<div>\n",
       "<style scoped>\n",
       "    .dataframe tbody tr th:only-of-type {\n",
       "        vertical-align: middle;\n",
       "    }\n",
       "\n",
       "    .dataframe tbody tr th {\n",
       "        vertical-align: top;\n",
       "    }\n",
       "\n",
       "    .dataframe thead th {\n",
       "        text-align: right;\n",
       "    }\n",
       "</style>\n",
       "<table border=\"1\" class=\"dataframe\">\n",
       "  <thead>\n",
       "    <tr style=\"text-align: right;\">\n",
       "      <th></th>\n",
       "      <th>Date</th>\n",
       "      <th>value</th>\n",
       "      <th>shift</th>\n",
       "      <th>real</th>\n",
       "    </tr>\n",
       "  </thead>\n",
       "  <tbody>\n",
       "  </tbody>\n",
       "</table>\n",
       "</div>"
      ],
      "text/plain": [
       "Empty DataFrame\n",
       "Columns: [Date, value, shift, real]\n",
       "Index: []"
      ]
     },
     "execution_count": 1214,
     "metadata": {},
     "output_type": "execute_result"
    }
   ],
   "source": [
    "df2_SierraLeone[df2_SierraLeone[\"real\"] < 0]"
   ]
  },
  {
   "cell_type": "markdown",
   "metadata": {},
   "source": [
    "##### Sudah tidak ada data janggal dalam dataset tersebut"
   ]
  },
  {
   "cell_type": "markdown",
   "metadata": {},
   "source": [
    "### 5. Mencari selisih tanggal paling awal dan akhir untuk mengetahui missing value"
   ]
  },
  {
   "cell_type": "code",
   "execution_count": null,
   "metadata": {},
   "outputs": [
    {
     "name": "stdout",
     "output_type": "stream",
     "text": [
      "2014-08-29 00:00:00\n",
      "2016-03-23 00:00:00\n"
     ]
    }
   ],
   "source": [
    "start = df2_SierraLeone[\"Date\"].min()\n",
    "end = df2_SierraLeone[\"Date\"].max()\n",
    "\n",
    "print(start)\n",
    "print(end)"
   ]
  },
  {
   "cell_type": "code",
   "execution_count": null,
   "metadata": {},
   "outputs": [
    {
     "data": {
      "text/plain": [
       "0"
      ]
     },
     "execution_count": 1216,
     "metadata": {},
     "output_type": "execute_result"
    }
   ],
   "source": [
    "df2_SierraLeone[\"Date\"].duplicated().sum()"
   ]
  },
  {
   "cell_type": "markdown",
   "metadata": {},
   "source": [
    "##### Tidak ada \"Date\" yang duplikat"
   ]
  },
  {
   "cell_type": "code",
   "execution_count": null,
   "metadata": {},
   "outputs": [
    {
     "data": {
      "text/plain": [
       "array(['2014-08-29', '2014-08-30', '2014-08-31', '2014-09-01',\n",
       "       '2014-09-02', '2014-09-03', '2014-09-04', '2014-09-05',\n",
       "       '2014-09-06', '2014-09-07', '2014-09-08', '2014-09-09',\n",
       "       '2014-09-10', '2014-09-11', '2014-09-12', '2014-09-13',\n",
       "       '2014-09-14', '2014-09-15', '2014-09-16', '2014-09-17',\n",
       "       '2014-09-18', '2014-09-19', '2014-09-20', '2014-09-21',\n",
       "       '2014-09-22', '2014-09-23', '2014-09-24', '2014-09-25',\n",
       "       '2014-09-26', '2014-09-27', '2014-09-28', '2014-09-29',\n",
       "       '2014-09-30', '2014-10-01', '2014-10-02', '2014-10-03',\n",
       "       '2014-10-04', '2014-10-05', '2014-10-06', '2014-10-07',\n",
       "       '2014-10-08', '2014-10-09', '2014-10-10', '2014-10-11',\n",
       "       '2014-10-12', '2014-10-13', '2014-10-14', '2014-10-15',\n",
       "       '2014-10-16', '2014-10-17', '2014-10-18', '2014-10-19',\n",
       "       '2014-10-20', '2014-10-21', '2014-10-22', '2014-10-23',\n",
       "       '2014-10-24', '2014-10-25', '2014-10-26', '2014-10-27',\n",
       "       '2014-10-28', '2014-10-29', '2014-10-30', '2014-10-31',\n",
       "       '2014-11-01', '2014-11-02', '2014-11-03', '2014-11-04',\n",
       "       '2014-11-05', '2014-11-06', '2014-11-07', '2014-11-08',\n",
       "       '2014-11-09', '2014-11-10', '2014-11-11', '2014-11-12',\n",
       "       '2014-11-13', '2014-11-14', '2014-11-15', '2014-11-16',\n",
       "       '2014-11-17', '2014-11-18', '2014-11-19', '2014-11-20',\n",
       "       '2014-11-21', '2014-11-22', '2014-11-23', '2014-11-24',\n",
       "       '2014-11-25', '2014-11-26', '2014-11-27', '2014-11-28',\n",
       "       '2014-11-29', '2014-11-30', '2014-12-01', '2014-12-02',\n",
       "       '2014-12-03', '2014-12-04', '2014-12-05', '2014-12-06',\n",
       "       '2014-12-07', '2014-12-08', '2014-12-09', '2014-12-10',\n",
       "       '2014-12-11', '2014-12-12', '2014-12-13', '2014-12-14',\n",
       "       '2014-12-15', '2014-12-16', '2014-12-17', '2014-12-18',\n",
       "       '2014-12-19', '2014-12-20', '2014-12-21', '2014-12-22',\n",
       "       '2014-12-23', '2014-12-24', '2014-12-25', '2014-12-26',\n",
       "       '2014-12-27', '2014-12-28', '2014-12-29', '2014-12-30',\n",
       "       '2014-12-31', '2015-01-01', '2015-01-02', '2015-01-03',\n",
       "       '2015-01-04', '2015-01-05', '2015-01-06', '2015-01-07',\n",
       "       '2015-01-08', '2015-01-09', '2015-01-10', '2015-01-11',\n",
       "       '2015-01-12', '2015-01-13', '2015-01-14', '2015-01-15',\n",
       "       '2015-01-16', '2015-01-17', '2015-01-18', '2015-01-19',\n",
       "       '2015-01-20', '2015-01-21', '2015-01-22', '2015-01-23',\n",
       "       '2015-01-24', '2015-01-25', '2015-01-26', '2015-01-27',\n",
       "       '2015-01-28', '2015-01-29', '2015-01-30', '2015-01-31',\n",
       "       '2015-02-01', '2015-02-02', '2015-02-03', '2015-02-04',\n",
       "       '2015-02-05', '2015-02-06', '2015-02-07', '2015-02-08',\n",
       "       '2015-02-09', '2015-02-10', '2015-02-11', '2015-02-12',\n",
       "       '2015-02-13', '2015-02-14', '2015-02-15', '2015-02-16',\n",
       "       '2015-02-17', '2015-02-18', '2015-02-19', '2015-02-20',\n",
       "       '2015-02-21', '2015-02-22', '2015-02-23', '2015-02-24',\n",
       "       '2015-02-25', '2015-02-26', '2015-02-27', '2015-02-28',\n",
       "       '2015-03-01', '2015-03-02', '2015-03-03', '2015-03-04',\n",
       "       '2015-03-05', '2015-03-06', '2015-03-07', '2015-03-08',\n",
       "       '2015-03-09', '2015-03-10', '2015-03-11', '2015-03-12',\n",
       "       '2015-03-13', '2015-03-14', '2015-03-15', '2015-03-16',\n",
       "       '2015-03-17', '2015-03-18', '2015-03-19', '2015-03-20',\n",
       "       '2015-03-21', '2015-03-22', '2015-03-23', '2015-03-24',\n",
       "       '2015-03-25', '2015-03-26', '2015-03-27', '2015-03-28',\n",
       "       '2015-03-29', '2015-03-30', '2015-03-31', '2015-04-01',\n",
       "       '2015-04-02', '2015-04-03', '2015-04-04', '2015-04-05',\n",
       "       '2015-04-06', '2015-04-07', '2015-04-08', '2015-04-09',\n",
       "       '2015-04-10', '2015-04-11', '2015-04-12', '2015-04-13',\n",
       "       '2015-04-14', '2015-04-15', '2015-04-16', '2015-04-17',\n",
       "       '2015-04-18', '2015-04-19', '2015-04-20', '2015-04-21',\n",
       "       '2015-04-22', '2015-04-23', '2015-04-24', '2015-04-25',\n",
       "       '2015-04-26', '2015-04-27', '2015-04-28', '2015-04-29',\n",
       "       '2015-04-30', '2015-05-01', '2015-05-02', '2015-05-03',\n",
       "       '2015-05-04', '2015-05-05', '2015-05-06', '2015-05-07',\n",
       "       '2015-05-08', '2015-05-09', '2015-05-10', '2015-05-11',\n",
       "       '2015-05-12', '2015-05-13', '2015-05-14', '2015-05-15',\n",
       "       '2015-05-16', '2015-05-17', '2015-05-18', '2015-05-19',\n",
       "       '2015-05-20', '2015-05-21', '2015-05-22', '2015-05-23',\n",
       "       '2015-05-24', '2015-05-25', '2015-05-26', '2015-05-27',\n",
       "       '2015-05-28', '2015-05-29', '2015-05-30', '2015-05-31',\n",
       "       '2015-06-01', '2015-06-02', '2015-06-03', '2015-06-04',\n",
       "       '2015-06-05', '2015-06-06', '2015-06-07', '2015-06-08',\n",
       "       '2015-06-09', '2015-06-10', '2015-06-11', '2015-06-12',\n",
       "       '2015-06-13', '2015-06-14', '2015-06-15', '2015-06-16',\n",
       "       '2015-06-17', '2015-06-18', '2015-06-19', '2015-06-20',\n",
       "       '2015-06-21', '2015-06-22', '2015-06-23', '2015-06-24',\n",
       "       '2015-06-25', '2015-06-26', '2015-06-27', '2015-06-28',\n",
       "       '2015-06-29', '2015-06-30', '2015-07-01', '2015-07-02',\n",
       "       '2015-07-03', '2015-07-04', '2015-07-05', '2015-07-06',\n",
       "       '2015-07-07', '2015-07-08', '2015-07-09', '2015-07-10',\n",
       "       '2015-07-11', '2015-07-12', '2015-07-13', '2015-07-14',\n",
       "       '2015-07-15', '2015-07-16', '2015-07-17', '2015-07-18',\n",
       "       '2015-07-19', '2015-07-20', '2015-07-21', '2015-07-22',\n",
       "       '2015-07-23', '2015-07-24', '2015-07-25', '2015-07-26',\n",
       "       '2015-07-27', '2015-07-28', '2015-07-29', '2015-07-30',\n",
       "       '2015-07-31', '2015-08-01', '2015-08-02', '2015-08-03',\n",
       "       '2015-08-04', '2015-08-05', '2015-08-06', '2015-08-07',\n",
       "       '2015-08-08', '2015-08-09', '2015-08-10', '2015-08-11',\n",
       "       '2015-08-12', '2015-08-13', '2015-08-14', '2015-08-15',\n",
       "       '2015-08-16', '2015-08-17', '2015-08-18', '2015-08-19',\n",
       "       '2015-08-20', '2015-08-21', '2015-08-22', '2015-08-23',\n",
       "       '2015-08-24', '2015-08-25', '2015-08-26', '2015-08-27',\n",
       "       '2015-08-28', '2015-08-29', '2015-08-30', '2015-08-31',\n",
       "       '2015-09-01', '2015-09-02', '2015-09-03', '2015-09-04',\n",
       "       '2015-09-05', '2015-09-06', '2015-09-07', '2015-09-08',\n",
       "       '2015-09-09', '2015-09-10', '2015-09-11', '2015-09-12',\n",
       "       '2015-09-13', '2015-09-14', '2015-09-15', '2015-09-16',\n",
       "       '2015-09-17', '2015-09-18', '2015-09-19', '2015-09-20',\n",
       "       '2015-09-21', '2015-09-22', '2015-09-23', '2015-09-24',\n",
       "       '2015-09-25', '2015-09-26', '2015-09-27', '2015-09-28',\n",
       "       '2015-09-29', '2015-09-30', '2015-10-01', '2015-10-02',\n",
       "       '2015-10-03', '2015-10-04', '2015-10-05', '2015-10-06',\n",
       "       '2015-10-07', '2015-10-08', '2015-10-09', '2015-10-10',\n",
       "       '2015-10-11', '2015-10-12', '2015-10-13', '2015-10-14',\n",
       "       '2015-10-15', '2015-10-16', '2015-10-17', '2015-10-18',\n",
       "       '2015-10-19', '2015-10-20', '2015-10-21', '2015-10-22',\n",
       "       '2015-10-23', '2015-10-24', '2015-10-25', '2015-10-26',\n",
       "       '2015-10-27', '2015-10-28', '2015-10-29', '2015-10-30',\n",
       "       '2015-10-31', '2015-11-01', '2015-11-02', '2015-11-03',\n",
       "       '2015-11-04', '2015-11-05', '2015-11-06', '2015-11-07',\n",
       "       '2015-11-08', '2015-11-09', '2015-11-10', '2015-11-11',\n",
       "       '2015-11-12', '2015-11-13', '2015-11-14', '2015-11-15',\n",
       "       '2015-11-16', '2015-11-17', '2015-11-18', '2015-11-19',\n",
       "       '2015-11-20', '2015-11-21', '2015-11-22', '2015-11-23',\n",
       "       '2015-11-24', '2015-11-25', '2015-11-26', '2015-11-27',\n",
       "       '2015-11-28', '2015-11-29', '2015-11-30', '2015-12-01',\n",
       "       '2015-12-02', '2015-12-03', '2015-12-04', '2015-12-05',\n",
       "       '2015-12-06', '2015-12-07', '2015-12-08', '2015-12-09',\n",
       "       '2015-12-10', '2015-12-11', '2015-12-12', '2015-12-13',\n",
       "       '2015-12-14', '2015-12-15', '2015-12-16', '2015-12-17',\n",
       "       '2015-12-18', '2015-12-19', '2015-12-20', '2015-12-21',\n",
       "       '2015-12-22', '2015-12-23', '2015-12-24', '2015-12-25',\n",
       "       '2015-12-26', '2015-12-27', '2015-12-28', '2015-12-29',\n",
       "       '2015-12-30', '2015-12-31', '2016-01-01', '2016-01-02',\n",
       "       '2016-01-03', '2016-01-04', '2016-01-05', '2016-01-06',\n",
       "       '2016-01-07', '2016-01-08', '2016-01-09', '2016-01-10',\n",
       "       '2016-01-11', '2016-01-12', '2016-01-13', '2016-01-14',\n",
       "       '2016-01-15', '2016-01-16', '2016-01-17', '2016-01-18',\n",
       "       '2016-01-19', '2016-01-20', '2016-01-21', '2016-01-22',\n",
       "       '2016-01-23', '2016-01-24', '2016-01-25', '2016-01-26',\n",
       "       '2016-01-27', '2016-01-28', '2016-01-29', '2016-01-30',\n",
       "       '2016-01-31', '2016-02-01', '2016-02-02', '2016-02-03',\n",
       "       '2016-02-04', '2016-02-05', '2016-02-06', '2016-02-07',\n",
       "       '2016-02-08', '2016-02-09', '2016-02-10', '2016-02-11',\n",
       "       '2016-02-12', '2016-02-13', '2016-02-14', '2016-02-15',\n",
       "       '2016-02-16', '2016-02-17', '2016-02-18', '2016-02-19',\n",
       "       '2016-02-20', '2016-02-21', '2016-02-22', '2016-02-23',\n",
       "       '2016-02-24', '2016-02-25', '2016-02-26', '2016-02-27',\n",
       "       '2016-02-28', '2016-02-29', '2016-03-01', '2016-03-02',\n",
       "       '2016-03-03', '2016-03-04', '2016-03-05', '2016-03-06',\n",
       "       '2016-03-07', '2016-03-08', '2016-03-09', '2016-03-10',\n",
       "       '2016-03-11', '2016-03-12', '2016-03-13', '2016-03-14',\n",
       "       '2016-03-15', '2016-03-16', '2016-03-17', '2016-03-18',\n",
       "       '2016-03-19', '2016-03-20', '2016-03-21', '2016-03-22',\n",
       "       '2016-03-23'], dtype='datetime64[D]')"
      ]
     },
     "execution_count": 1217,
     "metadata": {},
     "output_type": "execute_result"
    }
   ],
   "source": [
    "timestamps = np.arange(start, end + np.timedelta64(1, 'D'), dtype='datetime64[D]')\n",
    "timestamps"
   ]
  },
  {
   "cell_type": "code",
   "execution_count": null,
   "metadata": {},
   "outputs": [
    {
     "name": "stdout",
     "output_type": "stream",
     "text": [
      "259\n",
      "573\n"
     ]
    }
   ],
   "source": [
    "print(len(df2_SierraLeone))\n",
    "print(len(timestamps))"
   ]
  },
  {
   "cell_type": "markdown",
   "metadata": {},
   "source": [
    "##### Terdapat 314 Missing value pada data ini"
   ]
  },
  {
   "cell_type": "markdown",
   "metadata": {},
   "source": [
    "### 6. Melakukan Left join antara timestamp lengkap dan timestamp data untuk melihat grafik pada data tersebut"
   ]
  },
  {
   "cell_type": "code",
   "execution_count": null,
   "metadata": {},
   "outputs": [],
   "source": [
    "df_waktu = pd.DataFrame({\n",
    "    \"Date\" : timestamps\n",
    "})\n",
    "\n",
    "df2_SierraLeone = pd.merge(df_waktu, df2_SierraLeone, on=\"Date\", how=\"left\")"
   ]
  },
  {
   "cell_type": "markdown",
   "metadata": {},
   "source": [
    "##### Plot sebelum data diimputasi"
   ]
  },
  {
   "cell_type": "code",
   "execution_count": null,
   "metadata": {},
   "outputs": [
    {
     "data": {
      "image/png": "[encoded data removed]",
      "text/plain": [
       "<Figure size 640x480 with 1 Axes>"
      ]
     },
     "metadata": {},
     "output_type": "display_data"
    }
   ],
   "source": [
    "df2_SierraLeone.set_index(\"Date\", inplace=True)\n",
    "sns.scatterplot(df2_SierraLeone[\"value\"], color=\"red\")\n",
    "plt.xticks(rotation=45)\n",
    "plt.show()"
   ]
  },
  {
   "cell_type": "markdown",
   "metadata": {},
   "source": [
    "##### Plot setelah data diimputasi dengan interpolasi linear"
   ]
  },
  {
   "cell_type": "code",
   "execution_count": null,
   "metadata": {},
   "outputs": [
    {
     "data": {
      "image/png": "[encoded data removed]",
      "text/plain": [
       "<Figure size 640x480 with 1 Axes>"
      ]
     },
     "metadata": {},
     "output_type": "display_data"
    }
   ],
   "source": [
    "df2_SierraLeone.interpolate(method=\"linear\", inplace=True)\n",
    "df2_SierraLeone[\"value\"] = df2_SierraLeone[\"value\"].round(0)\n",
    "sns.scatterplot(df2_SierraLeone[\"value\"], color=\"red\")\n",
    "plt.xticks(rotation=45)\n",
    "plt.show()"
   ]
  },
  {
   "cell_type": "markdown",
   "metadata": {},
   "source": [
    "### 7. Menggunakan plot residu dari fungsi shift untuk melihat fluktuasi kasus ebola"
   ]
  },
  {
   "cell_type": "code",
   "execution_count": null,
   "metadata": {},
   "outputs": [
    {
     "data": {
      "text/html": [
       "<div>\n",
       "<style scoped>\n",
       "    .dataframe tbody tr th:only-of-type {\n",
       "        vertical-align: middle;\n",
       "    }\n",
       "\n",
       "    .dataframe tbody tr th {\n",
       "        vertical-align: top;\n",
       "    }\n",
       "\n",
       "    .dataframe thead th {\n",
       "        text-align: right;\n",
       "    }\n",
       "</style>\n",
       "<table border=\"1\" class=\"dataframe\">\n",
       "  <thead>\n",
       "    <tr style=\"text-align: right;\">\n",
       "      <th></th>\n",
       "      <th>value</th>\n",
       "      <th>shift</th>\n",
       "      <th>real</th>\n",
       "    </tr>\n",
       "    <tr>\n",
       "      <th>Date</th>\n",
       "      <th></th>\n",
       "      <th></th>\n",
       "      <th></th>\n",
       "    </tr>\n",
       "  </thead>\n",
       "  <tbody>\n",
       "    <tr>\n",
       "      <th>2014-08-29</th>\n",
       "      <td>482.0</td>\n",
       "      <td>NaN</td>\n",
       "      <td>NaN</td>\n",
       "    </tr>\n",
       "    <tr>\n",
       "      <th>2014-08-30</th>\n",
       "      <td>499.0</td>\n",
       "      <td>482.0</td>\n",
       "      <td>17.0</td>\n",
       "    </tr>\n",
       "    <tr>\n",
       "      <th>2014-08-31</th>\n",
       "      <td>517.0</td>\n",
       "      <td>499.0</td>\n",
       "      <td>18.0</td>\n",
       "    </tr>\n",
       "    <tr>\n",
       "      <th>2014-09-01</th>\n",
       "      <td>534.0</td>\n",
       "      <td>517.0</td>\n",
       "      <td>17.0</td>\n",
       "    </tr>\n",
       "    <tr>\n",
       "      <th>2014-09-02</th>\n",
       "      <td>552.0</td>\n",
       "      <td>534.0</td>\n",
       "      <td>18.0</td>\n",
       "    </tr>\n",
       "    <tr>\n",
       "      <th>...</th>\n",
       "      <td>...</td>\n",
       "      <td>...</td>\n",
       "      <td>...</td>\n",
       "    </tr>\n",
       "    <tr>\n",
       "      <th>2016-03-19</th>\n",
       "      <td>3351.0</td>\n",
       "      <td>3351.0</td>\n",
       "      <td>0.0</td>\n",
       "    </tr>\n",
       "    <tr>\n",
       "      <th>2016-03-20</th>\n",
       "      <td>3351.0</td>\n",
       "      <td>3351.0</td>\n",
       "      <td>0.0</td>\n",
       "    </tr>\n",
       "    <tr>\n",
       "      <th>2016-03-21</th>\n",
       "      <td>3351.0</td>\n",
       "      <td>3351.0</td>\n",
       "      <td>0.0</td>\n",
       "    </tr>\n",
       "    <tr>\n",
       "      <th>2016-03-22</th>\n",
       "      <td>3351.0</td>\n",
       "      <td>3351.0</td>\n",
       "      <td>0.0</td>\n",
       "    </tr>\n",
       "    <tr>\n",
       "      <th>2016-03-23</th>\n",
       "      <td>3351.0</td>\n",
       "      <td>3351.0</td>\n",
       "      <td>0.0</td>\n",
       "    </tr>\n",
       "  </tbody>\n",
       "</table>\n",
       "<p>573 rows × 3 columns</p>\n",
       "</div>"
      ],
      "text/plain": [
       "             value   shift  real\n",
       "Date                            \n",
       "2014-08-29   482.0     NaN   NaN\n",
       "2014-08-30   499.0   482.0  17.0\n",
       "2014-08-31   517.0   499.0  18.0\n",
       "2014-09-01   534.0   517.0  17.0\n",
       "2014-09-02   552.0   534.0  18.0\n",
       "...            ...     ...   ...\n",
       "2016-03-19  3351.0  3351.0   0.0\n",
       "2016-03-20  3351.0  3351.0   0.0\n",
       "2016-03-21  3351.0  3351.0   0.0\n",
       "2016-03-22  3351.0  3351.0   0.0\n",
       "2016-03-23  3351.0  3351.0   0.0\n",
       "\n",
       "[573 rows x 3 columns]"
      ]
     },
     "execution_count": 1222,
     "metadata": {},
     "output_type": "execute_result"
    }
   ],
   "source": [
    "df2_SierraLeone[\"shift\"] = df2_SierraLeone[\"value\"].shift()\n",
    "df2_SierraLeone[\"real\"] = df2_SierraLeone[\"value\"] - df2_SierraLeone[\"shift\"]\n",
    "df2_SierraLeone"
   ]
  },
  {
   "cell_type": "code",
   "execution_count": null,
   "metadata": {},
   "outputs": [
    {
     "data": {
      "image/png": "[encoded data removed]",
      "text/plain": [
       "<Figure size 640x480 with 1 Axes>"
      ]
     },
     "metadata": {},
     "output_type": "display_data"
    }
   ],
   "source": [
    "sns.lineplot(df2_SierraLeone[\"real\"], color=\"orange\")\n",
    "plt.xticks(rotation=45)\n",
    "plt.show()"
   ]
  },
  {
   "cell_type": "markdown",
   "metadata": {},
   "source": [
    "##### Dapat dilihat kasus ebola sangat fluktuatif pada akhir 2014 dan awal 2015 dan melandai di akhir 2015"
   ]
  },
  {
   "cell_type": "markdown",
   "metadata": {},
   "source": [
    "### 8. Memunculkan hari dengan kasus ebola terbanyak"
   ]
  },
  {
   "cell_type": "code",
   "execution_count": null,
   "metadata": {},
   "outputs": [
    {
     "data": {
      "text/html": [
       "<div>\n",
       "<style scoped>\n",
       "    .dataframe tbody tr th:only-of-type {\n",
       "        vertical-align: middle;\n",
       "    }\n",
       "\n",
       "    .dataframe tbody tr th {\n",
       "        vertical-align: top;\n",
       "    }\n",
       "\n",
       "    .dataframe thead th {\n",
       "        text-align: right;\n",
       "    }\n",
       "</style>\n",
       "<table border=\"1\" class=\"dataframe\">\n",
       "  <thead>\n",
       "    <tr style=\"text-align: right;\">\n",
       "      <th></th>\n",
       "      <th>Date</th>\n",
       "      <th>real</th>\n",
       "    </tr>\n",
       "  </thead>\n",
       "  <tbody>\n",
       "    <tr>\n",
       "      <th>0</th>\n",
       "      <td>2015-03-12</td>\n",
       "      <td>30.0</td>\n",
       "    </tr>\n",
       "    <tr>\n",
       "      <th>1</th>\n",
       "      <td>2014-12-26</td>\n",
       "      <td>29.0</td>\n",
       "    </tr>\n",
       "    <tr>\n",
       "      <th>2</th>\n",
       "      <td>2014-12-25</td>\n",
       "      <td>29.0</td>\n",
       "    </tr>\n",
       "    <tr>\n",
       "      <th>3</th>\n",
       "      <td>2014-12-21</td>\n",
       "      <td>27.0</td>\n",
       "    </tr>\n",
       "    <tr>\n",
       "      <th>4</th>\n",
       "      <td>2014-11-12</td>\n",
       "      <td>27.0</td>\n",
       "    </tr>\n",
       "    <tr>\n",
       "      <th>5</th>\n",
       "      <td>2014-12-19</td>\n",
       "      <td>27.0</td>\n",
       "    </tr>\n",
       "    <tr>\n",
       "      <th>6</th>\n",
       "      <td>2014-11-08</td>\n",
       "      <td>27.0</td>\n",
       "    </tr>\n",
       "  </tbody>\n",
       "</table>\n",
       "</div>"
      ],
      "text/plain": [
       "        Date  real\n",
       "0 2015-03-12  30.0\n",
       "1 2014-12-26  29.0\n",
       "2 2014-12-25  29.0\n",
       "3 2014-12-21  27.0\n",
       "4 2014-11-12  27.0\n",
       "5 2014-12-19  27.0\n",
       "6 2014-11-08  27.0"
      ]
     },
     "execution_count": 1224,
     "metadata": {},
     "output_type": "execute_result"
    }
   ],
   "source": [
    "sorted_df2 = df2_SierraLeone[\"real\"].sort_values(ascending=False)\n",
    "top_7 = sorted_df2.head(7)\n",
    "top_7 = pd.DataFrame(top_7).reset_index()\n",
    "top_7['Date'] = pd.to_datetime(top_7[\"Date\"], format = \"%Y-%m-%d\")\n",
    "top_7"
   ]
  },
  {
   "cell_type": "code",
   "execution_count": null,
   "metadata": {},
   "outputs": [
    {
     "data": {
      "image/png": "[encoded data removed]",
      "text/plain": [
       "<Figure size 640x480 with 1 Axes>"
      ]
     },
     "metadata": {},
     "output_type": "display_data"
    }
   ],
   "source": [
    "sns.barplot(x=top_7['Date'], y=top_7['real'], color=\"yellow\")\n",
    "plt.xticks(rotation=45)\n",
    "for index, value in enumerate(top_7['real']):\n",
    "    plt.text(index, value, f'{value:.0f}', ha='center', va='bottom')\n",
    "plt.show()"
   ]
  },
  {
   "cell_type": "markdown",
   "metadata": {},
   "source": [
    "## Preprocessing dan EDA untuk \"Cumulative number of confirmed Ebola deaths\""
   ]
  },
  {
   "cell_type": "markdown",
   "metadata": {},
   "source": [
    "### 1. Melihat nilai unik dari kolom \"Date\" dan mengecek negara mana yang mmemiliki timestamps paling pengkap"
   ]
  },
  {
   "cell_type": "code",
   "execution_count": null,
   "metadata": {},
   "outputs": [
    {
     "data": {
      "text/plain": [
       "259"
      ]
     },
     "execution_count": 1226,
     "metadata": {},
     "output_type": "execute_result"
    }
   ],
   "source": [
    "df6[\"Date\"].nunique()"
   ]
  },
  {
   "cell_type": "code",
   "execution_count": null,
   "metadata": {},
   "outputs": [
    {
     "data": {
      "text/plain": [
       "Country\n",
       "Guinea                      257\n",
       "Sierra Leone                257\n",
       "Nigeria                     255\n",
       "Senegal                     254\n",
       "United States of America    245\n",
       "Spain                       243\n",
       "Liberia 2                   105\n",
       "Liberia                      19\n",
       "Mali                          9\n",
       "United Kingdom                2\n",
       "Italy                         1\n",
       "Guinea 2                      1\n",
       "Name: count, dtype: int64"
      ]
     },
     "execution_count": 1227,
     "metadata": {},
     "output_type": "execute_result"
    }
   ],
   "source": [
    "df6[\"Country\"].value_counts()"
   ]
  },
  {
   "cell_type": "markdown",
   "metadata": {},
   "source": [
    "##### Disini tidak ada negara yang benar2 memiliki timestamp unik yang ada pada data tersebut, kami memutuskan berfokus pada Sierra Leone"
   ]
  },
  {
   "cell_type": "markdown",
   "metadata": {},
   "source": [
    "### 2. Filtering negara Sierra Leone dan mengurutkan berdasarkan waktu paling awal\n"
   ]
  },
  {
   "cell_type": "code",
   "execution_count": null,
   "metadata": {},
   "outputs": [
    {
     "data": {
      "text/html": [
       "<div>\n",
       "<style scoped>\n",
       "    .dataframe tbody tr th:only-of-type {\n",
       "        vertical-align: middle;\n",
       "    }\n",
       "\n",
       "    .dataframe tbody tr th {\n",
       "        vertical-align: top;\n",
       "    }\n",
       "\n",
       "    .dataframe thead th {\n",
       "        text-align: right;\n",
       "    }\n",
       "</style>\n",
       "<table border=\"1\" class=\"dataframe\">\n",
       "  <thead>\n",
       "    <tr style=\"text-align: right;\">\n",
       "      <th></th>\n",
       "      <th>Date</th>\n",
       "      <th>value</th>\n",
       "    </tr>\n",
       "  </thead>\n",
       "  <tbody>\n",
       "    <tr>\n",
       "      <th>5134</th>\n",
       "      <td>2014-08-29</td>\n",
       "      <td>287.0</td>\n",
       "    </tr>\n",
       "    <tr>\n",
       "      <th>5014</th>\n",
       "      <td>2014-09-05</td>\n",
       "      <td>362.0</td>\n",
       "    </tr>\n",
       "    <tr>\n",
       "      <th>4905</th>\n",
       "      <td>2014-09-08</td>\n",
       "      <td>400.0</td>\n",
       "    </tr>\n",
       "    <tr>\n",
       "      <th>4806</th>\n",
       "      <td>2014-09-12</td>\n",
       "      <td>403.0</td>\n",
       "    </tr>\n",
       "    <tr>\n",
       "      <th>4706</th>\n",
       "      <td>2014-09-16</td>\n",
       "      <td>429.0</td>\n",
       "    </tr>\n",
       "    <tr>\n",
       "      <th>...</th>\n",
       "      <td>...</td>\n",
       "      <td>...</td>\n",
       "    </tr>\n",
       "    <tr>\n",
       "      <th>17219</th>\n",
       "      <td>2015-12-17</td>\n",
       "      <td>2083.0</td>\n",
       "    </tr>\n",
       "    <tr>\n",
       "      <th>17299</th>\n",
       "      <td>2015-12-22</td>\n",
       "      <td>2083.0</td>\n",
       "    </tr>\n",
       "    <tr>\n",
       "      <th>17374</th>\n",
       "      <td>2015-12-23</td>\n",
       "      <td>2083.0</td>\n",
       "    </tr>\n",
       "    <tr>\n",
       "      <th>17441</th>\n",
       "      <td>2015-12-29</td>\n",
       "      <td>2083.0</td>\n",
       "    </tr>\n",
       "    <tr>\n",
       "      <th>17506</th>\n",
       "      <td>2016-03-23</td>\n",
       "      <td>2083.0</td>\n",
       "    </tr>\n",
       "  </tbody>\n",
       "</table>\n",
       "<p>257 rows × 2 columns</p>\n",
       "</div>"
      ],
      "text/plain": [
       "            Date   value\n",
       "5134  2014-08-29   287.0\n",
       "5014  2014-09-05   362.0\n",
       "4905  2014-09-08   400.0\n",
       "4806  2014-09-12   403.0\n",
       "4706  2014-09-16   429.0\n",
       "...          ...     ...\n",
       "17219 2015-12-17  2083.0\n",
       "17299 2015-12-22  2083.0\n",
       "17374 2015-12-23  2083.0\n",
       "17441 2015-12-29  2083.0\n",
       "17506 2016-03-23  2083.0\n",
       "\n",
       "[257 rows x 2 columns]"
      ]
     },
     "execution_count": 1228,
     "metadata": {},
     "output_type": "execute_result"
    }
   ],
   "source": [
    "df6_SierraLeone = df6[df6[\"Country\"] == \"Sierra Leone\"]\n",
    "df6_SierraLeone.drop(columns=[\"Indicator\", \"Country\"], inplace=True)\n",
    "df6_SierraLeone = df6_SierraLeone.sort_values(\"Date\")\n",
    "df6_SierraLeone"
   ]
  },
  {
   "cell_type": "markdown",
   "metadata": {},
   "source": [
    "### 3. Mencari kejanggalan data dengan menggunakan bantuan fungsi shift"
   ]
  },
  {
   "cell_type": "code",
   "execution_count": null,
   "metadata": {},
   "outputs": [
    {
     "data": {
      "text/html": [
       "<div>\n",
       "<style scoped>\n",
       "    .dataframe tbody tr th:only-of-type {\n",
       "        vertical-align: middle;\n",
       "    }\n",
       "\n",
       "    .dataframe tbody tr th {\n",
       "        vertical-align: top;\n",
       "    }\n",
       "\n",
       "    .dataframe thead th {\n",
       "        text-align: right;\n",
       "    }\n",
       "</style>\n",
       "<table border=\"1\" class=\"dataframe\">\n",
       "  <thead>\n",
       "    <tr style=\"text-align: right;\">\n",
       "      <th></th>\n",
       "      <th>Date</th>\n",
       "      <th>value</th>\n",
       "      <th>shift</th>\n",
       "      <th>real</th>\n",
       "    </tr>\n",
       "  </thead>\n",
       "  <tbody>\n",
       "    <tr>\n",
       "      <th>5134</th>\n",
       "      <td>2014-08-29</td>\n",
       "      <td>287.0</td>\n",
       "      <td>NaN</td>\n",
       "      <td>NaN</td>\n",
       "    </tr>\n",
       "    <tr>\n",
       "      <th>5014</th>\n",
       "      <td>2014-09-05</td>\n",
       "      <td>362.0</td>\n",
       "      <td>287.0</td>\n",
       "      <td>75.0</td>\n",
       "    </tr>\n",
       "    <tr>\n",
       "      <th>4905</th>\n",
       "      <td>2014-09-08</td>\n",
       "      <td>400.0</td>\n",
       "      <td>362.0</td>\n",
       "      <td>38.0</td>\n",
       "    </tr>\n",
       "    <tr>\n",
       "      <th>4806</th>\n",
       "      <td>2014-09-12</td>\n",
       "      <td>403.0</td>\n",
       "      <td>400.0</td>\n",
       "      <td>3.0</td>\n",
       "    </tr>\n",
       "    <tr>\n",
       "      <th>4706</th>\n",
       "      <td>2014-09-16</td>\n",
       "      <td>429.0</td>\n",
       "      <td>403.0</td>\n",
       "      <td>26.0</td>\n",
       "    </tr>\n",
       "    <tr>\n",
       "      <th>...</th>\n",
       "      <td>...</td>\n",
       "      <td>...</td>\n",
       "      <td>...</td>\n",
       "      <td>...</td>\n",
       "    </tr>\n",
       "    <tr>\n",
       "      <th>17219</th>\n",
       "      <td>2015-12-17</td>\n",
       "      <td>2083.0</td>\n",
       "      <td>2083.0</td>\n",
       "      <td>0.0</td>\n",
       "    </tr>\n",
       "    <tr>\n",
       "      <th>17299</th>\n",
       "      <td>2015-12-22</td>\n",
       "      <td>2083.0</td>\n",
       "      <td>2083.0</td>\n",
       "      <td>0.0</td>\n",
       "    </tr>\n",
       "    <tr>\n",
       "      <th>17374</th>\n",
       "      <td>2015-12-23</td>\n",
       "      <td>2083.0</td>\n",
       "      <td>2083.0</td>\n",
       "      <td>0.0</td>\n",
       "    </tr>\n",
       "    <tr>\n",
       "      <th>17441</th>\n",
       "      <td>2015-12-29</td>\n",
       "      <td>2083.0</td>\n",
       "      <td>2083.0</td>\n",
       "      <td>0.0</td>\n",
       "    </tr>\n",
       "    <tr>\n",
       "      <th>17506</th>\n",
       "      <td>2016-03-23</td>\n",
       "      <td>2083.0</td>\n",
       "      <td>2083.0</td>\n",
       "      <td>0.0</td>\n",
       "    </tr>\n",
       "  </tbody>\n",
       "</table>\n",
       "<p>257 rows × 4 columns</p>\n",
       "</div>"
      ],
      "text/plain": [
       "            Date   value   shift  real\n",
       "5134  2014-08-29   287.0     NaN   NaN\n",
       "5014  2014-09-05   362.0   287.0  75.0\n",
       "4905  2014-09-08   400.0   362.0  38.0\n",
       "4806  2014-09-12   403.0   400.0   3.0\n",
       "4706  2014-09-16   429.0   403.0  26.0\n",
       "...          ...     ...     ...   ...\n",
       "17219 2015-12-17  2083.0  2083.0   0.0\n",
       "17299 2015-12-22  2083.0  2083.0   0.0\n",
       "17374 2015-12-23  2083.0  2083.0   0.0\n",
       "17441 2015-12-29  2083.0  2083.0   0.0\n",
       "17506 2016-03-23  2083.0  2083.0   0.0\n",
       "\n",
       "[257 rows x 4 columns]"
      ]
     },
     "execution_count": 1229,
     "metadata": {},
     "output_type": "execute_result"
    }
   ],
   "source": [
    "df6_SierraLeone[\"shift\"] = df6_SierraLeone[\"value\"].shift()\n",
    "df6_SierraLeone[\"real\"] = df6_SierraLeone[\"value\"] - df6_SierraLeone[\"shift\"]\n",
    "df6_SierraLeone"
   ]
  },
  {
   "cell_type": "code",
   "execution_count": null,
   "metadata": {},
   "outputs": [
    {
     "data": {
      "text/html": [
       "<div>\n",
       "<style scoped>\n",
       "    .dataframe tbody tr th:only-of-type {\n",
       "        vertical-align: middle;\n",
       "    }\n",
       "\n",
       "    .dataframe tbody tr th {\n",
       "        vertical-align: top;\n",
       "    }\n",
       "\n",
       "    .dataframe thead th {\n",
       "        text-align: right;\n",
       "    }\n",
       "</style>\n",
       "<table border=\"1\" class=\"dataframe\">\n",
       "  <thead>\n",
       "    <tr style=\"text-align: right;\">\n",
       "      <th></th>\n",
       "      <th>Date</th>\n",
       "      <th>value</th>\n",
       "      <th>shift</th>\n",
       "      <th>real</th>\n",
       "    </tr>\n",
       "  </thead>\n",
       "  <tbody>\n",
       "    <tr>\n",
       "      <th>7423</th>\n",
       "      <td>2015-05-13</td>\n",
       "      <td>1976.0</td>\n",
       "      <td>1977.0</td>\n",
       "      <td>-1.0</td>\n",
       "    </tr>\n",
       "  </tbody>\n",
       "</table>\n",
       "</div>"
      ],
      "text/plain": [
       "           Date   value   shift  real\n",
       "7423 2015-05-13  1976.0  1977.0  -1.0"
      ]
     },
     "execution_count": 1230,
     "metadata": {},
     "output_type": "execute_result"
    }
   ],
   "source": [
    "df6_SierraLeone[df6_SierraLeone[\"real\"] < 0]"
   ]
  },
  {
   "cell_type": "markdown",
   "metadata": {},
   "source": [
    "##### Terdapat 1 data janggal yang terdapat nilai negatif untuk nilai kumulatif"
   ]
  },
  {
   "cell_type": "markdown",
   "metadata": {},
   "source": [
    "### 4. Fix data janggal dengan menggunakan data sebelumnya"
   ]
  },
  {
   "cell_type": "code",
   "execution_count": null,
   "metadata": {},
   "outputs": [],
   "source": [
    "temp2 = np.array(df6_SierraLeone[\"value\"])\n",
    "\n",
    "for i in range(len(temp2) - 1):\n",
    "    if temp2[i] >= temp2[i+1]:\n",
    "        temp2[i+1] = temp2[i]\n",
    "    else:\n",
    "        pass\n",
    "\n",
    "df6_SierraLeone[\"value\"] = temp2"
   ]
  },
  {
   "cell_type": "code",
   "execution_count": null,
   "metadata": {},
   "outputs": [
    {
     "data": {
      "text/html": [
       "<div>\n",
       "<style scoped>\n",
       "    .dataframe tbody tr th:only-of-type {\n",
       "        vertical-align: middle;\n",
       "    }\n",
       "\n",
       "    .dataframe tbody tr th {\n",
       "        vertical-align: top;\n",
       "    }\n",
       "\n",
       "    .dataframe thead th {\n",
       "        text-align: right;\n",
       "    }\n",
       "</style>\n",
       "<table border=\"1\" class=\"dataframe\">\n",
       "  <thead>\n",
       "    <tr style=\"text-align: right;\">\n",
       "      <th></th>\n",
       "      <th>Date</th>\n",
       "      <th>value</th>\n",
       "      <th>shift</th>\n",
       "      <th>real</th>\n",
       "    </tr>\n",
       "  </thead>\n",
       "  <tbody>\n",
       "  </tbody>\n",
       "</table>\n",
       "</div>"
      ],
      "text/plain": [
       "Empty DataFrame\n",
       "Columns: [Date, value, shift, real]\n",
       "Index: []"
      ]
     },
     "execution_count": 1232,
     "metadata": {},
     "output_type": "execute_result"
    }
   ],
   "source": [
    "df6_SierraLeone[\"shift\"] = df6_SierraLeone[\"value\"].shift()\n",
    "df6_SierraLeone[\"real\"] = df6_SierraLeone[\"value\"] - df6_SierraLeone[\"shift\"]\n",
    "df6_SierraLeone[df6_SierraLeone[\"real\"] < 0]"
   ]
  },
  {
   "cell_type": "markdown",
   "metadata": {},
   "source": [
    "### 5. Mencari selisih tanggal paling awal dan akhir untuk mengetahui missing value"
   ]
  },
  {
   "cell_type": "code",
   "execution_count": null,
   "metadata": {},
   "outputs": [
    {
     "name": "stdout",
     "output_type": "stream",
     "text": [
      "2014-08-29 00:00:00\n",
      "2016-03-23 00:00:00\n"
     ]
    }
   ],
   "source": [
    "start = df6_SierraLeone[\"Date\"].min()\n",
    "end = df6_SierraLeone[\"Date\"].max()\n",
    "\n",
    "print(start)\n",
    "print(end)"
   ]
  },
  {
   "cell_type": "code",
   "execution_count": null,
   "metadata": {},
   "outputs": [
    {
     "data": {
      "text/plain": [
       "0"
      ]
     },
     "execution_count": 1234,
     "metadata": {},
     "output_type": "execute_result"
    }
   ],
   "source": [
    "df6_SierraLeone[\"Date\"].duplicated().sum()"
   ]
  },
  {
   "cell_type": "markdown",
   "metadata": {},
   "source": [
    "##### Tidak ada \"Date\" yang duplikat"
   ]
  },
  {
   "cell_type": "code",
   "execution_count": null,
   "metadata": {},
   "outputs": [
    {
     "data": {
      "text/html": [
       "<div>\n",
       "<style scoped>\n",
       "    .dataframe tbody tr th:only-of-type {\n",
       "        vertical-align: middle;\n",
       "    }\n",
       "\n",
       "    .dataframe tbody tr th {\n",
       "        vertical-align: top;\n",
       "    }\n",
       "\n",
       "    .dataframe thead th {\n",
       "        text-align: right;\n",
       "    }\n",
       "</style>\n",
       "<table border=\"1\" class=\"dataframe\">\n",
       "  <thead>\n",
       "    <tr style=\"text-align: right;\">\n",
       "      <th></th>\n",
       "      <th>Date</th>\n",
       "      <th>value</th>\n",
       "      <th>shift</th>\n",
       "      <th>real</th>\n",
       "    </tr>\n",
       "  </thead>\n",
       "  <tbody>\n",
       "    <tr>\n",
       "      <th>5134</th>\n",
       "      <td>2014-08-29</td>\n",
       "      <td>287.0</td>\n",
       "      <td>NaN</td>\n",
       "      <td>NaN</td>\n",
       "    </tr>\n",
       "    <tr>\n",
       "      <th>5014</th>\n",
       "      <td>2014-09-05</td>\n",
       "      <td>362.0</td>\n",
       "      <td>287.0</td>\n",
       "      <td>75.0</td>\n",
       "    </tr>\n",
       "    <tr>\n",
       "      <th>4905</th>\n",
       "      <td>2014-09-08</td>\n",
       "      <td>400.0</td>\n",
       "      <td>362.0</td>\n",
       "      <td>38.0</td>\n",
       "    </tr>\n",
       "    <tr>\n",
       "      <th>4806</th>\n",
       "      <td>2014-09-12</td>\n",
       "      <td>403.0</td>\n",
       "      <td>400.0</td>\n",
       "      <td>3.0</td>\n",
       "    </tr>\n",
       "    <tr>\n",
       "      <th>4706</th>\n",
       "      <td>2014-09-16</td>\n",
       "      <td>429.0</td>\n",
       "      <td>403.0</td>\n",
       "      <td>26.0</td>\n",
       "    </tr>\n",
       "  </tbody>\n",
       "</table>\n",
       "</div>"
      ],
      "text/plain": [
       "           Date  value  shift  real\n",
       "5134 2014-08-29  287.0    NaN   NaN\n",
       "5014 2014-09-05  362.0  287.0  75.0\n",
       "4905 2014-09-08  400.0  362.0  38.0\n",
       "4806 2014-09-12  403.0  400.0   3.0\n",
       "4706 2014-09-16  429.0  403.0  26.0"
      ]
     },
     "execution_count": 1235,
     "metadata": {},
     "output_type": "execute_result"
    }
   ],
   "source": [
    "df6_SierraLeone.head()"
   ]
  },
  {
   "cell_type": "code",
   "execution_count": null,
   "metadata": {},
   "outputs": [
    {
     "data": {
      "text/plain": [
       "array(['2014-08-29', '2014-08-30', '2014-08-31', '2014-09-01',\n",
       "       '2014-09-02', '2014-09-03', '2014-09-04', '2014-09-05',\n",
       "       '2014-09-06', '2014-09-07', '2014-09-08', '2014-09-09',\n",
       "       '2014-09-10', '2014-09-11', '2014-09-12', '2014-09-13',\n",
       "       '2014-09-14', '2014-09-15', '2014-09-16', '2014-09-17',\n",
       "       '2014-09-18', '2014-09-19', '2014-09-20', '2014-09-21',\n",
       "       '2014-09-22', '2014-09-23', '2014-09-24', '2014-09-25',\n",
       "       '2014-09-26', '2014-09-27', '2014-09-28', '2014-09-29',\n",
       "       '2014-09-30', '2014-10-01', '2014-10-02', '2014-10-03',\n",
       "       '2014-10-04', '2014-10-05', '2014-10-06', '2014-10-07',\n",
       "       '2014-10-08', '2014-10-09', '2014-10-10', '2014-10-11',\n",
       "       '2014-10-12', '2014-10-13', '2014-10-14', '2014-10-15',\n",
       "       '2014-10-16', '2014-10-17', '2014-10-18', '2014-10-19',\n",
       "       '2014-10-20', '2014-10-21', '2014-10-22', '2014-10-23',\n",
       "       '2014-10-24', '2014-10-25', '2014-10-26', '2014-10-27',\n",
       "       '2014-10-28', '2014-10-29', '2014-10-30', '2014-10-31',\n",
       "       '2014-11-01', '2014-11-02', '2014-11-03', '2014-11-04',\n",
       "       '2014-11-05', '2014-11-06', '2014-11-07', '2014-11-08',\n",
       "       '2014-11-09', '2014-11-10', '2014-11-11', '2014-11-12',\n",
       "       '2014-11-13', '2014-11-14', '2014-11-15', '2014-11-16',\n",
       "       '2014-11-17', '2014-11-18', '2014-11-19', '2014-11-20',\n",
       "       '2014-11-21', '2014-11-22', '2014-11-23', '2014-11-24',\n",
       "       '2014-11-25', '2014-11-26', '2014-11-27', '2014-11-28',\n",
       "       '2014-11-29', '2014-11-30', '2014-12-01', '2014-12-02',\n",
       "       '2014-12-03', '2014-12-04', '2014-12-05', '2014-12-06',\n",
       "       '2014-12-07', '2014-12-08', '2014-12-09', '2014-12-10',\n",
       "       '2014-12-11', '2014-12-12', '2014-12-13', '2014-12-14',\n",
       "       '2014-12-15', '2014-12-16', '2014-12-17', '2014-12-18',\n",
       "       '2014-12-19', '2014-12-20', '2014-12-21', '2014-12-22',\n",
       "       '2014-12-23', '2014-12-24', '2014-12-25', '2014-12-26',\n",
       "       '2014-12-27', '2014-12-28', '2014-12-29', '2014-12-30',\n",
       "       '2014-12-31', '2015-01-01', '2015-01-02', '2015-01-03',\n",
       "       '2015-01-04', '2015-01-05', '2015-01-06', '2015-01-07',\n",
       "       '2015-01-08', '2015-01-09', '2015-01-10', '2015-01-11',\n",
       "       '2015-01-12', '2015-01-13', '2015-01-14', '2015-01-15',\n",
       "       '2015-01-16', '2015-01-17', '2015-01-18', '2015-01-19',\n",
       "       '2015-01-20', '2015-01-21', '2015-01-22', '2015-01-23',\n",
       "       '2015-01-24', '2015-01-25', '2015-01-26', '2015-01-27',\n",
       "       '2015-01-28', '2015-01-29', '2015-01-30', '2015-01-31',\n",
       "       '2015-02-01', '2015-02-02', '2015-02-03', '2015-02-04',\n",
       "       '2015-02-05', '2015-02-06', '2015-02-07', '2015-02-08',\n",
       "       '2015-02-09', '2015-02-10', '2015-02-11', '2015-02-12',\n",
       "       '2015-02-13', '2015-02-14', '2015-02-15', '2015-02-16',\n",
       "       '2015-02-17', '2015-02-18', '2015-02-19', '2015-02-20',\n",
       "       '2015-02-21', '2015-02-22', '2015-02-23', '2015-02-24',\n",
       "       '2015-02-25', '2015-02-26', '2015-02-27', '2015-02-28',\n",
       "       '2015-03-01', '2015-03-02', '2015-03-03', '2015-03-04',\n",
       "       '2015-03-05', '2015-03-06', '2015-03-07', '2015-03-08',\n",
       "       '2015-03-09', '2015-03-10', '2015-03-11', '2015-03-12',\n",
       "       '2015-03-13', '2015-03-14', '2015-03-15', '2015-03-16',\n",
       "       '2015-03-17', '2015-03-18', '2015-03-19', '2015-03-20',\n",
       "       '2015-03-21', '2015-03-22', '2015-03-23', '2015-03-24',\n",
       "       '2015-03-25', '2015-03-26', '2015-03-27', '2015-03-28',\n",
       "       '2015-03-29', '2015-03-30', '2015-03-31', '2015-04-01',\n",
       "       '2015-04-02', '2015-04-03', '2015-04-04', '2015-04-05',\n",
       "       '2015-04-06', '2015-04-07', '2015-04-08', '2015-04-09',\n",
       "       '2015-04-10', '2015-04-11', '2015-04-12', '2015-04-13',\n",
       "       '2015-04-14', '2015-04-15', '2015-04-16', '2015-04-17',\n",
       "       '2015-04-18', '2015-04-19', '2015-04-20', '2015-04-21',\n",
       "       '2015-04-22', '2015-04-23', '2015-04-24', '2015-04-25',\n",
       "       '2015-04-26', '2015-04-27', '2015-04-28', '2015-04-29',\n",
       "       '2015-04-30', '2015-05-01', '2015-05-02', '2015-05-03',\n",
       "       '2015-05-04', '2015-05-05', '2015-05-06', '2015-05-07',\n",
       "       '2015-05-08', '2015-05-09', '2015-05-10', '2015-05-11',\n",
       "       '2015-05-12', '2015-05-13', '2015-05-14', '2015-05-15',\n",
       "       '2015-05-16', '2015-05-17', '2015-05-18', '2015-05-19',\n",
       "       '2015-05-20', '2015-05-21', '2015-05-22', '2015-05-23',\n",
       "       '2015-05-24', '2015-05-25', '2015-05-26', '2015-05-27',\n",
       "       '2015-05-28', '2015-05-29', '2015-05-30', '2015-05-31',\n",
       "       '2015-06-01', '2015-06-02', '2015-06-03', '2015-06-04',\n",
       "       '2015-06-05', '2015-06-06', '2015-06-07', '2015-06-08',\n",
       "       '2015-06-09', '2015-06-10', '2015-06-11', '2015-06-12',\n",
       "       '2015-06-13', '2015-06-14', '2015-06-15', '2015-06-16',\n",
       "       '2015-06-17', '2015-06-18', '2015-06-19', '2015-06-20',\n",
       "       '2015-06-21', '2015-06-22', '2015-06-23', '2015-06-24',\n",
       "       '2015-06-25', '2015-06-26', '2015-06-27', '2015-06-28',\n",
       "       '2015-06-29', '2015-06-30', '2015-07-01', '2015-07-02',\n",
       "       '2015-07-03', '2015-07-04', '2015-07-05', '2015-07-06',\n",
       "       '2015-07-07', '2015-07-08', '2015-07-09', '2015-07-10',\n",
       "       '2015-07-11', '2015-07-12', '2015-07-13', '2015-07-14',\n",
       "       '2015-07-15', '2015-07-16', '2015-07-17', '2015-07-18',\n",
       "       '2015-07-19', '2015-07-20', '2015-07-21', '2015-07-22',\n",
       "       '2015-07-23', '2015-07-24', '2015-07-25', '2015-07-26',\n",
       "       '2015-07-27', '2015-07-28', '2015-07-29', '2015-07-30',\n",
       "       '2015-07-31', '2015-08-01', '2015-08-02', '2015-08-03',\n",
       "       '2015-08-04', '2015-08-05', '2015-08-06', '2015-08-07',\n",
       "       '2015-08-08', '2015-08-09', '2015-08-10', '2015-08-11',\n",
       "       '2015-08-12', '2015-08-13', '2015-08-14', '2015-08-15',\n",
       "       '2015-08-16', '2015-08-17', '2015-08-18', '2015-08-19',\n",
       "       '2015-08-20', '2015-08-21', '2015-08-22', '2015-08-23',\n",
       "       '2015-08-24', '2015-08-25', '2015-08-26', '2015-08-27',\n",
       "       '2015-08-28', '2015-08-29', '2015-08-30', '2015-08-31',\n",
       "       '2015-09-01', '2015-09-02', '2015-09-03', '2015-09-04',\n",
       "       '2015-09-05', '2015-09-06', '2015-09-07', '2015-09-08',\n",
       "       '2015-09-09', '2015-09-10', '2015-09-11', '2015-09-12',\n",
       "       '2015-09-13', '2015-09-14', '2015-09-15', '2015-09-16',\n",
       "       '2015-09-17', '2015-09-18', '2015-09-19', '2015-09-20',\n",
       "       '2015-09-21', '2015-09-22', '2015-09-23', '2015-09-24',\n",
       "       '2015-09-25', '2015-09-26', '2015-09-27', '2015-09-28',\n",
       "       '2015-09-29', '2015-09-30', '2015-10-01', '2015-10-02',\n",
       "       '2015-10-03', '2015-10-04', '2015-10-05', '2015-10-06',\n",
       "       '2015-10-07', '2015-10-08', '2015-10-09', '2015-10-10',\n",
       "       '2015-10-11', '2015-10-12', '2015-10-13', '2015-10-14',\n",
       "       '2015-10-15', '2015-10-16', '2015-10-17', '2015-10-18',\n",
       "       '2015-10-19', '2015-10-20', '2015-10-21', '2015-10-22',\n",
       "       '2015-10-23', '2015-10-24', '2015-10-25', '2015-10-26',\n",
       "       '2015-10-27', '2015-10-28', '2015-10-29', '2015-10-30',\n",
       "       '2015-10-31', '2015-11-01', '2015-11-02', '2015-11-03',\n",
       "       '2015-11-04', '2015-11-05', '2015-11-06', '2015-11-07',\n",
       "       '2015-11-08', '2015-11-09', '2015-11-10', '2015-11-11',\n",
       "       '2015-11-12', '2015-11-13', '2015-11-14', '2015-11-15',\n",
       "       '2015-11-16', '2015-11-17', '2015-11-18', '2015-11-19',\n",
       "       '2015-11-20', '2015-11-21', '2015-11-22', '2015-11-23',\n",
       "       '2015-11-24', '2015-11-25', '2015-11-26', '2015-11-27',\n",
       "       '2015-11-28', '2015-11-29', '2015-11-30', '2015-12-01',\n",
       "       '2015-12-02', '2015-12-03', '2015-12-04', '2015-12-05',\n",
       "       '2015-12-06', '2015-12-07', '2015-12-08', '2015-12-09',\n",
       "       '2015-12-10', '2015-12-11', '2015-12-12', '2015-12-13',\n",
       "       '2015-12-14', '2015-12-15', '2015-12-16', '2015-12-17',\n",
       "       '2015-12-18', '2015-12-19', '2015-12-20', '2015-12-21',\n",
       "       '2015-12-22', '2015-12-23', '2015-12-24', '2015-12-25',\n",
       "       '2015-12-26', '2015-12-27', '2015-12-28', '2015-12-29',\n",
       "       '2015-12-30', '2015-12-31', '2016-01-01', '2016-01-02',\n",
       "       '2016-01-03', '2016-01-04', '2016-01-05', '2016-01-06',\n",
       "       '2016-01-07', '2016-01-08', '2016-01-09', '2016-01-10',\n",
       "       '2016-01-11', '2016-01-12', '2016-01-13', '2016-01-14',\n",
       "       '2016-01-15', '2016-01-16', '2016-01-17', '2016-01-18',\n",
       "       '2016-01-19', '2016-01-20', '2016-01-21', '2016-01-22',\n",
       "       '2016-01-23', '2016-01-24', '2016-01-25', '2016-01-26',\n",
       "       '2016-01-27', '2016-01-28', '2016-01-29', '2016-01-30',\n",
       "       '2016-01-31', '2016-02-01', '2016-02-02', '2016-02-03',\n",
       "       '2016-02-04', '2016-02-05', '2016-02-06', '2016-02-07',\n",
       "       '2016-02-08', '2016-02-09', '2016-02-10', '2016-02-11',\n",
       "       '2016-02-12', '2016-02-13', '2016-02-14', '2016-02-15',\n",
       "       '2016-02-16', '2016-02-17', '2016-02-18', '2016-02-19',\n",
       "       '2016-02-20', '2016-02-21', '2016-02-22', '2016-02-23',\n",
       "       '2016-02-24', '2016-02-25', '2016-02-26', '2016-02-27',\n",
       "       '2016-02-28', '2016-02-29', '2016-03-01', '2016-03-02',\n",
       "       '2016-03-03', '2016-03-04', '2016-03-05', '2016-03-06',\n",
       "       '2016-03-07', '2016-03-08', '2016-03-09', '2016-03-10',\n",
       "       '2016-03-11', '2016-03-12', '2016-03-13', '2016-03-14',\n",
       "       '2016-03-15', '2016-03-16', '2016-03-17', '2016-03-18',\n",
       "       '2016-03-19', '2016-03-20', '2016-03-21', '2016-03-22',\n",
       "       '2016-03-23'], dtype='datetime64[D]')"
      ]
     },
     "execution_count": 1236,
     "metadata": {},
     "output_type": "execute_result"
    }
   ],
   "source": [
    "timestamps = np.arange(start, end + np.timedelta64(1, 'D'), dtype='datetime64[D]')\n",
    "timestamps"
   ]
  },
  {
   "cell_type": "code",
   "execution_count": null,
   "metadata": {},
   "outputs": [
    {
     "name": "stdout",
     "output_type": "stream",
     "text": [
      "257\n",
      "573\n"
     ]
    }
   ],
   "source": [
    "print(len(df6_SierraLeone))\n",
    "print(len(timestamps))"
   ]
  },
  {
   "cell_type": "markdown",
   "metadata": {},
   "source": [
    "##### Terdapat 316 Missing value pada data ini"
   ]
  },
  {
   "cell_type": "markdown",
   "metadata": {},
   "source": [
    "### 6. Melakukan Left join antara timestamp lengkap dan timestamp data untuk melihat grafik pada data tersebut\n"
   ]
  },
  {
   "cell_type": "code",
   "execution_count": null,
   "metadata": {},
   "outputs": [],
   "source": [
    "df_waktu = pd.DataFrame({\n",
    "    \"Date\" : timestamps\n",
    "})\n",
    "\n",
    "df6_SierraLeone = pd.merge(df_waktu, df6_SierraLeone, on=\"Date\", how=\"left\")"
   ]
  },
  {
   "cell_type": "markdown",
   "metadata": {},
   "source": [
    "##### Plot sebelum data diimputasi\n"
   ]
  },
  {
   "cell_type": "code",
   "execution_count": null,
   "metadata": {},
   "outputs": [
    {
     "data": {
      "image/png": "[encoded data removed]",
      "text/plain": [
       "<Figure size 640x480 with 1 Axes>"
      ]
     },
     "metadata": {},
     "output_type": "display_data"
    }
   ],
   "source": [
    "df6_SierraLeone.set_index(\"Date\", inplace=True)\n",
    "sns.scatterplot(df6_SierraLeone[\"value\"], color=\"blue\")\n",
    "plt.xticks(rotation=45)\n",
    "plt.show()"
   ]
  },
  {
   "cell_type": "markdown",
   "metadata": {},
   "source": [
    "##### Plot setelah data diimputasi dengan interpolasi linear"
   ]
  },
  {
   "cell_type": "code",
   "execution_count": null,
   "metadata": {},
   "outputs": [
    {
     "data": {
      "image/png": "[encoded data removed]",
      "text/plain": [
       "<Figure size 640x480 with 1 Axes>"
      ]
     },
     "metadata": {},
     "output_type": "display_data"
    }
   ],
   "source": [
    "df6_SierraLeone.interpolate(method=\"linear\", inplace=True)\n",
    "df6_SierraLeone[\"value\"] = df6_SierraLeone[\"value\"].round(0)\n",
    "sns.scatterplot(df6_SierraLeone[\"value\"], color=\"blue\")\n",
    "plt.xticks(rotation=45)\n",
    "plt.show()"
   ]
  },
  {
   "cell_type": "markdown",
   "metadata": {},
   "source": [
    "### 7. Menggunakan plot residu dari fungsi shift untuk melihat fluktuasi kasus ebola\n"
   ]
  },
  {
   "cell_type": "code",
   "execution_count": null,
   "metadata": {},
   "outputs": [
    {
     "data": {
      "text/html": [
       "<div>\n",
       "<style scoped>\n",
       "    .dataframe tbody tr th:only-of-type {\n",
       "        vertical-align: middle;\n",
       "    }\n",
       "\n",
       "    .dataframe tbody tr th {\n",
       "        vertical-align: top;\n",
       "    }\n",
       "\n",
       "    .dataframe thead th {\n",
       "        text-align: right;\n",
       "    }\n",
       "</style>\n",
       "<table border=\"1\" class=\"dataframe\">\n",
       "  <thead>\n",
       "    <tr style=\"text-align: right;\">\n",
       "      <th></th>\n",
       "      <th>value</th>\n",
       "      <th>shift</th>\n",
       "      <th>real</th>\n",
       "    </tr>\n",
       "    <tr>\n",
       "      <th>Date</th>\n",
       "      <th></th>\n",
       "      <th></th>\n",
       "      <th></th>\n",
       "    </tr>\n",
       "  </thead>\n",
       "  <tbody>\n",
       "    <tr>\n",
       "      <th>2014-08-29</th>\n",
       "      <td>287.0</td>\n",
       "      <td>NaN</td>\n",
       "      <td>NaN</td>\n",
       "    </tr>\n",
       "    <tr>\n",
       "      <th>2014-08-30</th>\n",
       "      <td>298.0</td>\n",
       "      <td>287.0</td>\n",
       "      <td>11.0</td>\n",
       "    </tr>\n",
       "    <tr>\n",
       "      <th>2014-08-31</th>\n",
       "      <td>308.0</td>\n",
       "      <td>298.0</td>\n",
       "      <td>10.0</td>\n",
       "    </tr>\n",
       "    <tr>\n",
       "      <th>2014-09-01</th>\n",
       "      <td>319.0</td>\n",
       "      <td>308.0</td>\n",
       "      <td>11.0</td>\n",
       "    </tr>\n",
       "    <tr>\n",
       "      <th>2014-09-02</th>\n",
       "      <td>330.0</td>\n",
       "      <td>319.0</td>\n",
       "      <td>11.0</td>\n",
       "    </tr>\n",
       "    <tr>\n",
       "      <th>...</th>\n",
       "      <td>...</td>\n",
       "      <td>...</td>\n",
       "      <td>...</td>\n",
       "    </tr>\n",
       "    <tr>\n",
       "      <th>2016-03-19</th>\n",
       "      <td>2083.0</td>\n",
       "      <td>2083.0</td>\n",
       "      <td>0.0</td>\n",
       "    </tr>\n",
       "    <tr>\n",
       "      <th>2016-03-20</th>\n",
       "      <td>2083.0</td>\n",
       "      <td>2083.0</td>\n",
       "      <td>0.0</td>\n",
       "    </tr>\n",
       "    <tr>\n",
       "      <th>2016-03-21</th>\n",
       "      <td>2083.0</td>\n",
       "      <td>2083.0</td>\n",
       "      <td>0.0</td>\n",
       "    </tr>\n",
       "    <tr>\n",
       "      <th>2016-03-22</th>\n",
       "      <td>2083.0</td>\n",
       "      <td>2083.0</td>\n",
       "      <td>0.0</td>\n",
       "    </tr>\n",
       "    <tr>\n",
       "      <th>2016-03-23</th>\n",
       "      <td>2083.0</td>\n",
       "      <td>2083.0</td>\n",
       "      <td>0.0</td>\n",
       "    </tr>\n",
       "  </tbody>\n",
       "</table>\n",
       "<p>573 rows × 3 columns</p>\n",
       "</div>"
      ],
      "text/plain": [
       "             value   shift  real\n",
       "Date                            \n",
       "2014-08-29   287.0     NaN   NaN\n",
       "2014-08-30   298.0   287.0  11.0\n",
       "2014-08-31   308.0   298.0  10.0\n",
       "2014-09-01   319.0   308.0  11.0\n",
       "2014-09-02   330.0   319.0  11.0\n",
       "...            ...     ...   ...\n",
       "2016-03-19  2083.0  2083.0   0.0\n",
       "2016-03-20  2083.0  2083.0   0.0\n",
       "2016-03-21  2083.0  2083.0   0.0\n",
       "2016-03-22  2083.0  2083.0   0.0\n",
       "2016-03-23  2083.0  2083.0   0.0\n",
       "\n",
       "[573 rows x 3 columns]"
      ]
     },
     "execution_count": 1241,
     "metadata": {},
     "output_type": "execute_result"
    }
   ],
   "source": [
    "df6_SierraLeone[\"shift\"] = df6_SierraLeone[\"value\"].shift()\n",
    "df6_SierraLeone[\"real\"] = df6_SierraLeone[\"value\"] - df6_SierraLeone[\"shift\"]\n",
    "df6_SierraLeone"
   ]
  },
  {
   "cell_type": "code",
   "execution_count": null,
   "metadata": {},
   "outputs": [
    {
     "data": {
      "image/png": "[encoded data removed]",
      "text/plain": [
       "<Figure size 640x480 with 1 Axes>"
      ]
     },
     "metadata": {},
     "output_type": "display_data"
    }
   ],
   "source": [
    "sns.lineplot(df6_SierraLeone[\"real\"], color=\"skyblue\")\n",
    "plt.xticks(rotation=45)\n",
    "plt.show()"
   ]
  },
  {
   "cell_type": "markdown",
   "metadata": {},
   "source": [
    "##### Dapat dilihat kasus kematian akibat ebola sangat fluktuatif pada akhir 2014 dan awal 2015 dan melandai di akhir 2015"
   ]
  },
  {
   "cell_type": "code",
   "execution_count": null,
   "metadata": {},
   "outputs": [
    {
     "data": {
      "text/html": [
       "<div>\n",
       "<style scoped>\n",
       "    .dataframe tbody tr th:only-of-type {\n",
       "        vertical-align: middle;\n",
       "    }\n",
       "\n",
       "    .dataframe tbody tr th {\n",
       "        vertical-align: top;\n",
       "    }\n",
       "\n",
       "    .dataframe thead th {\n",
       "        text-align: right;\n",
       "    }\n",
       "</style>\n",
       "<table border=\"1\" class=\"dataframe\">\n",
       "  <thead>\n",
       "    <tr style=\"text-align: right;\">\n",
       "      <th></th>\n",
       "      <th>Date</th>\n",
       "      <th>real</th>\n",
       "    </tr>\n",
       "  </thead>\n",
       "  <tbody>\n",
       "    <tr>\n",
       "      <th>0</th>\n",
       "      <td>2014-12-23</td>\n",
       "      <td>21.0</td>\n",
       "    </tr>\n",
       "    <tr>\n",
       "      <th>1</th>\n",
       "      <td>2014-12-26</td>\n",
       "      <td>21.0</td>\n",
       "    </tr>\n",
       "    <tr>\n",
       "      <th>2</th>\n",
       "      <td>2014-12-25</td>\n",
       "      <td>20.0</td>\n",
       "    </tr>\n",
       "    <tr>\n",
       "      <th>3</th>\n",
       "      <td>2014-11-12</td>\n",
       "      <td>17.0</td>\n",
       "    </tr>\n",
       "    <tr>\n",
       "      <th>4</th>\n",
       "      <td>2014-11-11</td>\n",
       "      <td>17.0</td>\n",
       "    </tr>\n",
       "    <tr>\n",
       "      <th>5</th>\n",
       "      <td>2014-11-08</td>\n",
       "      <td>17.0</td>\n",
       "    </tr>\n",
       "    <tr>\n",
       "      <th>6</th>\n",
       "      <td>2014-11-09</td>\n",
       "      <td>17.0</td>\n",
       "    </tr>\n",
       "  </tbody>\n",
       "</table>\n",
       "</div>"
      ],
      "text/plain": [
       "        Date  real\n",
       "0 2014-12-23  21.0\n",
       "1 2014-12-26  21.0\n",
       "2 2014-12-25  20.0\n",
       "3 2014-11-12  17.0\n",
       "4 2014-11-11  17.0\n",
       "5 2014-11-08  17.0\n",
       "6 2014-11-09  17.0"
      ]
     },
     "execution_count": 1243,
     "metadata": {},
     "output_type": "execute_result"
    }
   ],
   "source": [
    "sorted_df6 = df6_SierraLeone[\"real\"].sort_values(ascending=False)\n",
    "top_7 = sorted_df6.head(7)\n",
    "top_7 = pd.DataFrame(top_7).reset_index()\n",
    "top_7['Date'] = pd.to_datetime(top_7[\"Date\"], format = \"%Y-%m-%d\")\n",
    "top_7"
   ]
  },
  {
   "cell_type": "markdown",
   "metadata": {},
   "source": [
    "### 8. Memunculkan hari dengan kasus kematian terbanyak akibat ebola"
   ]
  },
  {
   "cell_type": "code",
   "execution_count": null,
   "metadata": {},
   "outputs": [
    {
     "data": {
      "image/png": "[encoded data removed]",
      "text/plain": [
       "<Figure size 640x480 with 1 Axes>"
      ]
     },
     "metadata": {},
     "output_type": "display_data"
    }
   ],
   "source": [
    "sns.barplot(x=top_7['Date'], y=top_7['real'], color=\"navy\")\n",
    "plt.xticks(rotation=45)\n",
    "for index, value in enumerate(top_7['real']):\n",
    "    plt.text(index, value, f'{value:.0f}', ha='center', va='bottom')\n",
    "plt.show()"
   ]
  }
 ],
 "metadata": {
  "kernelspec": {
   "display_name": "base",
   "language": "python",
   "name": "python3"
  },
  "language_info": {
   "codemirror_mode": {
    "name": "ipython",
    "version": 3
   },
   "file_extension": ".py",
   "mimetype": "text/x-python",
   "name": "python",
   "nbconvert_exporter": "python",
   "pygments_lexer": "ipython3",
   "version": "3.12.4"
  }
 },
 "nbformat": 4,
 "nbformat_minor": 2
}
