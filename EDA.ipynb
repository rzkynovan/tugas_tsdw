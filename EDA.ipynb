{
 "cells": [
  {
   "cell_type": "code",
   "execution_count": 1,
   "metadata": {},
   "outputs": [],
   "source": [
    "import numpy as np\n",
    "import pandas as pd\n",
    "import matplotlib.pyplot as plt\n",
    "import seaborn as sns\n",
    "import warnings\n",
    "warnings.filterwarnings(\"ignore\")"
   ]
  },
  {
   "cell_type": "markdown",
   "metadata": {},
   "source": [
    "#test\n",
    "asdasdNovan Update"
   ]
  },
  {
   "cell_type": "markdown",
   "metadata": {},
   "source": [
    "## Data Importing"
   ]
  },
  {
   "cell_type": "code",
   "execution_count": 2,
   "metadata": {},
   "outputs": [
    {
     "data": {
      "text/html": [
       "<div>\n",
       "<style scoped>\n",
       "    .dataframe tbody tr th:only-of-type {\n",
       "        vertical-align: middle;\n",
       "    }\n",
       "\n",
       "    .dataframe tbody tr th {\n",
       "        vertical-align: top;\n",
       "    }\n",
       "\n",
       "    .dataframe thead th {\n",
       "        text-align: right;\n",
       "    }\n",
       "</style>\n",
       "<table border=\"1\" class=\"dataframe\">\n",
       "  <thead>\n",
       "    <tr style=\"text-align: right;\">\n",
       "      <th></th>\n",
       "      <th>Indicator</th>\n",
       "      <th>Country</th>\n",
       "      <th>Date</th>\n",
       "      <th>value</th>\n",
       "    </tr>\n",
       "  </thead>\n",
       "  <tbody>\n",
       "    <tr>\n",
       "      <th>0</th>\n",
       "      <td>Cumulative number of confirmed, probable and s...</td>\n",
       "      <td>Guinea</td>\n",
       "      <td>2015-03-10</td>\n",
       "      <td>3285.0</td>\n",
       "    </tr>\n",
       "    <tr>\n",
       "      <th>1</th>\n",
       "      <td>Cumulative number of confirmed Ebola cases</td>\n",
       "      <td>Guinea</td>\n",
       "      <td>2015-03-10</td>\n",
       "      <td>2871.0</td>\n",
       "    </tr>\n",
       "    <tr>\n",
       "      <th>2</th>\n",
       "      <td>Cumulative number of probable Ebola cases</td>\n",
       "      <td>Guinea</td>\n",
       "      <td>2015-03-10</td>\n",
       "      <td>392.0</td>\n",
       "    </tr>\n",
       "    <tr>\n",
       "      <th>3</th>\n",
       "      <td>Cumulative number of suspected Ebola cases</td>\n",
       "      <td>Guinea</td>\n",
       "      <td>2015-03-10</td>\n",
       "      <td>22.0</td>\n",
       "    </tr>\n",
       "    <tr>\n",
       "      <th>4</th>\n",
       "      <td>Cumulative number of confirmed, probable and s...</td>\n",
       "      <td>Guinea</td>\n",
       "      <td>2015-03-10</td>\n",
       "      <td>2170.0</td>\n",
       "    </tr>\n",
       "    <tr>\n",
       "      <th>5</th>\n",
       "      <td>Cumulative number of confirmed Ebola deaths</td>\n",
       "      <td>Guinea</td>\n",
       "      <td>2015-03-10</td>\n",
       "      <td>1778.0</td>\n",
       "    </tr>\n",
       "    <tr>\n",
       "      <th>6</th>\n",
       "      <td>Cumulative number of probable Ebola deaths</td>\n",
       "      <td>Guinea</td>\n",
       "      <td>2015-03-10</td>\n",
       "      <td>392.0</td>\n",
       "    </tr>\n",
       "    <tr>\n",
       "      <th>7</th>\n",
       "      <td>Cumulative number of confirmed, probable and s...</td>\n",
       "      <td>Liberia</td>\n",
       "      <td>2015-03-10</td>\n",
       "      <td>9343.0</td>\n",
       "    </tr>\n",
       "    <tr>\n",
       "      <th>8</th>\n",
       "      <td>Cumulative number of confirmed Ebola cases</td>\n",
       "      <td>Liberia</td>\n",
       "      <td>2015-03-10</td>\n",
       "      <td>3150.0</td>\n",
       "    </tr>\n",
       "    <tr>\n",
       "      <th>9</th>\n",
       "      <td>Cumulative number of probable Ebola cases</td>\n",
       "      <td>Liberia</td>\n",
       "      <td>2015-03-10</td>\n",
       "      <td>1879.0</td>\n",
       "    </tr>\n",
       "  </tbody>\n",
       "</table>\n",
       "</div>"
      ],
      "text/plain": [
       "                                           Indicator  Country        Date  \\\n",
       "0  Cumulative number of confirmed, probable and s...   Guinea  2015-03-10   \n",
       "1         Cumulative number of confirmed Ebola cases   Guinea  2015-03-10   \n",
       "2          Cumulative number of probable Ebola cases   Guinea  2015-03-10   \n",
       "3         Cumulative number of suspected Ebola cases   Guinea  2015-03-10   \n",
       "4  Cumulative number of confirmed, probable and s...   Guinea  2015-03-10   \n",
       "5        Cumulative number of confirmed Ebola deaths   Guinea  2015-03-10   \n",
       "6         Cumulative number of probable Ebola deaths   Guinea  2015-03-10   \n",
       "7  Cumulative number of confirmed, probable and s...  Liberia  2015-03-10   \n",
       "8         Cumulative number of confirmed Ebola cases  Liberia  2015-03-10   \n",
       "9          Cumulative number of probable Ebola cases  Liberia  2015-03-10   \n",
       "\n",
       "    value  \n",
       "0  3285.0  \n",
       "1  2871.0  \n",
       "2   392.0  \n",
       "3    22.0  \n",
       "4  2170.0  \n",
       "5  1778.0  \n",
       "6   392.0  \n",
       "7  9343.0  \n",
       "8  3150.0  \n",
       "9  1879.0  "
      ]
     },
     "execution_count": 2,
     "metadata": {},
     "output_type": "execute_result"
    }
   ],
   "source": [
    "df = pd.read_csv('./datas/ebola.csv')\n",
    "df.head(10)"
   ]
  },
  {
   "cell_type": "code",
   "execution_count": 3,
   "metadata": {},
   "outputs": [
    {
     "data": {
      "text/html": [
       "<div>\n",
       "<style scoped>\n",
       "    .dataframe tbody tr th:only-of-type {\n",
       "        vertical-align: middle;\n",
       "    }\n",
       "\n",
       "    .dataframe tbody tr th {\n",
       "        vertical-align: top;\n",
       "    }\n",
       "\n",
       "    .dataframe thead th {\n",
       "        text-align: right;\n",
       "    }\n",
       "</style>\n",
       "<table border=\"1\" class=\"dataframe\">\n",
       "  <thead>\n",
       "    <tr style=\"text-align: right;\">\n",
       "      <th></th>\n",
       "      <th>Indicator</th>\n",
       "      <th>Country</th>\n",
       "      <th>Date</th>\n",
       "      <th>value</th>\n",
       "    </tr>\n",
       "  </thead>\n",
       "  <tbody>\n",
       "    <tr>\n",
       "      <th>17575</th>\n",
       "      <td>Cumulative number of suspected Ebola deaths</td>\n",
       "      <td>Senegal</td>\n",
       "      <td>2016-03-23</td>\n",
       "      <td>0.0</td>\n",
       "    </tr>\n",
       "    <tr>\n",
       "      <th>17576</th>\n",
       "      <td>Cumulative number of confirmed, probable and s...</td>\n",
       "      <td>Senegal</td>\n",
       "      <td>2016-03-23</td>\n",
       "      <td>0.0</td>\n",
       "    </tr>\n",
       "    <tr>\n",
       "      <th>17577</th>\n",
       "      <td>Cumulative number of confirmed Ebola deaths</td>\n",
       "      <td>Spain</td>\n",
       "      <td>2016-03-23</td>\n",
       "      <td>0.0</td>\n",
       "    </tr>\n",
       "    <tr>\n",
       "      <th>17578</th>\n",
       "      <td>Cumulative number of probable Ebola deaths</td>\n",
       "      <td>Spain</td>\n",
       "      <td>2016-03-23</td>\n",
       "      <td>0.0</td>\n",
       "    </tr>\n",
       "    <tr>\n",
       "      <th>17579</th>\n",
       "      <td>Cumulative number of suspected Ebola deaths</td>\n",
       "      <td>Spain</td>\n",
       "      <td>2016-03-23</td>\n",
       "      <td>0.0</td>\n",
       "    </tr>\n",
       "    <tr>\n",
       "      <th>17580</th>\n",
       "      <td>Cumulative number of confirmed, probable and s...</td>\n",
       "      <td>Spain</td>\n",
       "      <td>2016-03-23</td>\n",
       "      <td>0.0</td>\n",
       "    </tr>\n",
       "    <tr>\n",
       "      <th>17581</th>\n",
       "      <td>Cumulative number of confirmed Ebola deaths</td>\n",
       "      <td>United States of America</td>\n",
       "      <td>2016-03-23</td>\n",
       "      <td>1.0</td>\n",
       "    </tr>\n",
       "    <tr>\n",
       "      <th>17582</th>\n",
       "      <td>Cumulative number of probable Ebola deaths</td>\n",
       "      <td>United States of America</td>\n",
       "      <td>2016-03-23</td>\n",
       "      <td>0.0</td>\n",
       "    </tr>\n",
       "    <tr>\n",
       "      <th>17583</th>\n",
       "      <td>Cumulative number of suspected Ebola deaths</td>\n",
       "      <td>United States of America</td>\n",
       "      <td>2016-03-23</td>\n",
       "      <td>0.0</td>\n",
       "    </tr>\n",
       "    <tr>\n",
       "      <th>17584</th>\n",
       "      <td>Cumulative number of confirmed, probable and s...</td>\n",
       "      <td>United States of America</td>\n",
       "      <td>2016-03-23</td>\n",
       "      <td>1.0</td>\n",
       "    </tr>\n",
       "  </tbody>\n",
       "</table>\n",
       "</div>"
      ],
      "text/plain": [
       "                                               Indicator  \\\n",
       "17575        Cumulative number of suspected Ebola deaths   \n",
       "17576  Cumulative number of confirmed, probable and s...   \n",
       "17577        Cumulative number of confirmed Ebola deaths   \n",
       "17578         Cumulative number of probable Ebola deaths   \n",
       "17579        Cumulative number of suspected Ebola deaths   \n",
       "17580  Cumulative number of confirmed, probable and s...   \n",
       "17581        Cumulative number of confirmed Ebola deaths   \n",
       "17582         Cumulative number of probable Ebola deaths   \n",
       "17583        Cumulative number of suspected Ebola deaths   \n",
       "17584  Cumulative number of confirmed, probable and s...   \n",
       "\n",
       "                        Country        Date  value  \n",
       "17575                   Senegal  2016-03-23    0.0  \n",
       "17576                   Senegal  2016-03-23    0.0  \n",
       "17577                     Spain  2016-03-23    0.0  \n",
       "17578                     Spain  2016-03-23    0.0  \n",
       "17579                     Spain  2016-03-23    0.0  \n",
       "17580                     Spain  2016-03-23    0.0  \n",
       "17581  United States of America  2016-03-23    1.0  \n",
       "17582  United States of America  2016-03-23    0.0  \n",
       "17583  United States of America  2016-03-23    0.0  \n",
       "17584  United States of America  2016-03-23    1.0  "
      ]
     },
     "execution_count": 3,
     "metadata": {},
     "output_type": "execute_result"
    }
   ],
   "source": [
    "df.tail(10)"
   ]
  },
  {
   "cell_type": "code",
   "execution_count": 4,
   "metadata": {},
   "outputs": [
    {
     "data": {
      "text/plain": [
       "17585"
      ]
     },
     "execution_count": 4,
     "metadata": {},
     "output_type": "execute_result"
    }
   ],
   "source": [
    "len(df)"
   ]
  },
  {
   "cell_type": "markdown",
   "metadata": {},
   "source": [
    "## Data Preprocessing"
   ]
  },
  {
   "cell_type": "markdown",
   "metadata": {},
   "source": [
    "### 1. Mengecek apakah ada nilai NA didalam tabel tersebut"
   ]
  },
  {
   "cell_type": "code",
   "execution_count": 5,
   "metadata": {},
   "outputs": [
    {
     "data": {
      "text/plain": [
       "Indicator    0\n",
       "Country      0\n",
       "Date         0\n",
       "value        0\n",
       "dtype: int64"
      ]
     },
     "execution_count": 5,
     "metadata": {},
     "output_type": "execute_result"
    }
   ],
   "source": [
    "df.isna().sum()"
   ]
  },
  {
   "cell_type": "markdown",
   "metadata": {},
   "source": [
    "##### Tidak terdapat Nilai NA pada tabel tersebut"
   ]
  },
  {
   "cell_type": "markdown",
   "metadata": {},
   "source": [
    "### 2. Mengecek apakah type data dalam tabel tersebut sudah sesuai"
   ]
  },
  {
   "cell_type": "code",
   "execution_count": 6,
   "metadata": {},
   "outputs": [
    {
     "name": "stdout",
     "output_type": "stream",
     "text": [
      "<class 'pandas.core.frame.DataFrame'>\n",
      "RangeIndex: 17585 entries, 0 to 17584\n",
      "Data columns (total 4 columns):\n",
      " #   Column     Non-Null Count  Dtype         \n",
      "---  ------     --------------  -----         \n",
      " 0   Indicator  17585 non-null  object        \n",
      " 1   Country    17585 non-null  object        \n",
      " 2   Date       17585 non-null  datetime64[ns]\n",
      " 3   value      17585 non-null  float64       \n",
      "dtypes: datetime64[ns](1), float64(1), object(2)\n",
      "memory usage: 549.7+ KB\n"
     ]
    }
   ],
   "source": [
    "df[\"Date\"] = pd.to_datetime(df[\"Date\"], format = \"%Y-%m-%d\")\n",
    "df.info()"
   ]
  },
  {
   "cell_type": "markdown",
   "metadata": {},
   "source": [
    "#### Type data setiap column sudah sesuai"
   ]
  },
  {
   "cell_type": "markdown",
   "metadata": {},
   "source": [
    "### 3. Karena Indicator berbeda-beda kita lihat berapa banyak nilai unik dalam kolom tersebut"
   ]
  },
  {
   "cell_type": "code",
   "execution_count": 7,
   "metadata": {},
   "outputs": [
    {
     "data": {
      "text/plain": [
       "36"
      ]
     },
     "execution_count": 7,
     "metadata": {},
     "output_type": "execute_result"
    }
   ],
   "source": [
    "df[\"Indicator\"].nunique()"
   ]
  },
  {
   "cell_type": "markdown",
   "metadata": {},
   "source": [
    "##### Terdapat 36 nilai unik pada kolom \"Indicator\""
   ]
  },
  {
   "cell_type": "markdown",
   "metadata": {},
   "source": [
    "### 4. Mengetahui indicator mana yang paling banyak digunakan"
   ]
  },
  {
   "cell_type": "code",
   "execution_count": 8,
   "metadata": {},
   "outputs": [
    {
     "data": {
      "text/plain": [
       "Indicator\n",
       "Cumulative number of confirmed, probable and suspected Ebola deaths                            2485\n",
       "Cumulative number of confirmed Ebola cases                                                     2484\n",
       "Cumulative number of confirmed, probable and suspected Ebola cases                             2477\n",
       "Cumulative number of probable Ebola cases                                                      2436\n",
       "Cumulative number of suspected Ebola cases                                                     2366\n",
       "Cumulative number of confirmed Ebola deaths                                                    1648\n",
       "Cumulative number of probable Ebola deaths                                                     1526\n",
       "Cumulative number of suspected Ebola deaths                                                    1308\n",
       "Number of confirmed Ebola cases in the last 21 days                                             190\n",
       "Number of confirmed, probable and suspected Ebola cases in the last 21 days                     190\n",
       "Number of probable Ebola cases in the last 21 days                                               52\n",
       "Proportion of confirmed, probable and suspected Ebola cases that are from the last 21 days       41\n",
       "Proportion of probable Ebola cases that are from the last 21 days                                40\n",
       "Proportion of confirmed Ebola cases that are from the last 21 days                               40\n",
       "Proportion of suspected Ebola cases that are from the last 21 days                               39\n",
       "Number of suspected Ebola cases in the last 21 days                                              39\n",
       "Case fatality rate (CFR) of confirmed Ebola cases                                                19\n",
       "Case fatality rate (CFR) of confirmed, probable and suspected Ebola cases                        19\n",
       "Case fatality rate (CFR) of suspected Ebola cases                                                18\n",
       "Case fatality rate (CFR) of probable Ebola cases                                                 18\n",
       "Number of confirmed Ebola deaths in the last 21 days                                             14\n",
       "Number of confirmed, probable and suspected Ebola deaths in the last 21 days                     14\n",
       "Number of probable Ebola deaths in the last 21 days                                              13\n",
       "Number of suspected Ebola deaths in the last 21 days                                             13\n",
       "Proportion of confirmed Ebola deaths that are from the last 21 days                              13\n",
       "Proportion of confirmed, probable and suspected Ebola deaths that are from the last 21 days      13\n",
       "Proportion of probable Ebola deaths that are from the last 21 days                               12\n",
       "Proportion of suspected Ebola deaths that are from the last 21 days                              10\n",
       "Proportion of suspected Ebola cases that are from the last 7 days                                 6\n",
       "Proportion of probable Ebola cases that are from the last 7 days                                  6\n",
       "Proportion of confirmed Ebola cases that are from the last 7 days                                 6\n",
       "Number of confirmed, probable and suspected Ebola cases in the last 7 days                        6\n",
       "Number of suspected Ebola cases in the last 7 days                                                6\n",
       "Number of probable Ebola cases in the last 7 days                                                 6\n",
       "Number of confirmed Ebola cases in the last 7 days                                                6\n",
       "Proportion of confirmed, probable and suspected Ebola cases that are from the last 7 days         6\n",
       "Name: count, dtype: int64"
      ]
     },
     "execution_count": 8,
     "metadata": {},
     "output_type": "execute_result"
    }
   ],
   "source": [
    "df[\"Indicator\"].value_counts()"
   ]
  },
  {
   "cell_type": "markdown",
   "metadata": {},
   "source": [
    "##### Terdapat urutan-urutan Indikator yang paling sering digunakan sesuai tabel diatas"
   ]
  },
  {
   "cell_type": "markdown",
   "metadata": {},
   "source": [
    "### 5. Membagi data frame berdasarkan kolom Indicator agar mudah dianalisis"
   ]
  },
  {
   "cell_type": "code",
   "execution_count": 9,
   "metadata": {},
   "outputs": [],
   "source": [
    "indikator_unik = df[\"Indicator\"].unique()"
   ]
  },
  {
   "cell_type": "code",
   "execution_count": 10,
   "metadata": {},
   "outputs": [],
   "source": [
    "df1 = df[df[\"Indicator\"] == indikator_unik[0]]\n",
    "df2 = df[df[\"Indicator\"] == indikator_unik[1]]\n",
    "df3 = df[df[\"Indicator\"] == indikator_unik[2]]\n",
    "df4 = df[df[\"Indicator\"] == indikator_unik[3]]\n",
    "df5 = df[df[\"Indicator\"] == indikator_unik[4]]\n",
    "df6 = df[df[\"Indicator\"] == indikator_unik[5]]\n",
    "df7 = df[df[\"Indicator\"] == indikator_unik[6]]\n",
    "df8 = df[df[\"Indicator\"] == indikator_unik[7]]\n",
    "df9 = df[df[\"Indicator\"] == indikator_unik[8]]\n",
    "df10 = df[df[\"Indicator\"] == indikator_unik[9]]\n",
    "df11 = df[df[\"Indicator\"] == indikator_unik[10]]\n",
    "df12 = df[df[\"Indicator\"] == indikator_unik[11]]\n",
    "df13 = df[df[\"Indicator\"] == indikator_unik[12]]\n",
    "df14 = df[df[\"Indicator\"] == indikator_unik[13]]\n",
    "df15 = df[df[\"Indicator\"] == indikator_unik[14]]\n",
    "df16 = df[df[\"Indicator\"] == indikator_unik[15]]\n",
    "df17 = df[df[\"Indicator\"] == indikator_unik[16]]\n",
    "df18 = df[df[\"Indicator\"] == indikator_unik[17]]\n",
    "df19 = df[df[\"Indicator\"] == indikator_unik[18]]\n",
    "df20 = df[df[\"Indicator\"] == indikator_unik[19]]\n",
    "df21 = df[df[\"Indicator\"] == indikator_unik[20]]\n",
    "df22 = df[df[\"Indicator\"] == indikator_unik[21]]\n",
    "df23 = df[df[\"Indicator\"] == indikator_unik[22]]\n",
    "df24 = df[df[\"Indicator\"] == indikator_unik[23]]\n",
    "df25 = df[df[\"Indicator\"] == indikator_unik[24]]\n",
    "df26 = df[df[\"Indicator\"] == indikator_unik[25]]\n",
    "df27 = df[df[\"Indicator\"] == indikator_unik[26]]\n",
    "df28 = df[df[\"Indicator\"] == indikator_unik[27]]\n",
    "df29 = df[df[\"Indicator\"] == indikator_unik[28]]\n",
    "df30 = df[df[\"Indicator\"] == indikator_unik[29]]\n",
    "df31 = df[df[\"Indicator\"] == indikator_unik[30]]\n",
    "df32 = df[df[\"Indicator\"] == indikator_unik[31]]\n",
    "df33 = df[df[\"Indicator\"] == indikator_unik[32]]\n",
    "df34 = df[df[\"Indicator\"] == indikator_unik[33]]\n",
    "df35 = df[df[\"Indicator\"] == indikator_unik[34]]\n",
    "df36 = df[df[\"Indicator\"] == indikator_unik[35]]"
   ]
  },
  {
   "cell_type": "markdown",
   "metadata": {},
   "source": [
    "##### Dikarenakan nilai unik pada kolom \"Indicator\" sangat banyak, disini kami memutuskan untuk menggunakan indikator yang pasti-pasti saja seperti \"Cumulative number of confirmed Ebola cases\" dan \"Cumulative number of confirmed Ebola deaths\""
   ]
  },
  {
   "cell_type": "markdown",
   "metadata": {},
   "source": [
    "## Preprocessing untuk \"Cumulative number of confirmed Ebola cases\""
   ]
  },
  {
   "cell_type": "markdown",
   "metadata": {},
   "source": [
    "### 1. Melihat nilai unik dari kolom \"Date\" dan mengecek negara mana yang mmemiliki timestamps paling pengkap"
   ]
  },
  {
   "cell_type": "code",
   "execution_count": 11,
   "metadata": {},
   "outputs": [
    {
     "data": {
      "text/plain": [
       "259"
      ]
     },
     "execution_count": 11,
     "metadata": {},
     "output_type": "execute_result"
    }
   ],
   "source": [
    "df2[\"Date\"].nunique()"
   ]
  },
  {
   "cell_type": "code",
   "execution_count": 12,
   "metadata": {},
   "outputs": [
    {
     "data": {
      "text/plain": [
       "Country\n",
       "Guinea                      259\n",
       "Sierra Leone                259\n",
       "Liberia                     258\n",
       "Nigeria                     255\n",
       "Senegal                     254\n",
       "United States of America    245\n",
       "Mali                        243\n",
       "Spain                       243\n",
       "United Kingdom              221\n",
       "Italy                       141\n",
       "Liberia 2                   105\n",
       "Guinea 2                      1\n",
       "Name: count, dtype: int64"
      ]
     },
     "execution_count": 12,
     "metadata": {},
     "output_type": "execute_result"
    }
   ],
   "source": [
    "df2[\"Country\"].value_counts()"
   ]
  },
  {
   "cell_type": "markdown",
   "metadata": {},
   "source": [
    "##### Disini saya memiliki negara Guinea untuk saya eksplorasi"
   ]
  },
  {
   "cell_type": "code",
   "execution_count": 13,
   "metadata": {},
   "outputs": [
    {
     "data": {
      "text/html": [
       "<div>\n",
       "<style scoped>\n",
       "    .dataframe tbody tr th:only-of-type {\n",
       "        vertical-align: middle;\n",
       "    }\n",
       "\n",
       "    .dataframe tbody tr th {\n",
       "        vertical-align: top;\n",
       "    }\n",
       "\n",
       "    .dataframe thead th {\n",
       "        text-align: right;\n",
       "    }\n",
       "</style>\n",
       "<table border=\"1\" class=\"dataframe\">\n",
       "  <thead>\n",
       "    <tr style=\"text-align: right;\">\n",
       "      <th></th>\n",
       "      <th>Date</th>\n",
       "      <th>value</th>\n",
       "    </tr>\n",
       "  </thead>\n",
       "  <tbody>\n",
       "    <tr>\n",
       "      <th>5086</th>\n",
       "      <td>2014-08-29</td>\n",
       "      <td>482.0</td>\n",
       "    </tr>\n",
       "    <tr>\n",
       "      <th>4960</th>\n",
       "      <td>2014-09-05</td>\n",
       "      <td>604.0</td>\n",
       "    </tr>\n",
       "    <tr>\n",
       "      <th>4846</th>\n",
       "      <td>2014-09-08</td>\n",
       "      <td>664.0</td>\n",
       "    </tr>\n",
       "    <tr>\n",
       "      <th>4746</th>\n",
       "      <td>2014-09-12</td>\n",
       "      <td>678.0</td>\n",
       "    </tr>\n",
       "    <tr>\n",
       "      <th>4648</th>\n",
       "      <td>2014-09-16</td>\n",
       "      <td>743.0</td>\n",
       "    </tr>\n",
       "    <tr>\n",
       "      <th>...</th>\n",
       "      <td>...</td>\n",
       "      <td>...</td>\n",
       "    </tr>\n",
       "    <tr>\n",
       "      <th>17223</th>\n",
       "      <td>2015-12-17</td>\n",
       "      <td>3351.0</td>\n",
       "    </tr>\n",
       "    <tr>\n",
       "      <th>17292</th>\n",
       "      <td>2015-12-22</td>\n",
       "      <td>3351.0</td>\n",
       "    </tr>\n",
       "    <tr>\n",
       "      <th>17365</th>\n",
       "      <td>2015-12-23</td>\n",
       "      <td>3351.0</td>\n",
       "    </tr>\n",
       "    <tr>\n",
       "      <th>17449</th>\n",
       "      <td>2015-12-29</td>\n",
       "      <td>3351.0</td>\n",
       "    </tr>\n",
       "    <tr>\n",
       "      <th>17502</th>\n",
       "      <td>2016-03-23</td>\n",
       "      <td>3351.0</td>\n",
       "    </tr>\n",
       "  </tbody>\n",
       "</table>\n",
       "<p>259 rows × 2 columns</p>\n",
       "</div>"
      ],
      "text/plain": [
       "            Date   value\n",
       "5086  2014-08-29   482.0\n",
       "4960  2014-09-05   604.0\n",
       "4846  2014-09-08   664.0\n",
       "4746  2014-09-12   678.0\n",
       "4648  2014-09-16   743.0\n",
       "...          ...     ...\n",
       "17223 2015-12-17  3351.0\n",
       "17292 2015-12-22  3351.0\n",
       "17365 2015-12-23  3351.0\n",
       "17449 2015-12-29  3351.0\n",
       "17502 2016-03-23  3351.0\n",
       "\n",
       "[259 rows x 2 columns]"
      ]
     },
     "execution_count": 13,
     "metadata": {},
     "output_type": "execute_result"
    }
   ],
   "source": [
    "df2_Guinea = df2[df2[\"Country\"] == \"Guinea\"]\n",
    "df2_Guinea.drop(columns=[\"Indicator\", \"Country\"], inplace=True)\n",
    "df2_Guinea = df2_Guinea.sort_values(\"Date\")\n",
    "df2_Guinea"
   ]
  },
  {
   "cell_type": "code",
   "execution_count": 14,
   "metadata": {},
   "outputs": [
    {
     "data": {
      "text/html": [
       "<div>\n",
       "<style scoped>\n",
       "    .dataframe tbody tr th:only-of-type {\n",
       "        vertical-align: middle;\n",
       "    }\n",
       "\n",
       "    .dataframe tbody tr th {\n",
       "        vertical-align: top;\n",
       "    }\n",
       "\n",
       "    .dataframe thead th {\n",
       "        text-align: right;\n",
       "    }\n",
       "</style>\n",
       "<table border=\"1\" class=\"dataframe\">\n",
       "  <thead>\n",
       "    <tr style=\"text-align: right;\">\n",
       "      <th></th>\n",
       "      <th>Date</th>\n",
       "      <th>value</th>\n",
       "      <th>shift</th>\n",
       "      <th>Value</th>\n",
       "    </tr>\n",
       "  </thead>\n",
       "  <tbody>\n",
       "    <tr>\n",
       "      <th>5086</th>\n",
       "      <td>2014-08-29</td>\n",
       "      <td>482.0</td>\n",
       "      <td>NaN</td>\n",
       "      <td>NaN</td>\n",
       "    </tr>\n",
       "    <tr>\n",
       "      <th>4960</th>\n",
       "      <td>2014-09-05</td>\n",
       "      <td>604.0</td>\n",
       "      <td>482.0</td>\n",
       "      <td>122.0</td>\n",
       "    </tr>\n",
       "    <tr>\n",
       "      <th>4846</th>\n",
       "      <td>2014-09-08</td>\n",
       "      <td>664.0</td>\n",
       "      <td>604.0</td>\n",
       "      <td>60.0</td>\n",
       "    </tr>\n",
       "    <tr>\n",
       "      <th>4746</th>\n",
       "      <td>2014-09-12</td>\n",
       "      <td>678.0</td>\n",
       "      <td>664.0</td>\n",
       "      <td>14.0</td>\n",
       "    </tr>\n",
       "    <tr>\n",
       "      <th>4648</th>\n",
       "      <td>2014-09-16</td>\n",
       "      <td>743.0</td>\n",
       "      <td>678.0</td>\n",
       "      <td>65.0</td>\n",
       "    </tr>\n",
       "    <tr>\n",
       "      <th>...</th>\n",
       "      <td>...</td>\n",
       "      <td>...</td>\n",
       "      <td>...</td>\n",
       "      <td>...</td>\n",
       "    </tr>\n",
       "    <tr>\n",
       "      <th>17223</th>\n",
       "      <td>2015-12-17</td>\n",
       "      <td>3351.0</td>\n",
       "      <td>3351.0</td>\n",
       "      <td>0.0</td>\n",
       "    </tr>\n",
       "    <tr>\n",
       "      <th>17292</th>\n",
       "      <td>2015-12-22</td>\n",
       "      <td>3351.0</td>\n",
       "      <td>3351.0</td>\n",
       "      <td>0.0</td>\n",
       "    </tr>\n",
       "    <tr>\n",
       "      <th>17365</th>\n",
       "      <td>2015-12-23</td>\n",
       "      <td>3351.0</td>\n",
       "      <td>3351.0</td>\n",
       "      <td>0.0</td>\n",
       "    </tr>\n",
       "    <tr>\n",
       "      <th>17449</th>\n",
       "      <td>2015-12-29</td>\n",
       "      <td>3351.0</td>\n",
       "      <td>3351.0</td>\n",
       "      <td>0.0</td>\n",
       "    </tr>\n",
       "    <tr>\n",
       "      <th>17502</th>\n",
       "      <td>2016-03-23</td>\n",
       "      <td>3351.0</td>\n",
       "      <td>3351.0</td>\n",
       "      <td>0.0</td>\n",
       "    </tr>\n",
       "  </tbody>\n",
       "</table>\n",
       "<p>259 rows × 4 columns</p>\n",
       "</div>"
      ],
      "text/plain": [
       "            Date   value   shift  Value\n",
       "5086  2014-08-29   482.0     NaN    NaN\n",
       "4960  2014-09-05   604.0   482.0  122.0\n",
       "4846  2014-09-08   664.0   604.0   60.0\n",
       "4746  2014-09-12   678.0   664.0   14.0\n",
       "4648  2014-09-16   743.0   678.0   65.0\n",
       "...          ...     ...     ...    ...\n",
       "17223 2015-12-17  3351.0  3351.0    0.0\n",
       "17292 2015-12-22  3351.0  3351.0    0.0\n",
       "17365 2015-12-23  3351.0  3351.0    0.0\n",
       "17449 2015-12-29  3351.0  3351.0    0.0\n",
       "17502 2016-03-23  3351.0  3351.0    0.0\n",
       "\n",
       "[259 rows x 4 columns]"
      ]
     },
     "execution_count": 14,
     "metadata": {},
     "output_type": "execute_result"
    }
   ],
   "source": [
    "df2_Guinea[\"shift\"] = df2_Guinea[\"value\"].shift()\n",
    "df2_Guinea[\"Value\"] = df2_Guinea[\"value\"] - df2_Guinea[\"shift\"]\n",
    "df2_Guinea"
   ]
  },
  {
   "cell_type": "code",
   "execution_count": 15,
   "metadata": {},
   "outputs": [
    {
     "data": {
      "text/html": [
       "<div>\n",
       "<style scoped>\n",
       "    .dataframe tbody tr th:only-of-type {\n",
       "        vertical-align: middle;\n",
       "    }\n",
       "\n",
       "    .dataframe tbody tr th {\n",
       "        vertical-align: top;\n",
       "    }\n",
       "\n",
       "    .dataframe thead th {\n",
       "        text-align: right;\n",
       "    }\n",
       "</style>\n",
       "<table border=\"1\" class=\"dataframe\">\n",
       "  <thead>\n",
       "    <tr style=\"text-align: right;\">\n",
       "      <th></th>\n",
       "      <th>Date</th>\n",
       "      <th>value</th>\n",
       "      <th>shift</th>\n",
       "      <th>Value</th>\n",
       "    </tr>\n",
       "  </thead>\n",
       "  <tbody>\n",
       "    <tr>\n",
       "      <th>7416</th>\n",
       "      <td>2015-05-13</td>\n",
       "      <td>3173.0</td>\n",
       "      <td>3174.0</td>\n",
       "      <td>-1.0</td>\n",
       "    </tr>\n",
       "    <tr>\n",
       "      <th>9110</th>\n",
       "      <td>2015-06-17</td>\n",
       "      <td>3245.0</td>\n",
       "      <td>3249.0</td>\n",
       "      <td>-4.0</td>\n",
       "    </tr>\n",
       "  </tbody>\n",
       "</table>\n",
       "</div>"
      ],
      "text/plain": [
       "           Date   value   shift  Value\n",
       "7416 2015-05-13  3173.0  3174.0   -1.0\n",
       "9110 2015-06-17  3245.0  3249.0   -4.0"
      ]
     },
     "execution_count": 15,
     "metadata": {},
     "output_type": "execute_result"
    }
   ],
   "source": [
    "df2_Guinea[df2_Guinea[\"Value\"] < 0]"
   ]
  },
  {
   "cell_type": "code",
   "execution_count": 16,
   "metadata": {},
   "outputs": [
    {
     "name": "stdout",
     "output_type": "stream",
     "text": [
      "2014-08-29 00:00:00\n",
      "2016-03-23 00:00:00\n"
     ]
    }
   ],
   "source": [
    "start = df2_Guinea[\"Date\"].min()\n",
    "end = df2_Guinea[\"Date\"].max()\n",
    "\n",
    "print(start)\n",
    "print(end)"
   ]
  },
  {
   "cell_type": "code",
   "execution_count": 17,
   "metadata": {},
   "outputs": [
    {
     "data": {
      "text/plain": [
       "0"
      ]
     },
     "execution_count": 17,
     "metadata": {},
     "output_type": "execute_result"
    }
   ],
   "source": [
    "df2_Guinea[\"Date\"].duplicated().sum()"
   ]
  },
  {
   "cell_type": "code",
   "execution_count": 18,
   "metadata": {},
   "outputs": [
    {
     "data": {
      "text/plain": [
       "array(['2014-08-29', '2014-08-30', '2014-08-31', '2014-09-01',\n",
       "       '2014-09-02', '2014-09-03', '2014-09-04', '2014-09-05',\n",
       "       '2014-09-06', '2014-09-07', '2014-09-08', '2014-09-09',\n",
       "       '2014-09-10', '2014-09-11', '2014-09-12', '2014-09-13',\n",
       "       '2014-09-14', '2014-09-15', '2014-09-16', '2014-09-17',\n",
       "       '2014-09-18', '2014-09-19', '2014-09-20', '2014-09-21',\n",
       "       '2014-09-22', '2014-09-23', '2014-09-24', '2014-09-25',\n",
       "       '2014-09-26', '2014-09-27', '2014-09-28', '2014-09-29',\n",
       "       '2014-09-30', '2014-10-01', '2014-10-02', '2014-10-03',\n",
       "       '2014-10-04', '2014-10-05', '2014-10-06', '2014-10-07',\n",
       "       '2014-10-08', '2014-10-09', '2014-10-10', '2014-10-11',\n",
       "       '2014-10-12', '2014-10-13', '2014-10-14', '2014-10-15',\n",
       "       '2014-10-16', '2014-10-17', '2014-10-18', '2014-10-19',\n",
       "       '2014-10-20', '2014-10-21', '2014-10-22', '2014-10-23',\n",
       "       '2014-10-24', '2014-10-25', '2014-10-26', '2014-10-27',\n",
       "       '2014-10-28', '2014-10-29', '2014-10-30', '2014-10-31',\n",
       "       '2014-11-01', '2014-11-02', '2014-11-03', '2014-11-04',\n",
       "       '2014-11-05', '2014-11-06', '2014-11-07', '2014-11-08',\n",
       "       '2014-11-09', '2014-11-10', '2014-11-11', '2014-11-12',\n",
       "       '2014-11-13', '2014-11-14', '2014-11-15', '2014-11-16',\n",
       "       '2014-11-17', '2014-11-18', '2014-11-19', '2014-11-20',\n",
       "       '2014-11-21', '2014-11-22', '2014-11-23', '2014-11-24',\n",
       "       '2014-11-25', '2014-11-26', '2014-11-27', '2014-11-28',\n",
       "       '2014-11-29', '2014-11-30', '2014-12-01', '2014-12-02',\n",
       "       '2014-12-03', '2014-12-04', '2014-12-05', '2014-12-06',\n",
       "       '2014-12-07', '2014-12-08', '2014-12-09', '2014-12-10',\n",
       "       '2014-12-11', '2014-12-12', '2014-12-13', '2014-12-14',\n",
       "       '2014-12-15', '2014-12-16', '2014-12-17', '2014-12-18',\n",
       "       '2014-12-19', '2014-12-20', '2014-12-21', '2014-12-22',\n",
       "       '2014-12-23', '2014-12-24', '2014-12-25', '2014-12-26',\n",
       "       '2014-12-27', '2014-12-28', '2014-12-29', '2014-12-30',\n",
       "       '2014-12-31', '2015-01-01', '2015-01-02', '2015-01-03',\n",
       "       '2015-01-04', '2015-01-05', '2015-01-06', '2015-01-07',\n",
       "       '2015-01-08', '2015-01-09', '2015-01-10', '2015-01-11',\n",
       "       '2015-01-12', '2015-01-13', '2015-01-14', '2015-01-15',\n",
       "       '2015-01-16', '2015-01-17', '2015-01-18', '2015-01-19',\n",
       "       '2015-01-20', '2015-01-21', '2015-01-22', '2015-01-23',\n",
       "       '2015-01-24', '2015-01-25', '2015-01-26', '2015-01-27',\n",
       "       '2015-01-28', '2015-01-29', '2015-01-30', '2015-01-31',\n",
       "       '2015-02-01', '2015-02-02', '2015-02-03', '2015-02-04',\n",
       "       '2015-02-05', '2015-02-06', '2015-02-07', '2015-02-08',\n",
       "       '2015-02-09', '2015-02-10', '2015-02-11', '2015-02-12',\n",
       "       '2015-02-13', '2015-02-14', '2015-02-15', '2015-02-16',\n",
       "       '2015-02-17', '2015-02-18', '2015-02-19', '2015-02-20',\n",
       "       '2015-02-21', '2015-02-22', '2015-02-23', '2015-02-24',\n",
       "       '2015-02-25', '2015-02-26', '2015-02-27', '2015-02-28',\n",
       "       '2015-03-01', '2015-03-02', '2015-03-03', '2015-03-04',\n",
       "       '2015-03-05', '2015-03-06', '2015-03-07', '2015-03-08',\n",
       "       '2015-03-09', '2015-03-10', '2015-03-11', '2015-03-12',\n",
       "       '2015-03-13', '2015-03-14', '2015-03-15', '2015-03-16',\n",
       "       '2015-03-17', '2015-03-18', '2015-03-19', '2015-03-20',\n",
       "       '2015-03-21', '2015-03-22', '2015-03-23', '2015-03-24',\n",
       "       '2015-03-25', '2015-03-26', '2015-03-27', '2015-03-28',\n",
       "       '2015-03-29', '2015-03-30', '2015-03-31', '2015-04-01',\n",
       "       '2015-04-02', '2015-04-03', '2015-04-04', '2015-04-05',\n",
       "       '2015-04-06', '2015-04-07', '2015-04-08', '2015-04-09',\n",
       "       '2015-04-10', '2015-04-11', '2015-04-12', '2015-04-13',\n",
       "       '2015-04-14', '2015-04-15', '2015-04-16', '2015-04-17',\n",
       "       '2015-04-18', '2015-04-19', '2015-04-20', '2015-04-21',\n",
       "       '2015-04-22', '2015-04-23', '2015-04-24', '2015-04-25',\n",
       "       '2015-04-26', '2015-04-27', '2015-04-28', '2015-04-29',\n",
       "       '2015-04-30', '2015-05-01', '2015-05-02', '2015-05-03',\n",
       "       '2015-05-04', '2015-05-05', '2015-05-06', '2015-05-07',\n",
       "       '2015-05-08', '2015-05-09', '2015-05-10', '2015-05-11',\n",
       "       '2015-05-12', '2015-05-13', '2015-05-14', '2015-05-15',\n",
       "       '2015-05-16', '2015-05-17', '2015-05-18', '2015-05-19',\n",
       "       '2015-05-20', '2015-05-21', '2015-05-22', '2015-05-23',\n",
       "       '2015-05-24', '2015-05-25', '2015-05-26', '2015-05-27',\n",
       "       '2015-05-28', '2015-05-29', '2015-05-30', '2015-05-31',\n",
       "       '2015-06-01', '2015-06-02', '2015-06-03', '2015-06-04',\n",
       "       '2015-06-05', '2015-06-06', '2015-06-07', '2015-06-08',\n",
       "       '2015-06-09', '2015-06-10', '2015-06-11', '2015-06-12',\n",
       "       '2015-06-13', '2015-06-14', '2015-06-15', '2015-06-16',\n",
       "       '2015-06-17', '2015-06-18', '2015-06-19', '2015-06-20',\n",
       "       '2015-06-21', '2015-06-22', '2015-06-23', '2015-06-24',\n",
       "       '2015-06-25', '2015-06-26', '2015-06-27', '2015-06-28',\n",
       "       '2015-06-29', '2015-06-30', '2015-07-01', '2015-07-02',\n",
       "       '2015-07-03', '2015-07-04', '2015-07-05', '2015-07-06',\n",
       "       '2015-07-07', '2015-07-08', '2015-07-09', '2015-07-10',\n",
       "       '2015-07-11', '2015-07-12', '2015-07-13', '2015-07-14',\n",
       "       '2015-07-15', '2015-07-16', '2015-07-17', '2015-07-18',\n",
       "       '2015-07-19', '2015-07-20', '2015-07-21', '2015-07-22',\n",
       "       '2015-07-23', '2015-07-24', '2015-07-25', '2015-07-26',\n",
       "       '2015-07-27', '2015-07-28', '2015-07-29', '2015-07-30',\n",
       "       '2015-07-31', '2015-08-01', '2015-08-02', '2015-08-03',\n",
       "       '2015-08-04', '2015-08-05', '2015-08-06', '2015-08-07',\n",
       "       '2015-08-08', '2015-08-09', '2015-08-10', '2015-08-11',\n",
       "       '2015-08-12', '2015-08-13', '2015-08-14', '2015-08-15',\n",
       "       '2015-08-16', '2015-08-17', '2015-08-18', '2015-08-19',\n",
       "       '2015-08-20', '2015-08-21', '2015-08-22', '2015-08-23',\n",
       "       '2015-08-24', '2015-08-25', '2015-08-26', '2015-08-27',\n",
       "       '2015-08-28', '2015-08-29', '2015-08-30', '2015-08-31',\n",
       "       '2015-09-01', '2015-09-02', '2015-09-03', '2015-09-04',\n",
       "       '2015-09-05', '2015-09-06', '2015-09-07', '2015-09-08',\n",
       "       '2015-09-09', '2015-09-10', '2015-09-11', '2015-09-12',\n",
       "       '2015-09-13', '2015-09-14', '2015-09-15', '2015-09-16',\n",
       "       '2015-09-17', '2015-09-18', '2015-09-19', '2015-09-20',\n",
       "       '2015-09-21', '2015-09-22', '2015-09-23', '2015-09-24',\n",
       "       '2015-09-25', '2015-09-26', '2015-09-27', '2015-09-28',\n",
       "       '2015-09-29', '2015-09-30', '2015-10-01', '2015-10-02',\n",
       "       '2015-10-03', '2015-10-04', '2015-10-05', '2015-10-06',\n",
       "       '2015-10-07', '2015-10-08', '2015-10-09', '2015-10-10',\n",
       "       '2015-10-11', '2015-10-12', '2015-10-13', '2015-10-14',\n",
       "       '2015-10-15', '2015-10-16', '2015-10-17', '2015-10-18',\n",
       "       '2015-10-19', '2015-10-20', '2015-10-21', '2015-10-22',\n",
       "       '2015-10-23', '2015-10-24', '2015-10-25', '2015-10-26',\n",
       "       '2015-10-27', '2015-10-28', '2015-10-29', '2015-10-30',\n",
       "       '2015-10-31', '2015-11-01', '2015-11-02', '2015-11-03',\n",
       "       '2015-11-04', '2015-11-05', '2015-11-06', '2015-11-07',\n",
       "       '2015-11-08', '2015-11-09', '2015-11-10', '2015-11-11',\n",
       "       '2015-11-12', '2015-11-13', '2015-11-14', '2015-11-15',\n",
       "       '2015-11-16', '2015-11-17', '2015-11-18', '2015-11-19',\n",
       "       '2015-11-20', '2015-11-21', '2015-11-22', '2015-11-23',\n",
       "       '2015-11-24', '2015-11-25', '2015-11-26', '2015-11-27',\n",
       "       '2015-11-28', '2015-11-29', '2015-11-30', '2015-12-01',\n",
       "       '2015-12-02', '2015-12-03', '2015-12-04', '2015-12-05',\n",
       "       '2015-12-06', '2015-12-07', '2015-12-08', '2015-12-09',\n",
       "       '2015-12-10', '2015-12-11', '2015-12-12', '2015-12-13',\n",
       "       '2015-12-14', '2015-12-15', '2015-12-16', '2015-12-17',\n",
       "       '2015-12-18', '2015-12-19', '2015-12-20', '2015-12-21',\n",
       "       '2015-12-22', '2015-12-23', '2015-12-24', '2015-12-25',\n",
       "       '2015-12-26', '2015-12-27', '2015-12-28', '2015-12-29',\n",
       "       '2015-12-30', '2015-12-31', '2016-01-01', '2016-01-02',\n",
       "       '2016-01-03', '2016-01-04', '2016-01-05', '2016-01-06',\n",
       "       '2016-01-07', '2016-01-08', '2016-01-09', '2016-01-10',\n",
       "       '2016-01-11', '2016-01-12', '2016-01-13', '2016-01-14',\n",
       "       '2016-01-15', '2016-01-16', '2016-01-17', '2016-01-18',\n",
       "       '2016-01-19', '2016-01-20', '2016-01-21', '2016-01-22',\n",
       "       '2016-01-23', '2016-01-24', '2016-01-25', '2016-01-26',\n",
       "       '2016-01-27', '2016-01-28', '2016-01-29', '2016-01-30',\n",
       "       '2016-01-31', '2016-02-01', '2016-02-02', '2016-02-03',\n",
       "       '2016-02-04', '2016-02-05', '2016-02-06', '2016-02-07',\n",
       "       '2016-02-08', '2016-02-09', '2016-02-10', '2016-02-11',\n",
       "       '2016-02-12', '2016-02-13', '2016-02-14', '2016-02-15',\n",
       "       '2016-02-16', '2016-02-17', '2016-02-18', '2016-02-19',\n",
       "       '2016-02-20', '2016-02-21', '2016-02-22', '2016-02-23',\n",
       "       '2016-02-24', '2016-02-25', '2016-02-26', '2016-02-27',\n",
       "       '2016-02-28', '2016-02-29', '2016-03-01', '2016-03-02',\n",
       "       '2016-03-03', '2016-03-04', '2016-03-05', '2016-03-06',\n",
       "       '2016-03-07', '2016-03-08', '2016-03-09', '2016-03-10',\n",
       "       '2016-03-11', '2016-03-12', '2016-03-13', '2016-03-14',\n",
       "       '2016-03-15', '2016-03-16', '2016-03-17', '2016-03-18',\n",
       "       '2016-03-19', '2016-03-20', '2016-03-21', '2016-03-22',\n",
       "       '2016-03-23'], dtype='datetime64[D]')"
      ]
     },
     "execution_count": 18,
     "metadata": {},
     "output_type": "execute_result"
    }
   ],
   "source": [
    "timestamps = np.arange(start, end + np.timedelta64(1, 'D'), dtype='datetime64[D]')\n",
    "timestamps"
   ]
  },
  {
   "cell_type": "code",
   "execution_count": 19,
   "metadata": {},
   "outputs": [
    {
     "name": "stdout",
     "output_type": "stream",
     "text": [
      "259\n",
      "573\n"
     ]
    }
   ],
   "source": [
    "print(len(df2_Guinea))\n",
    "print(len(timestamps))"
   ]
  },
  {
   "cell_type": "code",
   "execution_count": 20,
   "metadata": {},
   "outputs": [],
   "source": [
    "df_waktu = pd.DataFrame({\n",
    "    \"Date\" : timestamps\n",
    "})\n",
    "\n",
    "df2_Guinea = pd.merge(df_waktu, df2_Guinea, on=\"Date\", how=\"left\")"
   ]
  },
  {
   "cell_type": "code",
   "execution_count": 21,
   "metadata": {},
   "outputs": [
    {
     "data": {
      "image/png": "[encoded data removed]",
      "text/plain": [
       "<Figure size 640x480 with 1 Axes>"
      ]
     },
     "metadata": {},
     "output_type": "display_data"
    }
   ],
   "source": [
    "df2_Guinea.set_index(\"Date\", inplace=True)\n",
    "sns.scatterplot(df2_Guinea[\"value\"])\n",
    "plt.xticks(rotation=45)\n",
    "plt.show()"
   ]
  },
  {
   "cell_type": "code",
   "execution_count": 22,
   "metadata": {},
   "outputs": [
    {
     "data": {
      "image/png": "[encoded data removed]",
      "text/plain": [
       "<Figure size 640x480 with 1 Axes>"
      ]
     },
     "metadata": {},
     "output_type": "display_data"
    }
   ],
   "source": [
    "df2_Guinea.interpolate(method=\"linear\", inplace=True)\n",
    "df2_Guinea[\"value\"] = df2_Guinea[\"value\"].round(0)\n",
    "sns.scatterplot(df2_Guinea[\"value\"])\n",
    "plt.xticks(rotation=45)\n",
    "plt.show()"
   ]
  },
  {
   "cell_type": "code",
   "execution_count": 23,
   "metadata": {},
   "outputs": [
    {
     "data": {
      "text/html": [
       "<div>\n",
       "<style scoped>\n",
       "    .dataframe tbody tr th:only-of-type {\n",
       "        vertical-align: middle;\n",
       "    }\n",
       "\n",
       "    .dataframe tbody tr th {\n",
       "        vertical-align: top;\n",
       "    }\n",
       "\n",
       "    .dataframe thead th {\n",
       "        text-align: right;\n",
       "    }\n",
       "</style>\n",
       "<table border=\"1\" class=\"dataframe\">\n",
       "  <thead>\n",
       "    <tr style=\"text-align: right;\">\n",
       "      <th></th>\n",
       "      <th>value</th>\n",
       "      <th>shift</th>\n",
       "      <th>Value</th>\n",
       "    </tr>\n",
       "    <tr>\n",
       "      <th>Date</th>\n",
       "      <th></th>\n",
       "      <th></th>\n",
       "      <th></th>\n",
       "    </tr>\n",
       "  </thead>\n",
       "  <tbody>\n",
       "    <tr>\n",
       "      <th>2014-08-29</th>\n",
       "      <td>482.0</td>\n",
       "      <td>NaN</td>\n",
       "      <td>NaN</td>\n",
       "    </tr>\n",
       "    <tr>\n",
       "      <th>2014-08-30</th>\n",
       "      <td>499.0</td>\n",
       "      <td>482.0</td>\n",
       "      <td>17.0</td>\n",
       "    </tr>\n",
       "    <tr>\n",
       "      <th>2014-08-31</th>\n",
       "      <td>517.0</td>\n",
       "      <td>499.0</td>\n",
       "      <td>18.0</td>\n",
       "    </tr>\n",
       "    <tr>\n",
       "      <th>2014-09-01</th>\n",
       "      <td>534.0</td>\n",
       "      <td>517.0</td>\n",
       "      <td>17.0</td>\n",
       "    </tr>\n",
       "    <tr>\n",
       "      <th>2014-09-02</th>\n",
       "      <td>552.0</td>\n",
       "      <td>534.0</td>\n",
       "      <td>18.0</td>\n",
       "    </tr>\n",
       "    <tr>\n",
       "      <th>...</th>\n",
       "      <td>...</td>\n",
       "      <td>...</td>\n",
       "      <td>...</td>\n",
       "    </tr>\n",
       "    <tr>\n",
       "      <th>2016-03-19</th>\n",
       "      <td>3351.0</td>\n",
       "      <td>3351.0</td>\n",
       "      <td>0.0</td>\n",
       "    </tr>\n",
       "    <tr>\n",
       "      <th>2016-03-20</th>\n",
       "      <td>3351.0</td>\n",
       "      <td>3351.0</td>\n",
       "      <td>0.0</td>\n",
       "    </tr>\n",
       "    <tr>\n",
       "      <th>2016-03-21</th>\n",
       "      <td>3351.0</td>\n",
       "      <td>3351.0</td>\n",
       "      <td>0.0</td>\n",
       "    </tr>\n",
       "    <tr>\n",
       "      <th>2016-03-22</th>\n",
       "      <td>3351.0</td>\n",
       "      <td>3351.0</td>\n",
       "      <td>0.0</td>\n",
       "    </tr>\n",
       "    <tr>\n",
       "      <th>2016-03-23</th>\n",
       "      <td>3351.0</td>\n",
       "      <td>3351.0</td>\n",
       "      <td>0.0</td>\n",
       "    </tr>\n",
       "  </tbody>\n",
       "</table>\n",
       "<p>573 rows × 3 columns</p>\n",
       "</div>"
      ],
      "text/plain": [
       "             value   shift  Value\n",
       "Date                             \n",
       "2014-08-29   482.0     NaN    NaN\n",
       "2014-08-30   499.0   482.0   17.0\n",
       "2014-08-31   517.0   499.0   18.0\n",
       "2014-09-01   534.0   517.0   17.0\n",
       "2014-09-02   552.0   534.0   18.0\n",
       "...            ...     ...    ...\n",
       "2016-03-19  3351.0  3351.0    0.0\n",
       "2016-03-20  3351.0  3351.0    0.0\n",
       "2016-03-21  3351.0  3351.0    0.0\n",
       "2016-03-22  3351.0  3351.0    0.0\n",
       "2016-03-23  3351.0  3351.0    0.0\n",
       "\n",
       "[573 rows x 3 columns]"
      ]
     },
     "execution_count": 23,
     "metadata": {},
     "output_type": "execute_result"
    }
   ],
   "source": [
    "df2_Guinea[\"shift\"] = df2_Guinea[\"value\"].shift()\n",
    "df2_Guinea[\"Value\"] = df2_Guinea[\"value\"] - df2_Guinea[\"shift\"]\n",
    "df2_Guinea"
   ]
  },
  {
   "cell_type": "code",
   "execution_count": 24,
   "metadata": {},
   "outputs": [
    {
     "data": {
      "image/png": "[encoded data removed]",
      "text/plain": [
       "<Figure size 640x480 with 1 Axes>"
      ]
     },
     "metadata": {},
     "output_type": "display_data"
    }
   ],
   "source": [
    "sns.lineplot(df2_Guinea[\"Value\"])\n",
    "plt.xticks(rotation=45)\n",
    "plt.show()"
   ]
  },
  {
   "cell_type": "code",
   "execution_count": 25,
   "metadata": {},
   "outputs": [
    {
     "data": {
      "text/plain": [
       "573"
      ]
     },
     "execution_count": 25,
     "metadata": {},
     "output_type": "execute_result"
    }
   ],
   "source": [
    "len(df2_Guinea)"
   ]
  },
  {
   "cell_type": "code",
   "execution_count": 26,
   "metadata": {},
   "outputs": [
    {
     "data": {
      "text/html": [
       "<div>\n",
       "<style scoped>\n",
       "    .dataframe tbody tr th:only-of-type {\n",
       "        vertical-align: middle;\n",
       "    }\n",
       "\n",
       "    .dataframe tbody tr th {\n",
       "        vertical-align: top;\n",
       "    }\n",
       "\n",
       "    .dataframe thead th {\n",
       "        text-align: right;\n",
       "    }\n",
       "</style>\n",
       "<table border=\"1\" class=\"dataframe\">\n",
       "  <thead>\n",
       "    <tr style=\"text-align: right;\">\n",
       "      <th></th>\n",
       "      <th>Date</th>\n",
       "      <th>value</th>\n",
       "    </tr>\n",
       "  </thead>\n",
       "  <tbody>\n",
       "    <tr>\n",
       "      <th>5137</th>\n",
       "      <td>2014-08-29</td>\n",
       "      <td>430.0</td>\n",
       "    </tr>\n",
       "    <tr>\n",
       "      <th>5017</th>\n",
       "      <td>2014-09-05</td>\n",
       "      <td>517.0</td>\n",
       "    </tr>\n",
       "    <tr>\n",
       "      <th>4908</th>\n",
       "      <td>2014-09-08</td>\n",
       "      <td>555.0</td>\n",
       "    </tr>\n",
       "    <tr>\n",
       "      <th>4809</th>\n",
       "      <td>2014-09-12</td>\n",
       "      <td>557.0</td>\n",
       "    </tr>\n",
       "    <tr>\n",
       "      <th>4709</th>\n",
       "      <td>2014-09-16</td>\n",
       "      <td>595.0</td>\n",
       "    </tr>\n",
       "    <tr>\n",
       "      <th>...</th>\n",
       "      <td>...</td>\n",
       "      <td>...</td>\n",
       "    </tr>\n",
       "    <tr>\n",
       "      <th>17212</th>\n",
       "      <td>2015-12-17</td>\n",
       "      <td>2536.0</td>\n",
       "    </tr>\n",
       "    <tr>\n",
       "      <th>17302</th>\n",
       "      <td>2015-12-22</td>\n",
       "      <td>2536.0</td>\n",
       "    </tr>\n",
       "    <tr>\n",
       "      <th>17356</th>\n",
       "      <td>2015-12-23</td>\n",
       "      <td>2536.0</td>\n",
       "    </tr>\n",
       "    <tr>\n",
       "      <th>17445</th>\n",
       "      <td>2015-12-29</td>\n",
       "      <td>2536.0</td>\n",
       "    </tr>\n",
       "    <tr>\n",
       "      <th>17508</th>\n",
       "      <td>2016-03-23</td>\n",
       "      <td>2536.0</td>\n",
       "    </tr>\n",
       "  </tbody>\n",
       "</table>\n",
       "<p>259 rows × 2 columns</p>\n",
       "</div>"
      ],
      "text/plain": [
       "            Date   value\n",
       "5137  2014-08-29   430.0\n",
       "5017  2014-09-05   517.0\n",
       "4908  2014-09-08   555.0\n",
       "4809  2014-09-12   557.0\n",
       "4709  2014-09-16   595.0\n",
       "...          ...     ...\n",
       "17212 2015-12-17  2536.0\n",
       "17302 2015-12-22  2536.0\n",
       "17356 2015-12-23  2536.0\n",
       "17445 2015-12-29  2536.0\n",
       "17508 2016-03-23  2536.0\n",
       "\n",
       "[259 rows x 2 columns]"
      ]
     },
     "execution_count": 26,
     "metadata": {},
     "output_type": "execute_result"
    }
   ],
   "source": [
    "df6_Guinea = df5[df5[\"Country\"] == \"Guinea\"]\n",
    "df6_Guinea.drop(columns=[\"Indicator\", \"Country\"], inplace=True)\n",
    "df6_Guinea = df6_Guinea.sort_values(\"Date\")\n",
    "df6_Guinea"
   ]
  },
  {
   "cell_type": "code",
   "execution_count": 27,
   "metadata": {},
   "outputs": [
    {
     "data": {
      "text/html": [
       "<div>\n",
       "<style scoped>\n",
       "    .dataframe tbody tr th:only-of-type {\n",
       "        vertical-align: middle;\n",
       "    }\n",
       "\n",
       "    .dataframe tbody tr th {\n",
       "        vertical-align: top;\n",
       "    }\n",
       "\n",
       "    .dataframe thead th {\n",
       "        text-align: right;\n",
       "    }\n",
       "</style>\n",
       "<table border=\"1\" class=\"dataframe\">\n",
       "  <thead>\n",
       "    <tr style=\"text-align: right;\">\n",
       "      <th></th>\n",
       "      <th>Date</th>\n",
       "      <th>value</th>\n",
       "      <th>shift</th>\n",
       "      <th>Value</th>\n",
       "    </tr>\n",
       "  </thead>\n",
       "  <tbody>\n",
       "    <tr>\n",
       "      <th>5137</th>\n",
       "      <td>2014-08-29</td>\n",
       "      <td>430.0</td>\n",
       "      <td>NaN</td>\n",
       "      <td>NaN</td>\n",
       "    </tr>\n",
       "    <tr>\n",
       "      <th>5017</th>\n",
       "      <td>2014-09-05</td>\n",
       "      <td>517.0</td>\n",
       "      <td>430.0</td>\n",
       "      <td>87.0</td>\n",
       "    </tr>\n",
       "    <tr>\n",
       "      <th>4908</th>\n",
       "      <td>2014-09-08</td>\n",
       "      <td>555.0</td>\n",
       "      <td>517.0</td>\n",
       "      <td>38.0</td>\n",
       "    </tr>\n",
       "    <tr>\n",
       "      <th>4809</th>\n",
       "      <td>2014-09-12</td>\n",
       "      <td>557.0</td>\n",
       "      <td>555.0</td>\n",
       "      <td>2.0</td>\n",
       "    </tr>\n",
       "    <tr>\n",
       "      <th>4709</th>\n",
       "      <td>2014-09-16</td>\n",
       "      <td>595.0</td>\n",
       "      <td>557.0</td>\n",
       "      <td>38.0</td>\n",
       "    </tr>\n",
       "    <tr>\n",
       "      <th>...</th>\n",
       "      <td>...</td>\n",
       "      <td>...</td>\n",
       "      <td>...</td>\n",
       "      <td>...</td>\n",
       "    </tr>\n",
       "    <tr>\n",
       "      <th>17212</th>\n",
       "      <td>2015-12-17</td>\n",
       "      <td>2536.0</td>\n",
       "      <td>2536.0</td>\n",
       "      <td>0.0</td>\n",
       "    </tr>\n",
       "    <tr>\n",
       "      <th>17302</th>\n",
       "      <td>2015-12-22</td>\n",
       "      <td>2536.0</td>\n",
       "      <td>2536.0</td>\n",
       "      <td>0.0</td>\n",
       "    </tr>\n",
       "    <tr>\n",
       "      <th>17356</th>\n",
       "      <td>2015-12-23</td>\n",
       "      <td>2536.0</td>\n",
       "      <td>2536.0</td>\n",
       "      <td>0.0</td>\n",
       "    </tr>\n",
       "    <tr>\n",
       "      <th>17445</th>\n",
       "      <td>2015-12-29</td>\n",
       "      <td>2536.0</td>\n",
       "      <td>2536.0</td>\n",
       "      <td>0.0</td>\n",
       "    </tr>\n",
       "    <tr>\n",
       "      <th>17508</th>\n",
       "      <td>2016-03-23</td>\n",
       "      <td>2536.0</td>\n",
       "      <td>2536.0</td>\n",
       "      <td>0.0</td>\n",
       "    </tr>\n",
       "  </tbody>\n",
       "</table>\n",
       "<p>259 rows × 4 columns</p>\n",
       "</div>"
      ],
      "text/plain": [
       "            Date   value   shift  Value\n",
       "5137  2014-08-29   430.0     NaN    NaN\n",
       "5017  2014-09-05   517.0   430.0   87.0\n",
       "4908  2014-09-08   555.0   517.0   38.0\n",
       "4809  2014-09-12   557.0   555.0    2.0\n",
       "4709  2014-09-16   595.0   557.0   38.0\n",
       "...          ...     ...     ...    ...\n",
       "17212 2015-12-17  2536.0  2536.0    0.0\n",
       "17302 2015-12-22  2536.0  2536.0    0.0\n",
       "17356 2015-12-23  2536.0  2536.0    0.0\n",
       "17445 2015-12-29  2536.0  2536.0    0.0\n",
       "17508 2016-03-23  2536.0  2536.0    0.0\n",
       "\n",
       "[259 rows x 4 columns]"
      ]
     },
     "execution_count": 27,
     "metadata": {},
     "output_type": "execute_result"
    }
   ],
   "source": [
    "df6_Guinea[\"shift\"] = df6_Guinea[\"value\"].shift()\n",
    "df6_Guinea[\"Value\"] = df6_Guinea[\"value\"] - df6_Guinea[\"shift\"]\n",
    "df6_Guinea"
   ]
  },
  {
   "cell_type": "code",
   "execution_count": 28,
   "metadata": {},
   "outputs": [
    {
     "data": {
      "text/html": [
       "<div>\n",
       "<style scoped>\n",
       "    .dataframe tbody tr th:only-of-type {\n",
       "        vertical-align: middle;\n",
       "    }\n",
       "\n",
       "    .dataframe tbody tr th {\n",
       "        vertical-align: top;\n",
       "    }\n",
       "\n",
       "    .dataframe thead th {\n",
       "        text-align: right;\n",
       "    }\n",
       "</style>\n",
       "<table border=\"1\" class=\"dataframe\">\n",
       "  <thead>\n",
       "    <tr style=\"text-align: right;\">\n",
       "      <th></th>\n",
       "      <th>Date</th>\n",
       "      <th>value</th>\n",
       "      <th>shift</th>\n",
       "      <th>Value</th>\n",
       "    </tr>\n",
       "  </thead>\n",
       "  <tbody>\n",
       "    <tr>\n",
       "      <th>7411</th>\n",
       "      <td>2015-05-13</td>\n",
       "      <td>2391.0</td>\n",
       "      <td>2392.0</td>\n",
       "      <td>-1.0</td>\n",
       "    </tr>\n",
       "  </tbody>\n",
       "</table>\n",
       "</div>"
      ],
      "text/plain": [
       "           Date   value   shift  Value\n",
       "7411 2015-05-13  2391.0  2392.0   -1.0"
      ]
     },
     "execution_count": 28,
     "metadata": {},
     "output_type": "execute_result"
    }
   ],
   "source": [
    "df6_Guinea[df6_Guinea[\"Value\"] < 0]"
   ]
  },
  {
   "cell_type": "code",
   "execution_count": null,
   "metadata": {},
   "outputs": [],
   "source": []
  },
  {
   "cell_type": "code",
   "execution_count": 29,
   "metadata": {},
   "outputs": [
    {
     "name": "stdout",
     "output_type": "stream",
     "text": [
      "2014-08-29 00:00:00\n",
      "2016-03-23 00:00:00\n"
     ]
    }
   ],
   "source": [
    "start = df6_Guinea[\"Date\"].min()\n",
    "end = df6_Guinea[\"Date\"].max()\n",
    "\n",
    "print(start)\n",
    "print(end)"
   ]
  },
  {
   "cell_type": "code",
   "execution_count": 30,
   "metadata": {},
   "outputs": [
    {
     "data": {
      "text/plain": [
       "0"
      ]
     },
     "execution_count": 30,
     "metadata": {},
     "output_type": "execute_result"
    }
   ],
   "source": [
    "df6_Guinea[\"Date\"].duplicated().sum()"
   ]
  },
  {
   "cell_type": "code",
   "execution_count": 31,
   "metadata": {},
   "outputs": [
    {
     "data": {
      "text/html": [
       "<div>\n",
       "<style scoped>\n",
       "    .dataframe tbody tr th:only-of-type {\n",
       "        vertical-align: middle;\n",
       "    }\n",
       "\n",
       "    .dataframe tbody tr th {\n",
       "        vertical-align: top;\n",
       "    }\n",
       "\n",
       "    .dataframe thead th {\n",
       "        text-align: right;\n",
       "    }\n",
       "</style>\n",
       "<table border=\"1\" class=\"dataframe\">\n",
       "  <thead>\n",
       "    <tr style=\"text-align: right;\">\n",
       "      <th></th>\n",
       "      <th>Date</th>\n",
       "      <th>value</th>\n",
       "      <th>shift</th>\n",
       "      <th>Value</th>\n",
       "    </tr>\n",
       "  </thead>\n",
       "  <tbody>\n",
       "    <tr>\n",
       "      <th>5137</th>\n",
       "      <td>2014-08-29</td>\n",
       "      <td>430.0</td>\n",
       "      <td>NaN</td>\n",
       "      <td>NaN</td>\n",
       "    </tr>\n",
       "    <tr>\n",
       "      <th>5017</th>\n",
       "      <td>2014-09-05</td>\n",
       "      <td>517.0</td>\n",
       "      <td>430.0</td>\n",
       "      <td>87.0</td>\n",
       "    </tr>\n",
       "    <tr>\n",
       "      <th>4908</th>\n",
       "      <td>2014-09-08</td>\n",
       "      <td>555.0</td>\n",
       "      <td>517.0</td>\n",
       "      <td>38.0</td>\n",
       "    </tr>\n",
       "    <tr>\n",
       "      <th>4809</th>\n",
       "      <td>2014-09-12</td>\n",
       "      <td>557.0</td>\n",
       "      <td>555.0</td>\n",
       "      <td>2.0</td>\n",
       "    </tr>\n",
       "    <tr>\n",
       "      <th>4709</th>\n",
       "      <td>2014-09-16</td>\n",
       "      <td>595.0</td>\n",
       "      <td>557.0</td>\n",
       "      <td>38.0</td>\n",
       "    </tr>\n",
       "  </tbody>\n",
       "</table>\n",
       "</div>"
      ],
      "text/plain": [
       "           Date  value  shift  Value\n",
       "5137 2014-08-29  430.0    NaN    NaN\n",
       "5017 2014-09-05  517.0  430.0   87.0\n",
       "4908 2014-09-08  555.0  517.0   38.0\n",
       "4809 2014-09-12  557.0  555.0    2.0\n",
       "4709 2014-09-16  595.0  557.0   38.0"
      ]
     },
     "execution_count": 31,
     "metadata": {},
     "output_type": "execute_result"
    }
   ],
   "source": [
    "df6_Guinea.head()"
   ]
  },
  {
   "cell_type": "code",
   "execution_count": 32,
   "metadata": {},
   "outputs": [
    {
     "data": {
      "text/plain": [
       "array(['2014-08-29', '2014-08-30', '2014-08-31', '2014-09-01',\n",
       "       '2014-09-02', '2014-09-03', '2014-09-04', '2014-09-05',\n",
       "       '2014-09-06', '2014-09-07', '2014-09-08', '2014-09-09',\n",
       "       '2014-09-10', '2014-09-11', '2014-09-12', '2014-09-13',\n",
       "       '2014-09-14', '2014-09-15', '2014-09-16', '2014-09-17',\n",
       "       '2014-09-18', '2014-09-19', '2014-09-20', '2014-09-21',\n",
       "       '2014-09-22', '2014-09-23', '2014-09-24', '2014-09-25',\n",
       "       '2014-09-26', '2014-09-27', '2014-09-28', '2014-09-29',\n",
       "       '2014-09-30', '2014-10-01', '2014-10-02', '2014-10-03',\n",
       "       '2014-10-04', '2014-10-05', '2014-10-06', '2014-10-07',\n",
       "       '2014-10-08', '2014-10-09', '2014-10-10', '2014-10-11',\n",
       "       '2014-10-12', '2014-10-13', '2014-10-14', '2014-10-15',\n",
       "       '2014-10-16', '2014-10-17', '2014-10-18', '2014-10-19',\n",
       "       '2014-10-20', '2014-10-21', '2014-10-22', '2014-10-23',\n",
       "       '2014-10-24', '2014-10-25', '2014-10-26', '2014-10-27',\n",
       "       '2014-10-28', '2014-10-29', '2014-10-30', '2014-10-31',\n",
       "       '2014-11-01', '2014-11-02', '2014-11-03', '2014-11-04',\n",
       "       '2014-11-05', '2014-11-06', '2014-11-07', '2014-11-08',\n",
       "       '2014-11-09', '2014-11-10', '2014-11-11', '2014-11-12',\n",
       "       '2014-11-13', '2014-11-14', '2014-11-15', '2014-11-16',\n",
       "       '2014-11-17', '2014-11-18', '2014-11-19', '2014-11-20',\n",
       "       '2014-11-21', '2014-11-22', '2014-11-23', '2014-11-24',\n",
       "       '2014-11-25', '2014-11-26', '2014-11-27', '2014-11-28',\n",
       "       '2014-11-29', '2014-11-30', '2014-12-01', '2014-12-02',\n",
       "       '2014-12-03', '2014-12-04', '2014-12-05', '2014-12-06',\n",
       "       '2014-12-07', '2014-12-08', '2014-12-09', '2014-12-10',\n",
       "       '2014-12-11', '2014-12-12', '2014-12-13', '2014-12-14',\n",
       "       '2014-12-15', '2014-12-16', '2014-12-17', '2014-12-18',\n",
       "       '2014-12-19', '2014-12-20', '2014-12-21', '2014-12-22',\n",
       "       '2014-12-23', '2014-12-24', '2014-12-25', '2014-12-26',\n",
       "       '2014-12-27', '2014-12-28', '2014-12-29', '2014-12-30',\n",
       "       '2014-12-31', '2015-01-01', '2015-01-02', '2015-01-03',\n",
       "       '2015-01-04', '2015-01-05', '2015-01-06', '2015-01-07',\n",
       "       '2015-01-08', '2015-01-09', '2015-01-10', '2015-01-11',\n",
       "       '2015-01-12', '2015-01-13', '2015-01-14', '2015-01-15',\n",
       "       '2015-01-16', '2015-01-17', '2015-01-18', '2015-01-19',\n",
       "       '2015-01-20', '2015-01-21', '2015-01-22', '2015-01-23',\n",
       "       '2015-01-24', '2015-01-25', '2015-01-26', '2015-01-27',\n",
       "       '2015-01-28', '2015-01-29', '2015-01-30', '2015-01-31',\n",
       "       '2015-02-01', '2015-02-02', '2015-02-03', '2015-02-04',\n",
       "       '2015-02-05', '2015-02-06', '2015-02-07', '2015-02-08',\n",
       "       '2015-02-09', '2015-02-10', '2015-02-11', '2015-02-12',\n",
       "       '2015-02-13', '2015-02-14', '2015-02-15', '2015-02-16',\n",
       "       '2015-02-17', '2015-02-18', '2015-02-19', '2015-02-20',\n",
       "       '2015-02-21', '2015-02-22', '2015-02-23', '2015-02-24',\n",
       "       '2015-02-25', '2015-02-26', '2015-02-27', '2015-02-28',\n",
       "       '2015-03-01', '2015-03-02', '2015-03-03', '2015-03-04',\n",
       "       '2015-03-05', '2015-03-06', '2015-03-07', '2015-03-08',\n",
       "       '2015-03-09', '2015-03-10', '2015-03-11', '2015-03-12',\n",
       "       '2015-03-13', '2015-03-14', '2015-03-15', '2015-03-16',\n",
       "       '2015-03-17', '2015-03-18', '2015-03-19', '2015-03-20',\n",
       "       '2015-03-21', '2015-03-22', '2015-03-23', '2015-03-24',\n",
       "       '2015-03-25', '2015-03-26', '2015-03-27', '2015-03-28',\n",
       "       '2015-03-29', '2015-03-30', '2015-03-31', '2015-04-01',\n",
       "       '2015-04-02', '2015-04-03', '2015-04-04', '2015-04-05',\n",
       "       '2015-04-06', '2015-04-07', '2015-04-08', '2015-04-09',\n",
       "       '2015-04-10', '2015-04-11', '2015-04-12', '2015-04-13',\n",
       "       '2015-04-14', '2015-04-15', '2015-04-16', '2015-04-17',\n",
       "       '2015-04-18', '2015-04-19', '2015-04-20', '2015-04-21',\n",
       "       '2015-04-22', '2015-04-23', '2015-04-24', '2015-04-25',\n",
       "       '2015-04-26', '2015-04-27', '2015-04-28', '2015-04-29',\n",
       "       '2015-04-30', '2015-05-01', '2015-05-02', '2015-05-03',\n",
       "       '2015-05-04', '2015-05-05', '2015-05-06', '2015-05-07',\n",
       "       '2015-05-08', '2015-05-09', '2015-05-10', '2015-05-11',\n",
       "       '2015-05-12', '2015-05-13', '2015-05-14', '2015-05-15',\n",
       "       '2015-05-16', '2015-05-17', '2015-05-18', '2015-05-19',\n",
       "       '2015-05-20', '2015-05-21', '2015-05-22', '2015-05-23',\n",
       "       '2015-05-24', '2015-05-25', '2015-05-26', '2015-05-27',\n",
       "       '2015-05-28', '2015-05-29', '2015-05-30', '2015-05-31',\n",
       "       '2015-06-01', '2015-06-02', '2015-06-03', '2015-06-04',\n",
       "       '2015-06-05', '2015-06-06', '2015-06-07', '2015-06-08',\n",
       "       '2015-06-09', '2015-06-10', '2015-06-11', '2015-06-12',\n",
       "       '2015-06-13', '2015-06-14', '2015-06-15', '2015-06-16',\n",
       "       '2015-06-17', '2015-06-18', '2015-06-19', '2015-06-20',\n",
       "       '2015-06-21', '2015-06-22', '2015-06-23', '2015-06-24',\n",
       "       '2015-06-25', '2015-06-26', '2015-06-27', '2015-06-28',\n",
       "       '2015-06-29', '2015-06-30', '2015-07-01', '2015-07-02',\n",
       "       '2015-07-03', '2015-07-04', '2015-07-05', '2015-07-06',\n",
       "       '2015-07-07', '2015-07-08', '2015-07-09', '2015-07-10',\n",
       "       '2015-07-11', '2015-07-12', '2015-07-13', '2015-07-14',\n",
       "       '2015-07-15', '2015-07-16', '2015-07-17', '2015-07-18',\n",
       "       '2015-07-19', '2015-07-20', '2015-07-21', '2015-07-22',\n",
       "       '2015-07-23', '2015-07-24', '2015-07-25', '2015-07-26',\n",
       "       '2015-07-27', '2015-07-28', '2015-07-29', '2015-07-30',\n",
       "       '2015-07-31', '2015-08-01', '2015-08-02', '2015-08-03',\n",
       "       '2015-08-04', '2015-08-05', '2015-08-06', '2015-08-07',\n",
       "       '2015-08-08', '2015-08-09', '2015-08-10', '2015-08-11',\n",
       "       '2015-08-12', '2015-08-13', '2015-08-14', '2015-08-15',\n",
       "       '2015-08-16', '2015-08-17', '2015-08-18', '2015-08-19',\n",
       "       '2015-08-20', '2015-08-21', '2015-08-22', '2015-08-23',\n",
       "       '2015-08-24', '2015-08-25', '2015-08-26', '2015-08-27',\n",
       "       '2015-08-28', '2015-08-29', '2015-08-30', '2015-08-31',\n",
       "       '2015-09-01', '2015-09-02', '2015-09-03', '2015-09-04',\n",
       "       '2015-09-05', '2015-09-06', '2015-09-07', '2015-09-08',\n",
       "       '2015-09-09', '2015-09-10', '2015-09-11', '2015-09-12',\n",
       "       '2015-09-13', '2015-09-14', '2015-09-15', '2015-09-16',\n",
       "       '2015-09-17', '2015-09-18', '2015-09-19', '2015-09-20',\n",
       "       '2015-09-21', '2015-09-22', '2015-09-23', '2015-09-24',\n",
       "       '2015-09-25', '2015-09-26', '2015-09-27', '2015-09-28',\n",
       "       '2015-09-29', '2015-09-30', '2015-10-01', '2015-10-02',\n",
       "       '2015-10-03', '2015-10-04', '2015-10-05', '2015-10-06',\n",
       "       '2015-10-07', '2015-10-08', '2015-10-09', '2015-10-10',\n",
       "       '2015-10-11', '2015-10-12', '2015-10-13', '2015-10-14',\n",
       "       '2015-10-15', '2015-10-16', '2015-10-17', '2015-10-18',\n",
       "       '2015-10-19', '2015-10-20', '2015-10-21', '2015-10-22',\n",
       "       '2015-10-23', '2015-10-24', '2015-10-25', '2015-10-26',\n",
       "       '2015-10-27', '2015-10-28', '2015-10-29', '2015-10-30',\n",
       "       '2015-10-31', '2015-11-01', '2015-11-02', '2015-11-03',\n",
       "       '2015-11-04', '2015-11-05', '2015-11-06', '2015-11-07',\n",
       "       '2015-11-08', '2015-11-09', '2015-11-10', '2015-11-11',\n",
       "       '2015-11-12', '2015-11-13', '2015-11-14', '2015-11-15',\n",
       "       '2015-11-16', '2015-11-17', '2015-11-18', '2015-11-19',\n",
       "       '2015-11-20', '2015-11-21', '2015-11-22', '2015-11-23',\n",
       "       '2015-11-24', '2015-11-25', '2015-11-26', '2015-11-27',\n",
       "       '2015-11-28', '2015-11-29', '2015-11-30', '2015-12-01',\n",
       "       '2015-12-02', '2015-12-03', '2015-12-04', '2015-12-05',\n",
       "       '2015-12-06', '2015-12-07', '2015-12-08', '2015-12-09',\n",
       "       '2015-12-10', '2015-12-11', '2015-12-12', '2015-12-13',\n",
       "       '2015-12-14', '2015-12-15', '2015-12-16', '2015-12-17',\n",
       "       '2015-12-18', '2015-12-19', '2015-12-20', '2015-12-21',\n",
       "       '2015-12-22', '2015-12-23', '2015-12-24', '2015-12-25',\n",
       "       '2015-12-26', '2015-12-27', '2015-12-28', '2015-12-29',\n",
       "       '2015-12-30', '2015-12-31', '2016-01-01', '2016-01-02',\n",
       "       '2016-01-03', '2016-01-04', '2016-01-05', '2016-01-06',\n",
       "       '2016-01-07', '2016-01-08', '2016-01-09', '2016-01-10',\n",
       "       '2016-01-11', '2016-01-12', '2016-01-13', '2016-01-14',\n",
       "       '2016-01-15', '2016-01-16', '2016-01-17', '2016-01-18',\n",
       "       '2016-01-19', '2016-01-20', '2016-01-21', '2016-01-22',\n",
       "       '2016-01-23', '2016-01-24', '2016-01-25', '2016-01-26',\n",
       "       '2016-01-27', '2016-01-28', '2016-01-29', '2016-01-30',\n",
       "       '2016-01-31', '2016-02-01', '2016-02-02', '2016-02-03',\n",
       "       '2016-02-04', '2016-02-05', '2016-02-06', '2016-02-07',\n",
       "       '2016-02-08', '2016-02-09', '2016-02-10', '2016-02-11',\n",
       "       '2016-02-12', '2016-02-13', '2016-02-14', '2016-02-15',\n",
       "       '2016-02-16', '2016-02-17', '2016-02-18', '2016-02-19',\n",
       "       '2016-02-20', '2016-02-21', '2016-02-22', '2016-02-23',\n",
       "       '2016-02-24', '2016-02-25', '2016-02-26', '2016-02-27',\n",
       "       '2016-02-28', '2016-02-29', '2016-03-01', '2016-03-02',\n",
       "       '2016-03-03', '2016-03-04', '2016-03-05', '2016-03-06',\n",
       "       '2016-03-07', '2016-03-08', '2016-03-09', '2016-03-10',\n",
       "       '2016-03-11', '2016-03-12', '2016-03-13', '2016-03-14',\n",
       "       '2016-03-15', '2016-03-16', '2016-03-17', '2016-03-18',\n",
       "       '2016-03-19', '2016-03-20', '2016-03-21', '2016-03-22',\n",
       "       '2016-03-23'], dtype='datetime64[D]')"
      ]
     },
     "execution_count": 32,
     "metadata": {},
     "output_type": "execute_result"
    }
   ],
   "source": [
    "timestamps = np.arange(start, end + np.timedelta64(1, 'D'), dtype='datetime64[D]')\n",
    "timestamps"
   ]
  },
  {
   "cell_type": "code",
   "execution_count": null,
   "metadata": {},
   "outputs": [],
   "source": []
  },
  {
   "cell_type": "code",
   "execution_count": 33,
   "metadata": {},
   "outputs": [],
   "source": [
    "df_waktu = pd.DataFrame({\n",
    "    \"Date\" : timestamps\n",
    "})\n",
    "\n",
    "df6_Guinea = pd.merge(df_waktu, df6_Guinea, on=\"Date\", how=\"left\")"
   ]
  },
  {
   "cell_type": "code",
   "execution_count": 34,
   "metadata": {},
   "outputs": [
    {
     "data": {
      "image/png": "[encoded data removed]",
      "text/plain": [
       "<Figure size 640x480 with 1 Axes>"
      ]
     },
     "metadata": {},
     "output_type": "display_data"
    }
   ],
   "source": [
    "df6_Guinea.set_index(\"Date\", inplace=True)\n",
    "sns.scatterplot(df6_Guinea[\"value\"])\n",
    "plt.xticks(rotation=45)\n",
    "plt.show()"
   ]
  },
  {
   "cell_type": "code",
   "execution_count": 35,
   "metadata": {},
   "outputs": [
    {
     "data": {
      "image/png": "[encoded data removed]",
      "text/plain": [
       "<Figure size 640x480 with 1 Axes>"
      ]
     },
     "metadata": {},
     "output_type": "display_data"
    }
   ],
   "source": [
    "df2_Guinea.interpolate(method=\"linear\", inplace=True)\n",
    "df2_Guinea[\"value\"] = df2_Guinea[\"value\"].round(0)\n",
    "sns.scatterplot(df2_Guinea[\"value\"])\n",
    "plt.xticks(rotation=45)\n",
    "plt.show()"
   ]
  },
  {
   "cell_type": "code",
   "execution_count": 36,
   "metadata": {},
   "outputs": [
    {
     "data": {
      "text/html": [
       "<div>\n",
       "<style scoped>\n",
       "    .dataframe tbody tr th:only-of-type {\n",
       "        vertical-align: middle;\n",
       "    }\n",
       "\n",
       "    .dataframe tbody tr th {\n",
       "        vertical-align: top;\n",
       "    }\n",
       "\n",
       "    .dataframe thead th {\n",
       "        text-align: right;\n",
       "    }\n",
       "</style>\n",
       "<table border=\"1\" class=\"dataframe\">\n",
       "  <thead>\n",
       "    <tr style=\"text-align: right;\">\n",
       "      <th></th>\n",
       "      <th>value</th>\n",
       "      <th>shift</th>\n",
       "      <th>Value</th>\n",
       "    </tr>\n",
       "    <tr>\n",
       "      <th>Date</th>\n",
       "      <th></th>\n",
       "      <th></th>\n",
       "      <th></th>\n",
       "    </tr>\n",
       "  </thead>\n",
       "  <tbody>\n",
       "    <tr>\n",
       "      <th>2014-08-29</th>\n",
       "      <td>430.0</td>\n",
       "      <td>NaN</td>\n",
       "      <td>NaN</td>\n",
       "    </tr>\n",
       "    <tr>\n",
       "      <th>2014-08-30</th>\n",
       "      <td>NaN</td>\n",
       "      <td>430.0</td>\n",
       "      <td>NaN</td>\n",
       "    </tr>\n",
       "    <tr>\n",
       "      <th>2014-08-31</th>\n",
       "      <td>NaN</td>\n",
       "      <td>NaN</td>\n",
       "      <td>NaN</td>\n",
       "    </tr>\n",
       "    <tr>\n",
       "      <th>2014-09-01</th>\n",
       "      <td>NaN</td>\n",
       "      <td>NaN</td>\n",
       "      <td>NaN</td>\n",
       "    </tr>\n",
       "    <tr>\n",
       "      <th>2014-09-02</th>\n",
       "      <td>NaN</td>\n",
       "      <td>NaN</td>\n",
       "      <td>NaN</td>\n",
       "    </tr>\n",
       "    <tr>\n",
       "      <th>...</th>\n",
       "      <td>...</td>\n",
       "      <td>...</td>\n",
       "      <td>...</td>\n",
       "    </tr>\n",
       "    <tr>\n",
       "      <th>2016-03-19</th>\n",
       "      <td>NaN</td>\n",
       "      <td>NaN</td>\n",
       "      <td>NaN</td>\n",
       "    </tr>\n",
       "    <tr>\n",
       "      <th>2016-03-20</th>\n",
       "      <td>NaN</td>\n",
       "      <td>NaN</td>\n",
       "      <td>NaN</td>\n",
       "    </tr>\n",
       "    <tr>\n",
       "      <th>2016-03-21</th>\n",
       "      <td>NaN</td>\n",
       "      <td>NaN</td>\n",
       "      <td>NaN</td>\n",
       "    </tr>\n",
       "    <tr>\n",
       "      <th>2016-03-22</th>\n",
       "      <td>NaN</td>\n",
       "      <td>NaN</td>\n",
       "      <td>NaN</td>\n",
       "    </tr>\n",
       "    <tr>\n",
       "      <th>2016-03-23</th>\n",
       "      <td>2536.0</td>\n",
       "      <td>NaN</td>\n",
       "      <td>NaN</td>\n",
       "    </tr>\n",
       "  </tbody>\n",
       "</table>\n",
       "<p>573 rows × 3 columns</p>\n",
       "</div>"
      ],
      "text/plain": [
       "             value  shift  Value\n",
       "Date                            \n",
       "2014-08-29   430.0    NaN    NaN\n",
       "2014-08-30     NaN  430.0    NaN\n",
       "2014-08-31     NaN    NaN    NaN\n",
       "2014-09-01     NaN    NaN    NaN\n",
       "2014-09-02     NaN    NaN    NaN\n",
       "...            ...    ...    ...\n",
       "2016-03-19     NaN    NaN    NaN\n",
       "2016-03-20     NaN    NaN    NaN\n",
       "2016-03-21     NaN    NaN    NaN\n",
       "2016-03-22     NaN    NaN    NaN\n",
       "2016-03-23  2536.0    NaN    NaN\n",
       "\n",
       "[573 rows x 3 columns]"
      ]
     },
     "execution_count": 36,
     "metadata": {},
     "output_type": "execute_result"
    }
   ],
   "source": [
    "df6_Guinea[\"shift\"] = df6_Guinea[\"value\"].shift()\n",
    "df6_Guinea[\"Value\"] = df6_Guinea[\"value\"] - df6_Guinea[\"shift\"]\n",
    "df6_Guinea"
   ]
  },
  {
   "cell_type": "code",
   "execution_count": 37,
   "metadata": {},
   "outputs": [
    {
     "data": {
      "text/html": [
       "<div>\n",
       "<style scoped>\n",
       "    .dataframe tbody tr th:only-of-type {\n",
       "        vertical-align: middle;\n",
       "    }\n",
       "\n",
       "    .dataframe tbody tr th {\n",
       "        vertical-align: top;\n",
       "    }\n",
       "\n",
       "    .dataframe thead th {\n",
       "        text-align: right;\n",
       "    }\n",
       "</style>\n",
       "<table border=\"1\" class=\"dataframe\">\n",
       "  <thead>\n",
       "    <tr style=\"text-align: right;\">\n",
       "      <th></th>\n",
       "      <th>value</th>\n",
       "      <th>shift</th>\n",
       "      <th>Value</th>\n",
       "    </tr>\n",
       "    <tr>\n",
       "      <th>Date</th>\n",
       "      <th></th>\n",
       "      <th></th>\n",
       "      <th></th>\n",
       "    </tr>\n",
       "  </thead>\n",
       "  <tbody>\n",
       "    <tr>\n",
       "      <th>2015-05-13</th>\n",
       "      <td>2391.0</td>\n",
       "      <td>2392.0</td>\n",
       "      <td>-1.0</td>\n",
       "    </tr>\n",
       "  </tbody>\n",
       "</table>\n",
       "</div>"
      ],
      "text/plain": [
       "             value   shift  Value\n",
       "Date                             \n",
       "2015-05-13  2391.0  2392.0   -1.0"
      ]
     },
     "execution_count": 37,
     "metadata": {},
     "output_type": "execute_result"
    }
   ],
   "source": [
    "df6_Guinea[df6_Guinea[\"Value\"] < 0]"
   ]
  },
  {
   "cell_type": "code",
   "execution_count": 38,
   "metadata": {},
   "outputs": [
    {
     "data": {
      "image/png": "[encoded data removed]",
      "text/plain": [
       "<Figure size 640x480 with 1 Axes>"
      ]
     },
     "metadata": {},
     "output_type": "display_data"
    }
   ],
   "source": [
    "sns.lineplot(df6_Guinea[\"Value\"])\n",
    "plt.xticks(rotation=45)\n",
    "plt.show()"
   ]
  },
  {
   "cell_type": "code",
   "execution_count": 42,
   "metadata": {},
   "outputs": [
    {
     "data": {
      "text/html": [
       "<div>\n",
       "<style scoped>\n",
       "    .dataframe tbody tr th:only-of-type {\n",
       "        vertical-align: middle;\n",
       "    }\n",
       "\n",
       "    .dataframe tbody tr th {\n",
       "        vertical-align: top;\n",
       "    }\n",
       "\n",
       "    .dataframe thead th {\n",
       "        text-align: right;\n",
       "    }\n",
       "</style>\n",
       "<table border=\"1\" class=\"dataframe\">\n",
       "  <thead>\n",
       "    <tr style=\"text-align: right;\">\n",
       "      <th></th>\n",
       "      <th>Date</th>\n",
       "      <th>Value</th>\n",
       "    </tr>\n",
       "  </thead>\n",
       "  <tbody>\n",
       "    <tr>\n",
       "      <th>0</th>\n",
       "      <td>2015-02-12</td>\n",
       "      <td>23.0</td>\n",
       "    </tr>\n",
       "    <tr>\n",
       "      <th>1</th>\n",
       "      <td>2014-12-23</td>\n",
       "      <td>21.0</td>\n",
       "    </tr>\n",
       "    <tr>\n",
       "      <th>2</th>\n",
       "      <td>2015-03-12</td>\n",
       "      <td>17.0</td>\n",
       "    </tr>\n",
       "    <tr>\n",
       "      <th>3</th>\n",
       "      <td>2015-06-23</td>\n",
       "      <td>17.0</td>\n",
       "    </tr>\n",
       "    <tr>\n",
       "      <th>4</th>\n",
       "      <td>2015-01-06</td>\n",
       "      <td>14.0</td>\n",
       "    </tr>\n",
       "    <tr>\n",
       "      <th>5</th>\n",
       "      <td>2015-02-13</td>\n",
       "      <td>14.0</td>\n",
       "    </tr>\n",
       "    <tr>\n",
       "      <th>6</th>\n",
       "      <td>2015-03-05</td>\n",
       "      <td>14.0</td>\n",
       "    </tr>\n",
       "    <tr>\n",
       "      <th>7</th>\n",
       "      <td>2015-02-27</td>\n",
       "      <td>12.0</td>\n",
       "    </tr>\n",
       "    <tr>\n",
       "      <th>8</th>\n",
       "      <td>2014-12-30</td>\n",
       "      <td>11.0</td>\n",
       "    </tr>\n",
       "    <tr>\n",
       "      <th>9</th>\n",
       "      <td>2015-01-09</td>\n",
       "      <td>11.0</td>\n",
       "    </tr>\n",
       "  </tbody>\n",
       "</table>\n",
       "</div>"
      ],
      "text/plain": [
       "        Date  Value\n",
       "0 2015-02-12   23.0\n",
       "1 2014-12-23   21.0\n",
       "2 2015-03-12   17.0\n",
       "3 2015-06-23   17.0\n",
       "4 2015-01-06   14.0\n",
       "5 2015-02-13   14.0\n",
       "6 2015-03-05   14.0\n",
       "7 2015-02-27   12.0\n",
       "8 2014-12-30   11.0\n",
       "9 2015-01-09   11.0"
      ]
     },
     "execution_count": 42,
     "metadata": {},
     "output_type": "execute_result"
    }
   ],
   "source": [
    "sorted_df6 = df6_Guinea[\"Value\"].sort_values(ascending=False)\n",
    "top_5 = sorted_df6.head(10)\n",
    "top_5 = pd.DataFrame(top_5).reset_index()\n",
    "top_5['Date'] = pd.to_datetime(top_5[\"Date\"], format = \"%Y-%m-%d\")\n",
    "top_5"
   ]
  },
  {
   "cell_type": "code",
   "execution_count": 43,
   "metadata": {},
   "outputs": [
    {
     "data": {
      "image/png": "[encoded data removed]",
      "text/plain": [
       "<Figure size 640x480 with 1 Axes>"
      ]
     },
     "metadata": {},
     "output_type": "display_data"
    }
   ],
   "source": [
    "ax = sns.barplot(x=top_5['Date'], y=top_5['Value'])\n",
    "plt.xticks(rotation=45)\n",
    "\n",
    "for p in ax.patches:\n",
    "    ax.annotate(f'{p.get_height():.1f}', \n",
    "                (p.get_x() + p.get_width() / 2., p.get_height()), \n",
    "                ha='center', va='bottom')\n",
    "\n",
    "plt.show()"
   ]
  },
  {
   "cell_type": "code",
   "execution_count": 48,
   "metadata": {},
   "outputs": [
    {
     "data": {
      "text/html": [
       "<div>\n",
       "<style scoped>\n",
       "    .dataframe tbody tr th:only-of-type {\n",
       "        vertical-align: middle;\n",
       "    }\n",
       "\n",
       "    .dataframe tbody tr th {\n",
       "        vertical-align: top;\n",
       "    }\n",
       "\n",
       "    .dataframe thead th {\n",
       "        text-align: right;\n",
       "    }\n",
       "</style>\n",
       "<table border=\"1\" class=\"dataframe\">\n",
       "  <thead>\n",
       "    <tr style=\"text-align: right;\">\n",
       "      <th></th>\n",
       "      <th>Country</th>\n",
       "      <th>min</th>\n",
       "      <th>max</th>\n",
       "    </tr>\n",
       "  </thead>\n",
       "  <tbody>\n",
       "    <tr>\n",
       "      <th>0</th>\n",
       "      <td>Guinea</td>\n",
       "      <td>2014-08-29</td>\n",
       "      <td>2016-03-23</td>\n",
       "    </tr>\n",
       "    <tr>\n",
       "      <th>1</th>\n",
       "      <td>Guinea 2</td>\n",
       "      <td>2016-03-23</td>\n",
       "      <td>2016-03-23</td>\n",
       "    </tr>\n",
       "    <tr>\n",
       "      <th>2</th>\n",
       "      <td>Italy</td>\n",
       "      <td>2015-05-14</td>\n",
       "      <td>2016-03-23</td>\n",
       "    </tr>\n",
       "    <tr>\n",
       "      <th>3</th>\n",
       "      <td>Liberia</td>\n",
       "      <td>2014-08-29</td>\n",
       "      <td>2016-03-23</td>\n",
       "    </tr>\n",
       "    <tr>\n",
       "      <th>4</th>\n",
       "      <td>Liberia 2</td>\n",
       "      <td>2015-07-03</td>\n",
       "      <td>2016-03-23</td>\n",
       "    </tr>\n",
       "    <tr>\n",
       "      <th>5</th>\n",
       "      <td>Mali</td>\n",
       "      <td>2014-10-25</td>\n",
       "      <td>2016-03-23</td>\n",
       "    </tr>\n",
       "    <tr>\n",
       "      <th>6</th>\n",
       "      <td>Nigeria</td>\n",
       "      <td>2014-08-29</td>\n",
       "      <td>2016-03-23</td>\n",
       "    </tr>\n",
       "    <tr>\n",
       "      <th>7</th>\n",
       "      <td>Senegal</td>\n",
       "      <td>2014-09-05</td>\n",
       "      <td>2016-03-23</td>\n",
       "    </tr>\n",
       "    <tr>\n",
       "      <th>8</th>\n",
       "      <td>Sierra Leone</td>\n",
       "      <td>2014-08-29</td>\n",
       "      <td>2016-03-23</td>\n",
       "    </tr>\n",
       "    <tr>\n",
       "      <th>9</th>\n",
       "      <td>Spain</td>\n",
       "      <td>2014-10-10</td>\n",
       "      <td>2016-03-23</td>\n",
       "    </tr>\n",
       "    <tr>\n",
       "      <th>10</th>\n",
       "      <td>United Kingdom</td>\n",
       "      <td>2015-01-02</td>\n",
       "      <td>2016-03-23</td>\n",
       "    </tr>\n",
       "    <tr>\n",
       "      <th>11</th>\n",
       "      <td>United States of America</td>\n",
       "      <td>2014-10-03</td>\n",
       "      <td>2016-03-23</td>\n",
       "    </tr>\n",
       "  </tbody>\n",
       "</table>\n",
       "</div>"
      ],
      "text/plain": [
       "                     Country        min        max\n",
       "0                     Guinea 2014-08-29 2016-03-23\n",
       "1                   Guinea 2 2016-03-23 2016-03-23\n",
       "2                      Italy 2015-05-14 2016-03-23\n",
       "3                    Liberia 2014-08-29 2016-03-23\n",
       "4                  Liberia 2 2015-07-03 2016-03-23\n",
       "5                       Mali 2014-10-25 2016-03-23\n",
       "6                    Nigeria 2014-08-29 2016-03-23\n",
       "7                    Senegal 2014-09-05 2016-03-23\n",
       "8               Sierra Leone 2014-08-29 2016-03-23\n",
       "9                      Spain 2014-10-10 2016-03-23\n",
       "10            United Kingdom 2015-01-02 2016-03-23\n",
       "11  United States of America 2014-10-03 2016-03-23"
      ]
     },
     "execution_count": 48,
     "metadata": {},
     "output_type": "execute_result"
    }
   ],
   "source": [
    "date_range = df.groupby('Country')['Date'].agg(['min', 'max']).reset_index()\n",
    "date_range"
   ]
  },
  {
   "cell_type": "code",
   "execution_count": 51,
   "metadata": {},
   "outputs": [],
   "source": [
    "max_min = date_range['min'].max()\n",
    "min_max = date_range['max'].min()"
   ]
  },
  {
   "cell_type": "code",
   "execution_count": 55,
   "metadata": {},
   "outputs": [],
   "source": [
    "filtered_df = df[(df['Date'] >= max_min) & (df['Date'] <= min_max)]\n",
    "result = filtered_df.groupby('Country')['value'].sum().reset_index()\n",
    "top_10 = result.head(10)"
   ]
  },
  {
   "cell_type": "code",
   "execution_count": 61,
   "metadata": {},
   "outputs": [
    {
     "data": {
      "image/png": "[encoded data removed]",
      "text/plain": [
       "<Figure size 640x480 with 1 Axes>"
      ]
     },
     "metadata": {},
     "output_type": "display_data"
    }
   ],
   "source": [
    "top_10_sorted = top_10.sort_values(by='value', ascending=False)\n",
    "\n",
    "ax = sns.barplot(x=top_10_sorted['Country'], y=top_10_sorted['value'])\n",
    "plt.xticks(rotation=45)\n",
    "\n",
    "for p in ax.patches:\n",
    "    ax.annotate(f'{p.get_height():.1f}', \n",
    "                (p.get_x() + p.get_width() / 2., p.get_height()), \n",
    "                ha='center', va='bottom')\n",
    "\n",
    "plt.show()"
   ]
  },
  {
   "cell_type": "code",
   "execution_count": null,
   "metadata": {},
   "outputs": [],
   "source": []
  }
 ],
 "metadata": {
  "kernelspec": {
   "display_name": "base",
   "language": "python",
   "name": "python3"
  },
  "language_info": {
   "codemirror_mode": {
    "name": "ipython",
    "version": 3
   },
   "file_extension": ".py",
   "mimetype": "text/x-python",
   "name": "python",
   "nbconvert_exporter": "python",
   "pygments_lexer": "ipython3",
   "version": "3.11.7"
  }
 },
 "nbformat": 4,
 "nbformat_minor": 2
}
